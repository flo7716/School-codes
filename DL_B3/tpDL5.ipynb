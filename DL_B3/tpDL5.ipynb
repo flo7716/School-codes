{
  "cells": [
    {
      "cell_type": "markdown",
      "id": "e7d3a3d0",
      "metadata": {
        "id": "e7d3a3d0"
      },
      "source": [
        "\n",
        "<a id='chap-tpdeeplearning5'></a>"
      ]
    },
    {
      "cell_type": "code",
      "execution_count": 5,
      "id": "289ced02-72b3-45c8-a60b-1d789224d1b1",
      "metadata": {
        "colab": {
          "base_uri": "https://localhost:8080/"
        },
        "id": "289ced02-72b3-45c8-a60b-1d789224d1b1",
        "outputId": "2cbdc44b-0876-417f-a06f-ae7564539656"
      },
      "outputs": [
        {
          "name": "stdout",
          "output_type": "stream",
          "text": [
            "True\n",
            "[]\n"
          ]
        }
      ],
      "source": [
        "import tensorflow as tf\n",
        "print(tf.test.is_built_with_cuda())  # Should return True\n",
        "print(tf.config.list_physical_devices('GPU'))"
      ]
    },
    {
      "cell_type": "markdown",
      "id": "715887eb",
      "metadata": {
        "id": "715887eb"
      },
      "source": [
        "# Travaux pratiques - RNN pour la génération de texte\n",
        "\n",
        "L’objectif de cette séance de travaux pratiques est d’illustrer la mise\n",
        "en application des réseaux de neurones récurrents sur des données\n",
        "séquentielles. En particulier, nous allons nous intéresser aux modèles\n",
        "auto-régressifs pour la génération de texte."
      ]
    },
    {
      "cell_type": "markdown",
      "id": "6d6c4253",
      "metadata": {
        "id": "6d6c4253"
      },
      "source": [
        "## Génération de poésie\n",
        "\n",
        "Une première application des réseaux de neurones récurents est la\n",
        "génération de texte. Pour démarrer, nous allons extraire les textes d’un\n",
        "recueil de poésies, « Les fleurs du mal » (1857) de l’écrivain [Charles\n",
        "Baudelaire](https://fr.wikipedia.org/wiki/Charles_Baudelaire)\n",
        "(1821-1867). Cet ensemble de textes va constituer notre corpus\n",
        "d’entraînement."
      ]
    },
    {
      "cell_type": "markdown",
      "id": "6964c3e2",
      "metadata": {
        "id": "6964c3e2"
      },
      "source": [
        "Dans notre application, nous nous intéressons à la génération de texte\n",
        "au travers de la *prédiction du mot suivant*. En considérant un texte\n",
        "comme une suite de mots $ (x_1, x_2, ..., x_m) $, nous allons\n",
        "entraîner un réseau de neurones récurrent de sorte à prédire le bon mot\n",
        "$ x_n $ à partir des mots $ (x_1, x_2, ..., x_{n-1}) $ qui le\n",
        "précèdent dans une phrase."
      ]
    },
    {
      "cell_type": "markdown",
      "id": "d25a78fa",
      "metadata": {
        "id": "d25a78fa"
      },
      "source": [
        "### Création du jeu de données d’entraînement\n",
        "\n",
        "Le code ci-dessous va nous servir à générer les données et les\n",
        "étiquettes correspondantes. On va commencer par parser le ficher\n",
        "d’entrée pour récupérer le texte et effectuer quelques pré-traitements\n",
        "simples:"
      ]
    },
    {
      "cell_type": "code",
      "execution_count": 1,
      "id": "22bdc95e",
      "metadata": {
        "colab": {
          "base_uri": "https://localhost:8080/",
          "height": 216
        },
        "hide-output": false,
        "id": "22bdc95e",
        "outputId": "131291cf-147b-4e6a-c4f5-9206c7a0bf74"
      },
      "outputs": [],
      "source": [
        "# Lire le fichier texte et ajouter toutes les lignes dans une liste\n",
        "with open(\"fleurs_mal.txt\", 'r' , encoding = 'utf8') as f:\n",
        "    lines = f.readlines()\n",
        "\n",
        "for idx, line in enumerate(lines):\n",
        "    if \"Charles Baudelaire avait un ami\" in line:\n",
        "        first_line = idx\n",
        "    if \"End of the Project Gutenberg EBook of Les Fleurs du Mal, by Charles Baudelaire\" in line:\n",
        "        last_line = idx\n",
        "\n",
        "lines = lines[first_line:last_line]\n",
        "lines = [l.lower().strip().replace('_', '') for l in lines if len(l) > 1]\n",
        "text = \" \".join(lines)"
      ]
    },
    {
      "cell_type": "code",
      "execution_count": 2,
      "id": "4bb5691f",
      "metadata": {
        "hide-output": false,
        "id": "4bb5691f"
      },
      "outputs": [],
      "source": [
        "characters = sorted(set(text))\n",
        "n_characters = len(characters)"
      ]
    },
    {
      "cell_type": "code",
      "execution_count": 3,
      "id": "f4ed00ea-deb0-4f1f-a270-385be99fc3cf",
      "metadata": {
        "id": "f4ed00ea-deb0-4f1f-a270-385be99fc3cf",
        "outputId": "7e2ec736-71b6-4c8f-c4a2-6b48c622f7b8"
      },
      "outputs": [
        {
          "data": {
            "text/plain": [
              "\"charles baudelaire avait un ami, auguste poulet-malassis, ancien élève de l'école des chartes, qui s'était fait éditeur par goût pour les raffinements typographiques et pour la littérature qu'il jugeait en érudit et en artiste beaucoup plus qu'en commerçant;\""
            ]
          },
          "execution_count": 3,
          "metadata": {},
          "output_type": "execute_result"
        }
      ],
      "source": [
        "text[:258]"
      ]
    },
    {
      "cell_type": "markdown",
      "id": "33538e9c",
      "metadata": {
        "id": "33538e9c"
      },
      "source": [
        "### Question\n",
        "\n",
        "Que contient la variable `characters` ? Que représente\n",
        "`n_characters` ? La documentation des\n",
        "[Set](https://docs.python.org/fr/3/tutorial/datastructures.html#sets)\n",
        "en Python peut vous aider.\n",
        "\n",
        "Dans la suite de ce TP, nous allons considérer le texte comme une suite\n",
        "de caractères. Nous n’allons donc pas raisonner au niveau du mot mais au\n",
        "niveau du symbole. Chaque caractère du texte d’entrée sera représenté en\n",
        "entrée du réseau de neurones par un encodage *one-hot* sur le\n",
        "dictionnaire de symboles. Autrement dit, pour un dictionnaire simplifié\n",
        "(” “, `a`, `b`, `c`, `d`), la lettre `a` serait représentée\n",
        "par le vecteur $ (0, 1, 0, 0, 0, 0) $ tandis que l’espace “ “\n",
        "serait représenté par le vecteur $ (1, 0, 0, 0, 0) $.\n",
        "\n",
        "Nous allons désormais entraîner un réseau de neurones récurrent.\n",
        "Celui-ci va recevoir en entrée une séquence de `SEQLEN` caractères.\n",
        "Son objectif sera de prédire en sortie le caractère suivant dans le\n",
        "corpus. Par exemple, pour la phrase :\n",
        "\n",
        "> Le vélo est rouge.\n",
        "\n",
        "\n",
        "le modèle devra prédire `l` à partir de la séquence `Le vé`, puis\n",
        "`o` à partir de la séquence `Le vél`, et ainsi de suite. Il s’agit\n",
        "donc d’un problème de classification à `n_characters` classes\n",
        "différentes (une classe par symbole).\n",
        "\n",
        "L’étiquette de classe est obtenue automatiquement à partir du corpus.\n",
        "Comme il n’y a eu aucune annotation manuelle du jeu de données, cet\n",
        "objectif de prédiction du caractère suivant représente un problème\n",
        "d’apprentissage dit *auto-supervisé* (ou *self-supervised*). La\n",
        "supervision est construite artificiellement à partir des données elles\n",
        "mêmes.\n",
        "\n",
        "Les données d’entraînement consistent donc en l’ensemble des séquences\n",
        "de caractères du corpus dont la taille est inférieure à `SEQLEN`.\n",
        "L’étiquette de la classe cible correspondante est celle de l’indice du\n",
        "prochain caractère à prédire, c’est-à-dire le caractère suivant dans le\n",
        "corpus."
      ]
    },
    {
      "cell_type": "code",
      "execution_count": 8,
      "id": "be745872",
      "metadata": {
        "hide-output": false,
        "id": "be745872",
        "outputId": "fc5d922b-a222-4394-e8f5-07a5ecbc42fb"
      },
      "outputs": [
        {
          "name": "stdout",
          "output_type": "stream",
          "text": [
            "Il y a 146120 séquences de 10 caractères dans le corpus d'entraînement.\n"
          ]
        }
      ],
      "source": [
        "# SEQLEN représente la taille de la séquence de lettres à passer en entrée\n",
        "SEQLEN = 10\n",
        "step = 1\n",
        "input_characters, labels = [], []\n",
        "# On parcourt le corpus de texte avec une fenêtre glissante\n",
        "for i in range(0, len(text) - SEQLEN, step):\n",
        "    input_characters.append(text[i:i + SEQLEN])\n",
        "    labels.append(text[i + SEQLEN])\n",
        "\n",
        "print(f\"Il y a {len(input_characters)} séquences de {SEQLEN} caractères dans le corpus d'entraînement.\")"
      ]
    },
    {
      "cell_type": "code",
      "execution_count": 9,
      "id": "832d61e1-c8c0-4ee4-b83e-3908d091886e",
      "metadata": {
        "id": "832d61e1-c8c0-4ee4-b83e-3908d091886e",
        "outputId": "d2f278ed-ecea-445c-baf5-8189bef7388d"
      },
      "outputs": [
        {
          "data": {
            "text/plain": [
              "('charles ba', 'u')"
            ]
          },
          "execution_count": 9,
          "metadata": {},
          "output_type": "execute_result"
        }
      ],
      "source": [
        "input_characters[0], labels[0]"
      ]
    },
    {
      "cell_type": "markdown",
      "id": "4be16ebe",
      "metadata": {
        "id": "4be16ebe"
      },
      "source": [
        "### Question\n",
        "\n",
        "Afficher une séquence de `SEQLEN` caractères et l’étiquette de classe\n",
        "correspondante, c’est-à-dire le caractère suivant."
      ]
    },
    {
      "cell_type": "code",
      "execution_count": 10,
      "id": "6a0fd6d7-c0f5-453e-a614-8832c4610b81",
      "metadata": {
        "id": "6a0fd6d7-c0f5-453e-a614-8832c4610b81"
      },
      "outputs": [
        {
          "name": "stdout",
          "output_type": "stream",
          "text": [
            "Il y a 59 caractères uniques dans le corpus d'entraînement.\n"
          ]
        }
      ],
      "source": [
        "print(f\"Il y a {n_characters} caractères uniques dans le corpus d'entraînement.\")"
      ]
    },
    {
      "cell_type": "markdown",
      "id": "beaea871-ecce-46aa-8099-55d517e04005",
      "metadata": {
        "id": "beaea871-ecce-46aa-8099-55d517e04005"
      },
      "source": [
        "Nous pouvons maintenant vectoriser les données d’entraînement en\n",
        "utilisant le dictionnaire et un encodage *one-hot* pour chaque caractère\n",
        ":"
      ]
    },
    {
      "cell_type": "code",
      "execution_count": 11,
      "id": "19182fe9",
      "metadata": {
        "hide-output": false,
        "id": "19182fe9"
      },
      "outputs": [],
      "source": [
        "# Encodage caractère -> indice du dictionaire\n",
        "char2index = dict((c, i) for i, c in enumerate(characters))\n",
        "# Encodage de l'indice vers le caractère (utilisé pour décoder les prédictions du modèle)\n",
        "index2char = dict((i, c) for i, c in enumerate(characters)) # mapping index -> char in dictionary"
      ]
    },
    {
      "cell_type": "markdown",
      "id": "5ded531f",
      "metadata": {
        "id": "5ded531f"
      },
      "source": [
        "Chaque séquence d’entraînement est donc représentée par une matrice de\n",
        "taille $ SEQLEN \\times m $, correspondant à une longueur de\n",
        "`SEQLEN` caractères, chaque caractère étant encodé par un vecteur\n",
        "binaire correspondant à un encodage *one-hot*. $ m $ représente la\n",
        "taille du dictionnaire, c’est-à-dire le nombre de symboles uniques dans\n",
        "le corpus.\n",
        "\n",
        "- L’ensemble des données d’entraînement `X` seront donc constituées\n",
        "  par un tenseur de taille $ N \\times SEQLEN \\times m $ où $ N $\n",
        "  est le nombre de séquences de `SEQLEN` caractères dans le corpus.  \n",
        "- L’ensemble des labels d’entraînement `y` seront représentées par un\n",
        "  tenseur de $ N \\times m $, où la sortie pour chaque\n",
        "  exemple correspond à l’indice dans le dictionnaire du caractère\n",
        "  suivant la séquence  "
      ]
    },
    {
      "cell_type": "markdown",
      "id": "60d5bc90",
      "metadata": {
        "id": "60d5bc90"
      },
      "source": [
        "### Question\n",
        "\n",
        "Compléter le code ci-dessous afin de créer les tenseurs `X` et `y`\n",
        "contenant les données d’entraînement (séquences de caractères dans `X`\n",
        "et étiquettes de classe dans `y`. Vous pourrez notamment utiliser à\n",
        "bon escient le dictionnaire `char2index` qui permet de transformer un\n",
        "caractère en son indice entier."
      ]
    },
    {
      "cell_type": "code",
      "execution_count": null,
      "id": "1a9fae51",
      "metadata": {
        "hide-output": false,
        "id": "1a9fae51"
      },
      "outputs": [],
      "source": [
        "import numpy as np\n",
        "X = np.zeros((len(input_characters), SEQLEN, n_characters), dtype=bool)\n",
        "y = np.zeros((len(input_characters), n_characters), dtype=bool)\n",
        "\n",
        "for idx_seq, sequence in enumerate(input_characters):\n",
        "    # À compléter\n",
        "    # Remplissage des tenseurs X et y\n",
        "    for idx_char, char in enumerate(sequence):\n",
        "        X[... , ... , ...] = 1  # Encodage one-hot dans X\n",
        "\n",
        "    next_char = labels[idx_seq]  # Récupérer le caractère cible\n",
        "    y[... , ...] = 1  # Encodage one-hot dans y"
      ]
    },
    {
      "cell_type": "markdown",
      "id": "7c81cf12",
      "metadata": {
        "id": "7c81cf12"
      },
      "source": [
        "Comme à l’accoutumée, nous allons séparer le jeu de données en deux : un\n",
        "ensemble d’apprentissage et un ensemble de validation. Le jeu de\n",
        "validation nous permettra notamment d’évaluer les performances du modèle\n",
        "et d’éviter le sur-apprentissage."
      ]
    },
    {
      "cell_type": "code",
      "execution_count": null,
      "id": "3f6722b2",
      "metadata": {
        "hide-output": false,
        "id": "3f6722b2",
        "outputId": "a811f243-2029-48d3-de90-b6f6447814f4"
      },
      "outputs": [
        {
          "data": {
            "text/plain": [
              "(116880, 59)"
            ]
          },
          "execution_count": 70,
          "metadata": {},
          "output_type": "execute_result"
        }
      ],
      "source": [
        "from sklearn.model_selection import train_test_split\n",
        "\n",
        "# 90% des données en apprentissage, 10% en validation\n",
        "X_train, X_test, y_train, y_test = ...\n",
        "y_train.shape"
      ]
    },
    {
      "cell_type": "markdown",
      "id": "d28f7a96",
      "metadata": {
        "id": "d28f7a96"
      },
      "source": [
        "### Apprentissage d’un modèle auto-supervisé pour la génération de texte\n",
        "\n",
        "Maintenant que les données ont été formatées, nous pouvons commencer à\n",
        "définir le modèle que nous allons utiliser. Nous allons l’implémenter\n",
        "sous la forme d’un modèle Keras séquentiel\n",
        "([Sequential](https://keras.io/api/models/sequential/))."
      ]
    },
    {
      "cell_type": "code",
      "execution_count": null,
      "id": "20c8f992",
      "metadata": {
        "hide-output": false,
        "id": "20c8f992"
      },
      "outputs": [],
      "source": [
        "from tensorflow.keras.layers import SimpleRNN\n",
        "from tensorflow.keras.models import Sequential\n",
        "\n",
        "model = ..."
      ]
    },
    {
      "cell_type": "markdown",
      "id": "fed800f1",
      "metadata": {
        "id": "fed800f1"
      },
      "source": [
        "Pour l’instant, ce modèle est vide. Nous allons lui ajouter une couche\n",
        "récurrente avec un modèle de type `SimpleRNN` (la cellule récurrente\n",
        "la plus simple) :"
      ]
    },
    {
      "cell_type": "code",
      "execution_count": null,
      "id": "59262127",
      "metadata": {
        "hide-output": false,
        "id": "59262127"
      },
      "outputs": [],
      "source": [
        "h_size = 128\n",
        "model.add(SimpleRNN(..., unroll=True))"
      ]
    },
    {
      "cell_type": "markdown",
      "id": "4c7cd80f",
      "metadata": {
        "id": "4c7cd80f"
      },
      "source": [
        "### Question\n",
        "\n",
        "À l’aide de la documentation de\n",
        "[SimpleRNN](https://keras.io/api/layers/recurrent_layers/simple_rnn/)\n",
        "dans Keras, expliquer à quoi correspondent les paramètres\n",
        "`h_size = 128` et `return_sequences=False`."
      ]
    },
    {
      "cell_type": "markdown",
      "id": "e8b79284",
      "metadata": {
        "id": "e8b79284"
      },
      "source": [
        "### Note\n",
        "\n",
        "L’argument optionnel `unroll=True` permet simplement\n",
        "d’accélérer les calculs en « déroulant » le réseau récurrent plutôt que\n",
        "d’utiliser une boucle `for` en interne.\n",
        "\n",
        "Pour terminer notre modèle, nous ajoutons enfin une couche entièrement\n",
        "connectée suivie d’une fonction `softmax` qui effectuera la\n",
        "classification du caractère suivant la séquence."
      ]
    },
    {
      "cell_type": "code",
      "execution_count": null,
      "id": "cc8c331b",
      "metadata": {
        "hide-output": false,
        "id": "cc8c331b"
      },
      "outputs": [],
      "source": [
        "from tensorflow.keras.layers import Dense, Activation\n",
        "\n",
        "model.add(Dense(...))\n",
        "model.add(Activation(\"softmax\"))"
      ]
    },
    {
      "cell_type": "markdown",
      "id": "632e513c",
      "metadata": {
        "id": "632e513c"
      },
      "source": [
        "Empiriquement, il a été constaté que l’optimisation des réseaux\n",
        "récurrents est plus rapide et la convergence plus robuste lorsque l’on\n",
        "utilise des méthodes de descente de gradient à pas adaptatif, telles que\n",
        "`RMSprop` [[TH12]](#tieleman2012)."
      ]
    },
    {
      "cell_type": "code",
      "execution_count": null,
      "id": "d4605f8c",
      "metadata": {
        "hide-output": false,
        "id": "d4605f8c"
      },
      "outputs": [],
      "source": [
        "from tensorflow.keras.optimizers import RMSprop\n",
        "\n",
        "learning_rate = 0.001\n",
        "optim = RMSprop(learning_rate=learning_rate)"
      ]
    },
    {
      "cell_type": "markdown",
      "id": "213184c5",
      "metadata": {
        "id": "213184c5"
      },
      "source": [
        "Nous pouvons donc compiler le modèle et utiliser la méthode\n",
        "`summary()` de Keras pour visualiser le nombre de paramètres du\n",
        "réseaux"
      ]
    },
    {
      "cell_type": "code",
      "execution_count": null,
      "id": "91ed3666",
      "metadata": {
        "hide-output": false,
        "id": "91ed3666",
        "outputId": "d9bece0e-8d73-48aa-aff3-dfddb5ca2e2b"
      },
      "outputs": [
        {
          "name": "stdout",
          "output_type": "stream",
          "text": [
            "Model: \"sequential_5\"\n",
            "_________________________________________________________________\n",
            " Layer (type)                Output Shape              Param #   \n",
            "=================================================================\n",
            " simple_rnn_1 (SimpleRNN)    (None, 128)               24064     \n",
            "                                                                 \n",
            " dense_5 (Dense)             (None, 59)                7611      \n",
            "                                                                 \n",
            " activation_1 (Activation)   (None, 59)                0         \n",
            "                                                                 \n",
            "=================================================================\n",
            "Total params: 31,675\n",
            "Trainable params: 31,675\n",
            "Non-trainable params: 0\n",
            "_________________________________________________________________\n"
          ]
        }
      ],
      "source": [
        "model.compile(loss=\"categorical_crossentropy\", optimizer=optim, metrics=['accuracy'])\n",
        "model.summary()"
      ]
    },
    {
      "cell_type": "markdown",
      "id": "e16858eb",
      "metadata": {
        "id": "e16858eb"
      },
      "source": [
        "L’entraînement s’effectue de la manière habituelle à l’aide de la\n",
        "méthode `fit()`:"
      ]
    },
    {
      "cell_type": "code",
      "execution_count": null,
      "id": "32a17db0",
      "metadata": {
        "hide-output": false,
        "id": "32a17db0",
        "outputId": "11983267-8807-4e2d-c541-4a231c952c4d"
      },
      "outputs": [
        {
          "name": "stdout",
          "output_type": "stream",
          "text": [
            "Epoch 1/50\n",
            "914/914 [==============================] - 16s 15ms/step - loss: 2.4586 - accuracy: 0.2949\n",
            "Epoch 2/50\n",
            "914/914 [==============================] - 14s 15ms/step - loss: 2.1690 - accuracy: 0.3502\n",
            "Epoch 3/50\n",
            "914/914 [==============================] - 14s 15ms/step - loss: 2.0979 - accuracy: 0.3665\n",
            "Epoch 4/50\n",
            "914/914 [==============================] - 15s 16ms/step - loss: 2.0493 - accuracy: 0.3805\n",
            "Epoch 5/50\n",
            "914/914 [==============================] - 13s 14ms/step - loss: 2.0045 - accuracy: 0.3922\n",
            "Epoch 6/50\n",
            "914/914 [==============================] - 13s 15ms/step - loss: 1.9635 - accuracy: 0.4042\n",
            "Epoch 7/50\n",
            "914/914 [==============================] - 14s 15ms/step - loss: 1.9249 - accuracy: 0.4168\n",
            "Epoch 8/50\n",
            "914/914 [==============================] - 14s 15ms/step - loss: 1.8920 - accuracy: 0.4257\n",
            "Epoch 9/50\n",
            "914/914 [==============================] - 14s 15ms/step - loss: 1.8625 - accuracy: 0.4339\n",
            "Epoch 10/50\n",
            "914/914 [==============================] - 14s 15ms/step - loss: 1.8369 - accuracy: 0.4417\n",
            "Epoch 11/50\n",
            "914/914 [==============================] - 14s 15ms/step - loss: 1.8146 - accuracy: 0.4467\n",
            "Epoch 12/50\n",
            "914/914 [==============================] - 14s 15ms/step - loss: 1.7942 - accuracy: 0.4540\n",
            "Epoch 13/50\n",
            "914/914 [==============================] - 14s 16ms/step - loss: 1.7759 - accuracy: 0.4574\n",
            "Epoch 14/50\n",
            "914/914 [==============================] - 14s 16ms/step - loss: 1.7584 - accuracy: 0.4646\n",
            "Epoch 15/50\n",
            "914/914 [==============================] - 14s 16ms/step - loss: 1.7419 - accuracy: 0.4682\n",
            "Epoch 16/50\n",
            "914/914 [==============================] - 16s 17ms/step - loss: 1.7275 - accuracy: 0.4724\n",
            "Epoch 17/50\n",
            "914/914 [==============================] - 18s 20ms/step - loss: 1.7146 - accuracy: 0.4777\n",
            "Epoch 18/50\n",
            "914/914 [==============================] - 18s 20ms/step - loss: 1.7019 - accuracy: 0.4800\n",
            "Epoch 19/50\n",
            "914/914 [==============================] - 18s 20ms/step - loss: 1.6891 - accuracy: 0.4833\n",
            "Epoch 20/50\n",
            "914/914 [==============================] - 18s 20ms/step - loss: 1.6794 - accuracy: 0.4861\n",
            "Epoch 21/50\n",
            "914/914 [==============================] - 18s 20ms/step - loss: 1.6691 - accuracy: 0.4894\n",
            "Epoch 22/50\n",
            "914/914 [==============================] - 18s 20ms/step - loss: 1.6603 - accuracy: 0.4910\n",
            "Epoch 23/50\n",
            "914/914 [==============================] - 17s 18ms/step - loss: 1.6510 - accuracy: 0.4944\n",
            "Epoch 24/50\n",
            "914/914 [==============================] - 16s 18ms/step - loss: 1.6421 - accuracy: 0.4955\n",
            "Epoch 25/50\n",
            "914/914 [==============================] - 16s 18ms/step - loss: 1.6348 - accuracy: 0.4999\n",
            "Epoch 26/50\n",
            "914/914 [==============================] - 16s 18ms/step - loss: 1.6265 - accuracy: 0.5017\n",
            "Epoch 27/50\n",
            "914/914 [==============================] - 16s 18ms/step - loss: 1.6208 - accuracy: 0.5023\n",
            "Epoch 28/50\n",
            "914/914 [==============================] - 16s 18ms/step - loss: 1.6138 - accuracy: 0.5039\n",
            "Epoch 29/50\n",
            "914/914 [==============================] - 16s 18ms/step - loss: 1.6065 - accuracy: 0.5057\n",
            "Epoch 30/50\n",
            "914/914 [==============================] - 16s 17ms/step - loss: 1.6022 - accuracy: 0.5072\n",
            "Epoch 31/50\n",
            "914/914 [==============================] - 16s 17ms/step - loss: 1.5955 - accuracy: 0.5094\n",
            "Epoch 32/50\n",
            "914/914 [==============================] - 16s 17ms/step - loss: 1.5900 - accuracy: 0.5105\n",
            "Epoch 33/50\n",
            "914/914 [==============================] - 16s 17ms/step - loss: 1.5846 - accuracy: 0.5122\n",
            "Epoch 34/50\n",
            "914/914 [==============================] - 16s 17ms/step - loss: 1.5788 - accuracy: 0.5141\n",
            "Epoch 35/50\n",
            "914/914 [==============================] - 16s 17ms/step - loss: 1.5750 - accuracy: 0.5149\n",
            "Epoch 36/50\n",
            "914/914 [==============================] - 16s 18ms/step - loss: 1.5691 - accuracy: 0.5158\n",
            "Epoch 37/50\n",
            "914/914 [==============================] - 14s 15ms/step - loss: 1.5661 - accuracy: 0.5187\n",
            "Epoch 38/50\n",
            "914/914 [==============================] - 16s 17ms/step - loss: 1.5623 - accuracy: 0.5183\n",
            "Epoch 39/50\n",
            "914/914 [==============================] - 16s 17ms/step - loss: 1.5558 - accuracy: 0.5211\n",
            "Epoch 40/50\n",
            "914/914 [==============================] - 16s 18ms/step - loss: 1.5527 - accuracy: 0.5216\n",
            "Epoch 41/50\n",
            "914/914 [==============================] - 16s 18ms/step - loss: 1.5496 - accuracy: 0.5214\n",
            "Epoch 42/50\n",
            "914/914 [==============================] - 16s 17ms/step - loss: 1.5459 - accuracy: 0.5221\n",
            "Epoch 43/50\n",
            "914/914 [==============================] - 16s 17ms/step - loss: 1.5412 - accuracy: 0.5238\n",
            "Epoch 44/50\n",
            "914/914 [==============================] - 339666s 372s/step - loss: 1.5381 - accuracy: 0.5248\n",
            "Epoch 45/50\n",
            "914/914 [==============================] - 10s 11ms/step - loss: 1.5350 - accuracy: 0.5271\n",
            "Epoch 46/50\n",
            "914/914 [==============================] - 8s 8ms/step - loss: 1.5308 - accuracy: 0.5278\n",
            "Epoch 47/50\n",
            "914/914 [==============================] - 7s 7ms/step - loss: 1.5287 - accuracy: 0.5283\n",
            "Epoch 48/50\n",
            "914/914 [==============================] - 7s 8ms/step - loss: 1.5246 - accuracy: 0.5292\n",
            "Epoch 49/50\n",
            "914/914 [==============================] - 9s 10ms/step - loss: 1.5218 - accuracy: 0.5294\n",
            "Epoch 50/50\n",
            "914/914 [==============================] - 8s 9ms/step - loss: 1.5202 - accuracy: 0.5310\n"
          ]
        },
        {
          "data": {
            "text/plain": [
              "<keras.callbacks.History at 0x28dff3778b0>"
            ]
          },
          "execution_count": 28,
          "metadata": {},
          "output_type": "execute_result"
        }
      ],
      "source": [
        "batch_size = 128\n",
        "num_epochs = 50\n",
        "model.fit(X_train, y_train, batch_size=batch_size, epochs=num_epochs)"
      ]
    },
    {
      "cell_type": "markdown",
      "id": "aa971e95",
      "metadata": {
        "id": "aa971e95"
      },
      "source": [
        "Nous pouvons utiliser la méthode `.evaluate()` pour calculer\n",
        "automatiquement les métriques spécifiées à la compilation du modèle sur\n",
        "un jeu de données. Calculons par exemple les scores de taux de bonne\n",
        "classification (*accuracy*) sur le jeu d’apprentissage et sur le jeu de\n",
        "test :"
      ]
    },
    {
      "cell_type": "code",
      "execution_count": null,
      "id": "f6a22bc4",
      "metadata": {
        "hide-output": false,
        "id": "f6a22bc4",
        "outputId": "94a7ff55-23ef-4a6c-fbb5-446251379b86"
      },
      "outputs": [
        {
          "name": "stdout",
          "output_type": "stream",
          "text": [
            "3653/3653 [==============================] - 17s 4ms/step - loss: 1.4846 - accuracy: 0.5420\n",
            "914/914 [==============================] - 4s 5ms/step - loss: 1.8064 - accuracy: 0.4643\n",
            "Performances (apprentissage, accuracy) = 54.20\n",
            "Performances (validation, accuracy) = 46.43\n"
          ]
        }
      ],
      "source": [
        "scores_train = model.evaluate(...)\n",
        "scores_test = model.evaluate(...)\n",
        "print(f\"Performances (apprentissage, {model.metrics_names[1]}) = {scores_train[1]*100:.2f}\")\n",
        "print(f\"Performances (validation, {model.metrics_names[1]}) = {scores_test[1]*100:.2f}\")"
      ]
    },
    {
      "cell_type": "markdown",
      "id": "896782d8",
      "metadata": {
        "id": "896782d8"
      },
      "source": [
        "*Note*: Il est possible de sauvegarder les paramètres du modèle appris à\n",
        "l’aide de la méthode `.save()`. Cela permet notamment de réutiliser le\n",
        "modèle plus tard, sans avoir à l’entraîner de nouveau."
      ]
    },
    {
      "cell_type": "code",
      "execution_count": null,
      "id": "dbcc0d7c",
      "metadata": {
        "hide-output": false,
        "id": "dbcc0d7c"
      },
      "outputs": [],
      "source": [
        "model_name = f\"SimpleRNN_{h_size}_{num_epochs}epochs.keras\"\n",
        "model.save(model_name)"
      ]
    },
    {
      "cell_type": "markdown",
      "id": "1a6118bf",
      "metadata": {
        "id": "1a6118bf"
      },
      "source": [
        "### Analyse de l’apprentissage"
      ]
    },
    {
      "cell_type": "markdown",
      "id": "0c3d54dc",
      "metadata": {
        "id": "0c3d54dc"
      },
      "source": [
        "### Question\n",
        "\n",
        "Quels taux de classification obtient-on en apprentissage ? En validation\n",
        "?"
      ]
    },
    {
      "cell_type": "markdown",
      "id": "37911876",
      "metadata": {
        "id": "37911876"
      },
      "source": [
        "### Question\n",
        "\n",
        "En quoi le problème est-il différents des problèmes de classification\n",
        "abordés jusqu’ici ? Par exemple, faire une recherche de la séquence\n",
        "d’entrée « la mort de », et analyser les labels cibles présents dans le\n",
        "corpus d’apprentissage."
      ]
    },
    {
      "cell_type": "markdown",
      "id": "b71f1c45",
      "metadata": {
        "id": "b71f1c45"
      },
      "source": [
        "### Génération de texte à partir du modèle appris\n",
        "\n",
        "Nous pouvons désormais nous servir du modèle entraîné pour générer du\n",
        "texte qui va « imiter » le style du corpus de poésie initial (*Les\n",
        "Fleurs du mal*). Si nécessaire, commençons par charger les paramètres du\n",
        "réseau récurrent précédemment entraîné à l’aide de la fonction\n",
        "`loadModel` :"
      ]
    },
    {
      "cell_type": "code",
      "execution_count": null,
      "id": "14cb02d4",
      "metadata": {
        "hide-output": false,
        "id": "14cb02d4",
        "outputId": "93eaa28f-c358-4aeb-924b-b7e41efe8837"
      },
      "outputs": [
        {
          "data": {
            "text/html": [
              "<pre style=\"white-space:pre;overflow-x:auto;line-height:normal;font-family:Menlo,'DejaVu Sans Mono',consolas,'Courier New',monospace\"><span style=\"font-weight: bold\">Model: \"sequential_1\"</span>\n",
              "</pre>\n"
            ],
            "text/plain": [
              "\u001b[1mModel: \"sequential_1\"\u001b[0m\n"
            ]
          },
          "metadata": {},
          "output_type": "display_data"
        },
        {
          "data": {
            "text/html": [
              "<pre style=\"white-space:pre;overflow-x:auto;line-height:normal;font-family:Menlo,'DejaVu Sans Mono',consolas,'Courier New',monospace\">┏━━━━━━━━━━━━━━━━━━━━━━━━━━━━━━━━━━━━━━┳━━━━━━━━━━━━━━━━━━━━━━━━━━━━━┳━━━━━━━━━━━━━━━━━┓\n",
              "┃<span style=\"font-weight: bold\"> Layer (type)                         </span>┃<span style=\"font-weight: bold\"> Output Shape                </span>┃<span style=\"font-weight: bold\">         Param # </span>┃\n",
              "┡━━━━━━━━━━━━━━━━━━━━━━━━━━━━━━━━━━━━━━╇━━━━━━━━━━━━━━━━━━━━━━━━━━━━━╇━━━━━━━━━━━━━━━━━┩\n",
              "│ simple_rnn_3 (<span style=\"color: #0087ff; text-decoration-color: #0087ff\">SimpleRNN</span>)             │ (<span style=\"color: #00d7ff; text-decoration-color: #00d7ff\">None</span>, <span style=\"color: #00af00; text-decoration-color: #00af00\">128</span>)                 │          <span style=\"color: #00af00; text-decoration-color: #00af00\">24,064</span> │\n",
              "├──────────────────────────────────────┼─────────────────────────────┼─────────────────┤\n",
              "│ dense (<span style=\"color: #0087ff; text-decoration-color: #0087ff\">Dense</span>)                        │ (<span style=\"color: #00d7ff; text-decoration-color: #00d7ff\">None</span>, <span style=\"color: #00af00; text-decoration-color: #00af00\">59</span>)                  │           <span style=\"color: #00af00; text-decoration-color: #00af00\">7,611</span> │\n",
              "├──────────────────────────────────────┼─────────────────────────────┼─────────────────┤\n",
              "│ activation (<span style=\"color: #0087ff; text-decoration-color: #0087ff\">Activation</span>)              │ (<span style=\"color: #00d7ff; text-decoration-color: #00d7ff\">None</span>, <span style=\"color: #00af00; text-decoration-color: #00af00\">59</span>)                  │               <span style=\"color: #00af00; text-decoration-color: #00af00\">0</span> │\n",
              "└──────────────────────────────────────┴─────────────────────────────┴─────────────────┘\n",
              "</pre>\n"
            ],
            "text/plain": [
              "┏━━━━━━━━━━━━━━━━━━━━━━━━━━━━━━━━━━━━━━┳━━━━━━━━━━━━━━━━━━━━━━━━━━━━━┳━━━━━━━━━━━━━━━━━┓\n",
              "┃\u001b[1m \u001b[0m\u001b[1mLayer (type)                        \u001b[0m\u001b[1m \u001b[0m┃\u001b[1m \u001b[0m\u001b[1mOutput Shape               \u001b[0m\u001b[1m \u001b[0m┃\u001b[1m \u001b[0m\u001b[1m        Param #\u001b[0m\u001b[1m \u001b[0m┃\n",
              "┡━━━━━━━━━━━━━━━━━━━━━━━━━━━━━━━━━━━━━━╇━━━━━━━━━━━━━━━━━━━━━━━━━━━━━╇━━━━━━━━━━━━━━━━━┩\n",
              "│ simple_rnn_3 (\u001b[38;5;33mSimpleRNN\u001b[0m)             │ (\u001b[38;5;45mNone\u001b[0m, \u001b[38;5;34m128\u001b[0m)                 │          \u001b[38;5;34m24,064\u001b[0m │\n",
              "├──────────────────────────────────────┼─────────────────────────────┼─────────────────┤\n",
              "│ dense (\u001b[38;5;33mDense\u001b[0m)                        │ (\u001b[38;5;45mNone\u001b[0m, \u001b[38;5;34m59\u001b[0m)                  │           \u001b[38;5;34m7,611\u001b[0m │\n",
              "├──────────────────────────────────────┼─────────────────────────────┼─────────────────┤\n",
              "│ activation (\u001b[38;5;33mActivation\u001b[0m)              │ (\u001b[38;5;45mNone\u001b[0m, \u001b[38;5;34m59\u001b[0m)                  │               \u001b[38;5;34m0\u001b[0m │\n",
              "└──────────────────────────────────────┴─────────────────────────────┴─────────────────┘\n"
            ]
          },
          "metadata": {},
          "output_type": "display_data"
        },
        {
          "data": {
            "text/html": [
              "<pre style=\"white-space:pre;overflow-x:auto;line-height:normal;font-family:Menlo,'DejaVu Sans Mono',consolas,'Courier New',monospace\"><span style=\"font-weight: bold\"> Total params: </span><span style=\"color: #00af00; text-decoration-color: #00af00\">31,675</span> (123.73 KB)\n",
              "</pre>\n"
            ],
            "text/plain": [
              "\u001b[1m Total params: \u001b[0m\u001b[38;5;34m31,675\u001b[0m (123.73 KB)\n"
            ]
          },
          "metadata": {},
          "output_type": "display_data"
        },
        {
          "data": {
            "text/html": [
              "<pre style=\"white-space:pre;overflow-x:auto;line-height:normal;font-family:Menlo,'DejaVu Sans Mono',consolas,'Courier New',monospace\"><span style=\"font-weight: bold\"> Trainable params: </span><span style=\"color: #00af00; text-decoration-color: #00af00\">31,675</span> (123.73 KB)\n",
              "</pre>\n"
            ],
            "text/plain": [
              "\u001b[1m Trainable params: \u001b[0m\u001b[38;5;34m31,675\u001b[0m (123.73 KB)\n"
            ]
          },
          "metadata": {},
          "output_type": "display_data"
        },
        {
          "data": {
            "text/html": [
              "<pre style=\"white-space:pre;overflow-x:auto;line-height:normal;font-family:Menlo,'DejaVu Sans Mono',consolas,'Courier New',monospace\"><span style=\"font-weight: bold\"> Non-trainable params: </span><span style=\"color: #00af00; text-decoration-color: #00af00\">0</span> (0.00 B)\n",
              "</pre>\n"
            ],
            "text/plain": [
              "\u001b[1m Non-trainable params: \u001b[0m\u001b[38;5;34m0\u001b[0m (0.00 B)\n"
            ]
          },
          "metadata": {},
          "output_type": "display_data"
        }
      ],
      "source": [
        "from tensorflow.keras.models import load_model\n",
        "model = load_model(...)\n",
        "model.compile(loss='categorical_crossentropy', optimizer='RMSprop', metrics=['accuracy'])\n",
        "model.summary()"
      ]
    },
    {
      "cell_type": "markdown",
      "id": "621edd35",
      "metadata": {
        "id": "621edd35"
      },
      "source": [
        "Comme le modèle a été entraîné pour prédire le caractère suivant à\n",
        "partir d’une séquence de `SEQLEN` caractères précédent, nous devons\n",
        "l’initialiser avec une chaîne de caractères de départ. Le modèle pourra\n",
        "ensuite générer du texte en prédisant les caractères suivants un par un.\n",
        "\n",
        "Reprenons un texte initial issu de notre corpus d’entraînement :"
      ]
    },
    {
      "cell_type": "code",
      "execution_count": null,
      "id": "908aa8d2-3368-44ca-a57c-fa40f667e264",
      "metadata": {
        "id": "908aa8d2-3368-44ca-a57c-fa40f667e264",
        "outputId": "654284a2-04a7-4509-814e-002074b31b3b"
      },
      "outputs": [
        {
          "name": "stdout",
          "output_type": "stream",
          "text": [
            "La séquence n°10 est : 'de ses chants peupler l'air fr'\n"
          ]
        }
      ],
      "source": [
        "idx= 10\n",
        "# index2char permet de repasser de l'encodage one-hot au caractère du dictionnaire\n",
        "initial_characters = [index2char[np.argmax(c)] for c in X_train[idx]]\n",
        "initial_text = \"\".join(initial_characters)\n",
        "print(f\"La séquence n°{idx} est : '{initial_text}'\")"
      ]
    },
    {
      "cell_type": "markdown",
      "id": "d0fcb3b5",
      "metadata": {
        "id": "d0fcb3b5"
      },
      "source": [
        "Nous pouvons maintenant extraire la représentation en encodage *one-hot*\n",
        "de ce texte, que nous passerons ensuite dans le réseau entraîné pour\n",
        "obtenir la prédiction du caractère suivant."
      ]
    },
    {
      "cell_type": "code",
      "execution_count": null,
      "id": "e3a73732",
      "metadata": {
        "hide-output": false,
        "id": "e3a73732",
        "outputId": "7dcb4281-d8da-4870-b042-ded86f7cb539"
      },
      "outputs": [
        {
          "name": "stdout",
          "output_type": "stream",
          "text": [
            "1/1 [==============================] - 1s 1s/step\n",
            "[[1.9937312e-07 2.5750870e-13 3.1233109e-28 8.2710612e-28 2.4271233e-30\n",
            "  8.0322257e-14 1.8079649e-09 2.7528682e-11 2.4692982e-30 1.4911754e-33\n",
            "  0.0000000e+00 1.3105744e-37 5.9905756e-37 0.0000000e+00 1.5178839e-35\n",
            "  8.8486402e-21 8.2120948e-25 5.3785458e-23 4.3411442e-06 1.2971516e-03\n",
            "  7.3430777e-01 5.9965556e-04 8.7026723e-07 3.5633775e-04 9.2274873e-05\n",
            "  4.0377776e-07 1.2816847e-05 4.8706381e-05 2.4455681e-33 1.2324825e-03\n",
            "  1.2566868e-02 4.9676746e-03 3.7754528e-09 1.4100979e-01 1.1155250e-05\n",
            "  7.2147595e-03 6.9280721e-02 3.7976967e-03 3.9676047e-06 2.3194175e-02\n",
            "  7.3874260e-20 7.8067032e-11 3.6902287e-11 4.4899458e-14 8.7744784e-16\n",
            "  1.7306605e-23 1.2622610e-25 8.3097517e-14 7.2799336e-12 7.4801249e-13\n",
            "  1.6795258e-07 4.4233568e-13 3.9647285e-37 1.0341864e-14 1.1255910e-23\n",
            "  1.0637627e-16 2.7113934e-30 9.3686472e-23 4.8174918e-23]]\n"
          ]
        }
      ],
      "source": [
        "test_sequence = np.zeros((1, SEQLEN, n_characters), dtype=bool)\n",
        "test_sequence[0] = X_train[idx]\n",
        "prediction = ...\n",
        "print(prediction)"
      ]
    },
    {
      "cell_type": "markdown",
      "id": "968ee9b0",
      "metadata": {
        "id": "968ee9b0"
      },
      "source": [
        "### Question\n",
        "\n",
        "À l’aide du dictionnaire `index2char`, déterminer quel\n",
        "est le prochain caractère prédit par le modèle.\n",
        "\n",
        "Au lieu de prédire systématiquement le symbole dont la probabilité est\n",
        "maximale, nous pouvons ajouter du non-déterministe (et donc de\n",
        "l’aléatoire) dans la génération de texte en échantillonnant selon la\n",
        "distribution de probabilités en sortie du softmax. Autrement dit, plus\n",
        "un symbole aura une forte activation après le softmax, plus il aura de\n",
        "chances d’être tiré.\n",
        "\n",
        "Pour contrôler à quel point cet échantillonnage sera non-déterministe,\n",
        "nous allons introduire un nouveau paramètre permettant de contrôler la\n",
        "forme de la distribution. En notant $ T $ ce nouveau paramètre, nous\n",
        "allons altérer les probabilités de sortie en les remplaçant par la\n",
        "formule suivante :\n",
        "\n",
        "$$\n",
        "z_{i}^N  = \\frac{z_{i}^{\\frac{1}{T}}}{\\sum\\limits_{j=1}^C z_{j}^{\\frac{1}{T}} }\n",
        "$$\n",
        "\n",
        "$ T $ est un paramètre appelé *température*. Si $ T=1 $, alors\n",
        "il s’agit du softmax habituel.\n",
        "\n",
        "La figure ci-dessous montre l’impact sur la distribution de cette\n",
        "renormalisation :\n",
        "\n",
        "Nous pourrons par la suite utiliser la fonction ci-dessous qui tire\n",
        "aléatoirement un symbole en échantillonnant selon la distribution,\n",
        "éventuellement modifiée par la température."
      ]
    },
    {
      "cell_type": "code",
      "execution_count": null,
      "id": "bddb3dca",
      "metadata": {
        "hide-output": false,
        "id": "bddb3dca"
      },
      "outputs": [],
      "source": [
        "def sample(probabilities, temperature=1.0):\n",
        "    probabilities = np.asarray(probabilities).astype('float64')\n",
        "    # Modifie la distribution selon la valeur de la température\n",
        "    probabilities = pow(probabilities, 1.0/temperature)\n",
        "    probabilities /= np.sum(probabilities)\n",
        "    # Tire des variables aléatoires selon la distribution multinomiale transformée\n",
        "    random_values = np.random.multinomial(1, probabilities, 1)\n",
        "    # Renvoie le symbole échantillonné\n",
        "    return np.argmax(random_values)"
      ]
    },
    {
      "cell_type": "markdown",
      "id": "a43b4a5f",
      "metadata": {
        "id": "a43b4a5f"
      },
      "source": [
        "### Question\n",
        "\n",
        "Comment est-ce que la température modifie la distribution\n",
        "lorsqu’elle augmente ($ T \\rightarrow +\\infty $) ou\n",
        "diminue ($ T \\rightarrow 0 $) ?\n",
        "Comment cela va-t-il influer sur l’échantillonnage du caractère suivant ?\n",
        "\n",
        "Pour terminer, nous pouvons mettre en place la génération de texte à\n",
        "partir d’une séquence de `SEQLEN` caractères initiaux. Pour ce faire,\n",
        "nous allons créer une boucle qui :\n",
        "\n",
        "1. extraie les `SEQLEN` derniers caractères du texte généré  \n",
        "1. calcule les probabilités après softmax du réseau (méthode\n",
        "  `.predict()`)  \n",
        "1. échantillonne un caractère dans ces probabilités (fonction\n",
        "  `sample()`)  \n",
        "1. ajoute ce caractère au texte généré  "
      ]
    },
    {
      "cell_type": "markdown",
      "id": "3257eab8",
      "metadata": {
        "id": "3257eab8"
      },
      "source": [
        "### Question\n",
        "\n",
        "Compléter le code de génération de texte ci-dessous."
      ]
    },
    {
      "cell_type": "code",
      "execution_count": null,
      "id": "e52a386e",
      "metadata": {
        "hide-output": false,
        "id": "e52a386e",
        "outputId": "7cca48a0-0fe9-4c3e-87a8-0f8488f04e18"
      },
      "outputs": [
        {
          "name": "stdout",
          "output_type": "stream",
          "text": [
            "Texte généré :\n",
            "où l'on met tous ces corps. --ces yeux sont des platants et des maigres annuits qui ta maint nul n'a son caucher salué des coeurs est depuis la prince des choses souterraines; vieux appas lustement singulant, à mourir, vous serait\n"
          ]
        }
      ],
      "source": [
        "# Longueur du texte à générer (en caractères)\n",
        "text_length = 200\n",
        "# Température\n",
        "temperature  = 0.9\n",
        "\n",
        "\n",
        "generated_text = initial_text\n",
        "network_input = test_sequence\n",
        "\n",
        "for i in range(text_length):\n",
        "    last_characters = generated_text[-SEQLEN:]  # Séquence d'entrée\n",
        "    # Compléter le code\n",
        "    # Transformer la séquence en encodage one-hot\n",
        "    x_pred = np.zeros((1, SEQLEN, n_characters), dtype=bool)\n",
        "    for t, char in enumerate(last_characters):\n",
        "        x_pred[0, t, char2index[char]] = 1\n",
        "\n",
        "    # Prédire la distribution des probabilités des prochains caractères\n",
        "    predictions = ...\n",
        "\n",
        "    # Échantillonnage du prochain caractère à l'aide de la fonction sample\n",
        "    next_index = ...\n",
        "    next_char = ...\n",
        "\n",
        "    # Ajout du caractère généré au texte\n",
        "    generated_text += ...\n",
        "\n",
        "    # Mise à jour de l'entrée pour la prochaine itération\n",
        "    network_input = list(network_input[1:]) + [next_char]\n",
        "\n",
        "\n",
        "print(\"Texte généré :\")\n",
        "print(generated_text)\n"
      ]
    },
    {
      "cell_type": "markdown",
      "id": "39452d30",
      "metadata": {
        "id": "39452d30"
      },
      "source": [
        "### Question\n",
        "\n",
        "Évaluer l’impact du paramètre de température dans la génération,\n",
        "ainsi que le nombre d’époques dans l’apprentissage.\n",
        "Commenter les points forts et points faibles du générateur."
      ]
    },
    {
      "cell_type": "markdown",
      "id": "ed4f3ab9",
      "metadata": {
        "id": "ed4f3ab9"
      },
      "source": [
        "## Pour aller plus loin\n",
        "\n",
        "Comment doit-on modifier le jeu de données ou modèle de RNN pour\n",
        "améliorer les performances du générateur ? Essayez notamment d’augmenter\n",
        "`SEQLEN`. Quel problème cela résout-il ? Un modèle avec plus de\n",
        "paramètres donne-t-il de meilleurs résultats ?"
      ]
    }
  ],
  "metadata": {
    "accelerator": "GPU",
    "colab": {
      "gpuType": "T4",
      "provenance": []
    },
    "date": 1725613532.8071067,
    "filename": "tpDeepLearning5.rst",
    "kernelspec": {
      "display_name": "jpn_florian",
      "language": "python",
      "name": "python3"
    },
    "language_info": {
      "codemirror_mode": {
        "name": "ipython",
        "version": 3
      },
      "file_extension": ".py",
      "mimetype": "text/x-python",
      "name": "python",
      "nbconvert_exporter": "python",
      "pygments_lexer": "ipython3",
      "version": "3.8.20"
    },
    "title": "Travaux pratiques - RNN pour la génération de texte"
  },
  "nbformat": 4,
  "nbformat_minor": 5
}
