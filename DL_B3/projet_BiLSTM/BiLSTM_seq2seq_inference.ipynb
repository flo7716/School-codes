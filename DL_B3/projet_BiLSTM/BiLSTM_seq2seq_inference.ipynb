{
  "cells": [
    {
      "cell_type": "code",
      "execution_count": 2,
      "id": "bZC2cciG3o6e",
      "metadata": {
        "id": "bZC2cciG3o6e"
      },
      "outputs": [
        {
          "name": "stderr",
          "output_type": "stream",
          "text": [
            "2025-04-10 06:20:50.364772: I tensorflow/core/platform/cpu_feature_guard.cc:182] This TensorFlow binary is optimized to use available CPU instructions in performance-critical operations.\n",
            "To enable the following instructions: AVX2 FMA, in other operations, rebuild TensorFlow with the appropriate compiler flags.\n"
          ]
        }
      ],
      "source": [
        "import numpy as np\n",
        "import pandas as pd\n",
        "import tensorflow as tf\n",
        "from tensorflow.keras.preprocessing.text import Tokenizer\n",
        "from tensorflow.keras.preprocessing.sequence import pad_sequences\n",
        "from tensorflow.keras.models import Model\n",
        "from tensorflow.keras.layers import Input, LSTM, Bidirectional, Dense, Embedding, TimeDistributed, Attention\n",
        "from sklearn.model_selection import train_test_split\n",
        "import re\n"
      ]
    },
    {
      "cell_type": "code",
      "execution_count": 3,
      "id": "R3SFC1PP3gYd",
      "metadata": {
        "id": "R3SFC1PP3gYd"
      },
      "outputs": [
        {
          "name": "stdout",
          "output_type": "stream",
          "text": [
            "GPU disponible : []\n"
          ]
        },
        {
          "name": "stderr",
          "output_type": "stream",
          "text": [
            "2025-04-10 06:20:54.504335: I tensorflow/compiler/xla/stream_executor/rocm/rocm_gpu_executor.cc:838] successful NUMA node read from SysFS had negative value (-1), but there must be at least one NUMA node, so returning NUMA node zero\n",
            "2025-04-10 06:20:54.504451: I tensorflow/compiler/xla/stream_executor/rocm/rocm_gpu_executor.cc:838] successful NUMA node read from SysFS had negative value (-1), but there must be at least one NUMA node, so returning NUMA node zero\n",
            "2025-04-10 06:20:58.074365: I tensorflow/compiler/xla/stream_executor/rocm/rocm_gpu_executor.cc:838] successful NUMA node read from SysFS had negative value (-1), but there must be at least one NUMA node, so returning NUMA node zero\n",
            "2025-04-10 06:20:58.074440: I tensorflow/compiler/xla/stream_executor/rocm/rocm_gpu_executor.cc:838] successful NUMA node read from SysFS had negative value (-1), but there must be at least one NUMA node, so returning NUMA node zero\n",
            "2025-04-10 06:20:58.074496: I tensorflow/compiler/xla/stream_executor/rocm/rocm_gpu_executor.cc:838] successful NUMA node read from SysFS had negative value (-1), but there must be at least one NUMA node, so returning NUMA node zero\n",
            "2025-04-10 06:20:58.074523: I tensorflow/core/common_runtime/gpu/gpu_device.cc:2015] Ignoring visible gpu device (device: 0, name: AMD Radeon RX 5600M, pci bus id: 0000:03:00.0) with AMDGPU version : gfx1010. The supported AMDGPU versions are gfx1030, gfx900, gfx906, gfx908, gfx90a, gfx940, gfx941, gfx942.\n",
            "2025-04-10 06:20:58.074582: I tensorflow/compiler/xla/stream_executor/rocm/rocm_gpu_executor.cc:838] successful NUMA node read from SysFS had negative value (-1), but there must be at least one NUMA node, so returning NUMA node zero\n",
            "2025-04-10 06:20:58.074597: I tensorflow/core/common_runtime/gpu/gpu_device.cc:2015] Ignoring visible gpu device (device: 1, name: AMD Radeon Graphics, pci bus id: 0000:07:00.0) with AMDGPU version : gfx90c. The supported AMDGPU versions are gfx1030, gfx900, gfx906, gfx908, gfx90a, gfx940, gfx941, gfx942.\n"
          ]
        }
      ],
      "source": [
        "# -*- coding: utf-8 -*-\n",
        "# Afficher les appareils disponibles\n",
        "print(\"GPU disponible :\", tf.config.list_physical_devices('GPU'))\n"
      ]
    },
    {
      "cell_type": "code",
      "execution_count": 4,
      "id": "O0xdPGov3rZa",
      "metadata": {
        "id": "O0xdPGov3rZa"
      },
      "outputs": [
        {
          "name": "stdout",
          "output_type": "stream",
          "text": [
            "URL transformed to HTTPS due to an HSTS policy\n",
            "--2025-04-10 06:20:58--  https://www.cs.cornell.edu/~cristian/data/cornell_movie_dialogs_corpus.zip\n",
            "Resolving www.cs.cornell.edu (www.cs.cornell.edu)... 132.236.207.53\n",
            "Connecting to www.cs.cornell.edu (www.cs.cornell.edu)|132.236.207.53|:443... connected.\n",
            "HTTP request sent, awaiting response... 200 OK\n",
            "Length: 9916637 (9.5M) [application/zip]\n",
            "Saving to: ‘cornell_movie_dialogs_corpus.zip.1’\n",
            "\n",
            "cornell_movie_dialo 100%[===================>]   9.46M  3.16MB/s    in 3.0s    \n",
            "\n",
            "2025-04-10 06:21:01 (3.16 MB/s) - ‘cornell_movie_dialogs_corpus.zip.1’ saved [9916637/9916637]\n",
            "\n",
            "Archive:  cornell_movie_dialogs_corpus.zip\n",
            "  inflating: cornell movie-dialogs corpus/.DS_Store  \n",
            "  inflating: __MACOSX/cornell movie-dialogs corpus/._.DS_Store  \n",
            "  inflating: cornell movie-dialogs corpus/chameleons.pdf  \n",
            "  inflating: __MACOSX/cornell movie-dialogs corpus/._chameleons.pdf  \n",
            "  inflating: cornell movie-dialogs corpus/movie_characters_metadata.txt  \n",
            "  inflating: cornell movie-dialogs corpus/movie_conversations.txt  \n",
            "  inflating: cornell movie-dialogs corpus/movie_lines.txt  \n",
            "  inflating: cornell movie-dialogs corpus/movie_titles_metadata.txt  \n",
            "  inflating: cornell movie-dialogs corpus/raw_script_urls.txt  \n",
            "  inflating: cornell movie-dialogs corpus/README.txt  \n",
            "  inflating: __MACOSX/cornell movie-dialogs corpus/._README.txt  \n",
            "chameleons.pdf\t\t       movie_lines.txt\t\t  README.txt\n",
            "movie_characters_metadata.txt  movie_titles_metadata.txt\n",
            "movie_conversations.txt        raw_script_urls.txt\n"
          ]
        }
      ],
      "source": [
        "!wget http://www.cs.cornell.edu/~cristian/data/cornell_movie_dialogs_corpus.zip\n",
        "!unzip -o cornell_movie_dialogs_corpus.zip\n",
        "!ls \"cornell movie-dialogs corpus\""
      ]
    },
    {
      "cell_type": "code",
      "execution_count": null,
      "id": "mtTPt2E23t9X",
      "metadata": {
        "id": "mtTPt2E23t9X"
      },
      "outputs": [
        {
          "ename": "NameError",
          "evalue": "name 'lines_path' is not defined",
          "output_type": "error",
          "traceback": [
            "\u001b[0;31m---------------------------------------------------------------------------\u001b[0m",
            "\u001b[0;31mNameError\u001b[0m                                 Traceback (most recent call last)",
            "Cell \u001b[0;32mIn[5], line 38\u001b[0m\n\u001b[1;32m     35\u001b[0m     \u001b[38;5;28;01mreturn\u001b[39;00m text\u001b[38;5;241m.\u001b[39mstrip()\n\u001b[1;32m     37\u001b[0m \u001b[38;5;66;03m# Charger et nettoyer les données\u001b[39;00m\n\u001b[0;32m---> 38\u001b[0m pairs \u001b[38;5;241m=\u001b[39m \u001b[43mload_and_preprocess_data\u001b[49m\u001b[43m(\u001b[49m\u001b[43m)\u001b[49m\n\u001b[1;32m     39\u001b[0m cleaned_pairs \u001b[38;5;241m=\u001b[39m [(clean_text(q), clean_text(a)) \u001b[38;5;28;01mfor\u001b[39;00m q, a \u001b[38;5;129;01min\u001b[39;00m pairs]\n",
            "Cell \u001b[0;32mIn[5], line 4\u001b[0m, in \u001b[0;36mload_and_preprocess_data\u001b[0;34m()\u001b[0m\n\u001b[1;32m      1\u001b[0m \u001b[38;5;28;01mdef\u001b[39;00m \u001b[38;5;21mload_and_preprocess_data\u001b[39m():\n\u001b[1;32m      2\u001b[0m     \u001b[38;5;66;03m# Charger le dataset Cornell Movie Dialogs\u001b[39;00m\n\u001b[1;32m      3\u001b[0m     \u001b[38;5;66;03m# (Vous devrez adapter ceci selon la structure exacte de vos fichiers)\u001b[39;00m\n\u001b[0;32m----> 4\u001b[0m     lines \u001b[38;5;241m=\u001b[39m \u001b[38;5;28mopen\u001b[39m(\u001b[43mlines_path\u001b[49m, encoding\u001b[38;5;241m=\u001b[39m\u001b[38;5;124m'\u001b[39m\u001b[38;5;124mutf-8\u001b[39m\u001b[38;5;124m'\u001b[39m, errors\u001b[38;5;241m=\u001b[39m\u001b[38;5;124m'\u001b[39m\u001b[38;5;124mignore\u001b[39m\u001b[38;5;124m'\u001b[39m)\u001b[38;5;241m.\u001b[39mread()\u001b[38;5;241m.\u001b[39msplit(\u001b[38;5;124m'\u001b[39m\u001b[38;5;130;01m\\n\u001b[39;00m\u001b[38;5;124m'\u001b[39m)\n\u001b[1;32m      5\u001b[0m     conv_lines \u001b[38;5;241m=\u001b[39m \u001b[38;5;28mopen\u001b[39m(convs_path, encoding\u001b[38;5;241m=\u001b[39m\u001b[38;5;124m'\u001b[39m\u001b[38;5;124mutf-8\u001b[39m\u001b[38;5;124m'\u001b[39m, errors\u001b[38;5;241m=\u001b[39m\u001b[38;5;124m'\u001b[39m\u001b[38;5;124mignore\u001b[39m\u001b[38;5;124m'\u001b[39m)\u001b[38;5;241m.\u001b[39mread()\u001b[38;5;241m.\u001b[39msplit(\u001b[38;5;124m'\u001b[39m\u001b[38;5;130;01m\\n\u001b[39;00m\u001b[38;5;124m'\u001b[39m)\n\u001b[1;32m      7\u001b[0m     \u001b[38;5;66;03m# Créer un dictionnaire pour mapper les ID de ligne au texte\u001b[39;00m\n",
            "\u001b[0;31mNameError\u001b[0m: name 'lines_path' is not defined"
          ]
        }
      ],
      "source": [
        "lines_path = \"cornell movie-dialogs corpus/movie_lines.txt\"\n",
        "convs_path = \"cornell movie-dialogs corpus/movie_conversations.txt\"\n",
        "def load_and_preprocess_data():\n",
        "    # Charger le dataset Cornell Movie Dialogs\n",
        "    # (Vous devrez adapter ceci selon la structure exacte de vos fichiers)\n",
        "    lines = open(lines_path, encoding='utf-8', errors='ignore').read().split('\\n')\n",
        "    conv_lines = open(convs_path, encoding='utf-8', errors='ignore').read().split('\\n')\n",
        "\n",
        "    # Créer un dictionnaire pour mapper les ID de ligne au texte\n",
        "    id2line = {}\n",
        "    for line in lines:\n",
        "        parts = line.split(' +++$+++ ')\n",
        "        if len(parts) == 5:\n",
        "            id2line[parts[0]] = parts[4]\n",
        "\n",
        "    # Créer des paires question-réponse\n",
        "    pairs = []\n",
        "    for conv in conv_lines[:-1]:\n",
        "        parts = conv.split(' +++$+++ ')\n",
        "        if len(parts) == 4:\n",
        "            line_ids = eval(parts[3])  # Convertir la string en liste\n",
        "            for i in range(len(line_ids)-1):\n",
        "                pairs.append((id2line[line_ids[i]], id2line[line_ids[i+1]]))\n",
        "\n",
        "    return pairs\n",
        "\n",
        "# Modifiez clean_text() pour moins agressif :\n",
        "def clean_text(text):\n",
        "    text = text.lower()\n",
        "    # Garder la ponctuation basique\n",
        "    text = re.sub(r\"([.!?])\", r\" \\1\", text)\n",
        "    # Conserver les contractions (améliore le naturel)\n",
        "    text = re.sub(r\"i'm\", \"i'm\", text)\n",
        "    text = re.sub(r\"he's\", \"he's\", text)\n",
        "    # Ne supprimer que les caractères vraiment inutiles\n",
        "    text = re.sub(r\"[^a-zA-Z.!?']\", \" \", text)\n",
        "    return text.strip()\n",
        "\n",
        "# Charger et nettoyer les données\n",
        "pairs = load_and_preprocess_data()\n",
        "cleaned_pairs = [(clean_text(q), clean_text(a)) for q, a in pairs]"
      ]
    },
    {
      "cell_type": "code",
      "execution_count": null,
      "id": "pzKZRMXl3008",
      "metadata": {
        "id": "pzKZRMXl3008"
      },
      "outputs": [],
      "source": [
        "# Paramètres\n",
        "# Paramètres du modèle\n",
        "MAX_LENGTH = 15  # Réduire de 20 à 15 (35% moins de calculs)\n",
        "VOCAB_SIZE = 5000 # Limiter à 5000 mots (au lieu de 8000)\n",
        "EMBEDDING_DIM = 128  # Réduire de 96 à 64\n",
        "LSTM_UNITS = 128  # Réduire de 128 à 64 (4x moins de paramètres)\n",
        "BATCH_SIZE = 128  # Augmenter le batch size\n",
        "EPOCHS = 5  # Réduire le nombre d'epochs\n",
        "\n",
        "# Création du tokenizer\n",
        "tokenizer = Tokenizer(\n",
        "    num_words=VOCAB_SIZE,\n",
        "    oov_token='<OOV>',\n",
        "    filters=''  # Désactive les filtres par défaut\n",
        ")\n",
        "all_text = [q for q, a in cleaned_pairs] + [a for q, a in cleaned_pairs]\n",
        "tokenizer.fit_on_texts(all_text)\n",
        "\n",
        "# Ajout des tokens spéciaux\n",
        "word_index = tokenizer.word_index\n",
        "word_index['<start>'] = len(word_index) + 1\n",
        "word_index['<end>'] = len(word_index) + 1\n",
        "tokenizer.word_index = word_index\n",
        "VOCAB_SIZE = len(word_index) + 1"
      ]
    },
    {
      "cell_type": "code",
      "execution_count": null,
      "id": "fTAgx8Vg35d_",
      "metadata": {
        "id": "fTAgx8Vg35d_"
      },
      "outputs": [],
      "source": [
        "def tokenize_and_pad(pairs):\n",
        "    input_seqs = []\n",
        "    target_seqs = []\n",
        "\n",
        "    for q, a in pairs:\n",
        "        # Tokeniser la question\n",
        "        q_seq = tokenizer.texts_to_sequences([q])[0]\n",
        "        q_seq = q_seq[:MAX_LENGTH-1]  # Tronquer si nécessaire\n",
        "        input_seqs.append(q_seq)\n",
        "\n",
        "        # Tokeniser la réponse avec tokens start/end\n",
        "        a_seq = tokenizer.texts_to_sequences([a])[0]\n",
        "        a_seq = a_seq[:MAX_LENGTH-1]\n",
        "        a_seq = [word_index['<start>']] + a_seq + [word_index['<end>']]\n",
        "        target_seqs.append(a_seq)\n",
        "\n",
        "    # Appliquer le padding\n",
        "    input_seqs = pad_sequences(input_seqs, maxlen=MAX_LENGTH, padding='post')\n",
        "    target_seqs = pad_sequences(target_seqs, maxlen=MAX_LENGTH+1, padding='post')\n",
        "\n",
        "    return input_seqs, target_seqs\n",
        "\n",
        "input_seqs, target_seqs = tokenize_and_pad(cleaned_pairs)\n"
      ]
    },
    {
      "cell_type": "code",
      "execution_count": null,
      "id": "5eeFkeES39tq",
      "metadata": {
        "id": "5eeFkeES39tq"
      },
      "outputs": [],
      "source": [
        "# Encodeur\n",
        "encoder_inputs = Input(shape=(MAX_LENGTH,))\n",
        "encoder_embedding = Embedding(VOCAB_SIZE, EMBEDDING_DIM)(encoder_inputs)\n",
        "encoder_lstm = Bidirectional(LSTM(LSTM_UNITS, return_sequences=True, return_state=True))\n",
        "encoder_outputs, forward_h, forward_c, backward_h, backward_c = encoder_lstm(encoder_embedding)\n",
        "\n",
        "state_h = tf.keras.layers.Concatenate()([forward_h, backward_h])\n",
        "state_c = tf.keras.layers.Concatenate()([forward_c, backward_c])\n",
        "encoder_states = [state_h, state_c]\n",
        "\n",
        "# Décodeur\n",
        "decoder_inputs = Input(shape=(None,))\n",
        "decoder_embedding = Embedding(VOCAB_SIZE, EMBEDDING_DIM)(decoder_inputs)\n",
        "decoder_lstm = LSTM(LSTM_UNITS*2, return_sequences=True, return_state=True)\n",
        "decoder_outputs, _, _ = decoder_lstm(decoder_embedding, initial_state=encoder_states)\n",
        "\n",
        "# Couche d'attention\n",
        "attention = Attention()([decoder_outputs, encoder_outputs])\n",
        "decoder_concat = tf.keras.layers.Concatenate()([decoder_outputs, attention])\n",
        "\n",
        "# Couche de sortie\n",
        "decoder_dense = TimeDistributed(Dense(VOCAB_SIZE, activation='softmax'))\n",
        "decoder_outputs = decoder_dense(decoder_concat)\n",
        "\n",
        "# Modèle complet\n",
        "model = Model([encoder_inputs, decoder_inputs], decoder_outputs)\n",
        "model.compile(optimizer='adam', loss='sparse_categorical_crossentropy', metrics=['accuracy'])\n"
      ]
    },
    {
      "cell_type": "code",
      "execution_count": null,
      "id": "B_7wLYfQ4CLD",
      "metadata": {
        "id": "B_7wLYfQ4CLD"
      },
      "outputs": [],
      "source": [
        "# Séparation train/test\n",
        "X_train, X_test, y_train, y_test = train_test_split(input_seqs, target_seqs, test_size=0.2)\n",
        "\n",
        "# Les entrées du décodeur sont les réponses sans le dernier token\n",
        "decoder_input_data = y_train[:, :-1]\n",
        "# Les sorties du décodeur sont les réponses décalées d'un token\n",
        "decoder_output_data = y_train[:, 1:]\n",
        "\n",
        "# Idem pour les données de test\n",
        "decoder_input_test = y_test[:, :-1]\n",
        "decoder_output_test = y_test[:, 1:]\n"
      ]
    },
    {
      "cell_type": "code",
      "execution_count": null,
      "id": "zl4tmHjZ4Fa0",
      "metadata": {
        "id": "zl4tmHjZ4Fa0"
      },
      "outputs": [],
      "source": [
        "import os\n",
        "\n",
        "if os.path.exists('chatbot_model.h5'):\n",
        "    print(\"Model already trained. Loading the model...\")\n",
        "    model.load_weights('chatbot_model.h5')\n",
        "else:\n",
        "    print(\"Training the model...\")\n",
        "    history = model.fit(\n",
        "        [X_train, decoder_input_data],\n",
        "        np.expand_dims(decoder_output_data, -1),\n",
        "        batch_size=BATCH_SIZE,\n",
        "        epochs=EPOCHS,\n",
        "        validation_data=([X_test, decoder_input_test], np.expand_dims(decoder_output_test, -1)),\n",
        "        callbacks=[\n",
        "            tf.keras.callbacks.EarlyStopping(patience=3),\n",
        "            tf.keras.callbacks.ModelCheckpoint('chatbot_model.h5', save_best_only=True)\n",
        "        ]\n",
        "    )\n"
      ]
    },
    {
      "cell_type": "code",
      "execution_count": null,
      "id": "RO7k5d1e4Lj-",
      "metadata": {
        "id": "RO7k5d1e4Lj-"
      },
      "outputs": [],
      "source": [
        "# Encodeur pour l'inférence\n",
        "encoder_model = Model(encoder_inputs, [encoder_outputs, encoder_states])\n",
        "\n",
        "# Décodeur pour l'inférence\n",
        "decoder_state_input_h = Input(shape=(LSTM_UNITS*2,))\n",
        "decoder_state_input_c = Input(shape=(LSTM_UNITS*2,))\n",
        "decoder_states_inputs = [decoder_state_input_h, decoder_state_input_c]\n",
        "\n",
        "decoder_outputs, state_h, state_c = decoder_lstm(decoder_embedding, initial_state=decoder_states_inputs)\n",
        "decoder_states = [state_h, state_c]\n",
        "\n",
        "# Attention pour l'inférence\n",
        "attention = Attention()([decoder_outputs, encoder_outputs])\n",
        "decoder_concat = tf.keras.layers.Concatenate()([decoder_outputs, attention])\n",
        "\n",
        "decoder_outputs = decoder_dense(decoder_concat)\n",
        "decoder_model = Model(\n",
        "    [decoder_inputs] + [encoder_outputs] + decoder_states_inputs,\n",
        "    [decoder_outputs] + decoder_states\n",
        ")\n"
      ]
    },
    {
      "cell_type": "code",
      "execution_count": null,
      "id": "OwCejjM74OWV",
      "metadata": {
        "id": "OwCejjM74OWV"
      },
      "outputs": [],
      "source": [
        "def generate_response(input_seq):\n",
        "    # Encoder l'input\n",
        "    enc_out, enc_states = encoder_model.predict(input_seq)\n",
        "\n",
        "    # Démarrer avec le token <start>\n",
        "    target_seq = np.zeros((1, 1))\n",
        "    target_seq[0, 0] = word_index['<start>']\n",
        "\n",
        "    stop_condition = False\n",
        "    response = []\n",
        "\n",
        "    while not stop_condition:\n",
        "        output_tokens, h, c = decoder_model.predict([target_seq] + [enc_out] + enc_states)\n",
        "\n",
        "        # Sélectionner le token avec la plus haute probabilité\n",
        "        sampled_token_index = np.argmax(output_tokens[0, -1, :])\n",
        "        sampled_word = None\n",
        "\n",
        "        for word, index in word_index.items():\n",
        "            if index == sampled_token_index:\n",
        "                sampled_word = word\n",
        "                response.append(word)\n",
        "\n",
        "        # Condition d'arrêt: <end> ou longueur max atteinte\n",
        "        if sampled_word == '<end>' or len(response) >= MAX_LENGTH:\n",
        "            stop_condition = True\n",
        "\n",
        "        # Mettre à jour la séquence cible\n",
        "        target_seq = np.zeros((1, 1))\n",
        "        target_seq[0, 0] = sampled_token_index\n",
        "\n",
        "        # Mettre à jour les états\n",
        "        enc_states = [h, c]\n",
        "\n",
        "    return ' '.join(response[:-1])  # Exclure le token <end>"
      ]
    },
    {
      "cell_type": "code",
      "execution_count": null,
      "id": "flTGyxwW4SGs",
      "metadata": {
        "id": "flTGyxwW4SGs"
      },
      "outputs": [],
      "source": [
        "# prompt: appeal generate_response with sentence \"how are you?\"\n",
        "\n",
        "input_sentence = \"how are you today!\"\n",
        "input_seq = tokenizer.texts_to_sequences([clean_text(input_sentence)])\n",
        "input_seq = pad_sequences(input_seq, maxlen=MAX_LENGTH, padding='post')\n",
        "response = generate_response(input_seq)\n",
        "response"
      ]
    }
  ],
  "metadata": {
    "accelerator": "GPU",
    "colab": {
      "gpuType": "T4",
      "provenance": []
    },
    "kernelspec": {
      "display_name": "jpn_florian",
      "language": "python",
      "name": "python3"
    },
    "language_info": {
      "codemirror_mode": {
        "name": "ipython",
        "version": 3
      },
      "file_extension": ".py",
      "mimetype": "text/x-python",
      "name": "python",
      "nbconvert_exporter": "python",
      "pygments_lexer": "ipython3",
      "version": "3.8.20"
    }
  },
  "nbformat": 4,
  "nbformat_minor": 5
}
