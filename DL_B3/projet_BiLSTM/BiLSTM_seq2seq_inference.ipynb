{
  "cells": [
    {
      "cell_type": "code",
      "execution_count": null,
      "id": "28e4f92d",
      "metadata": {
        "colab": {
          "base_uri": "https://localhost:8080/"
        },
        "id": "28e4f92d",
        "outputId": "5dbd7807-891c-49c4-a304-919704b67816"
      },
      "outputs": [],
      "source": [
        "import tensorflow as tf\n",
        "print(\"GPU disponible :\", tf.config.list_physical_devices('GPU'))\n",
        "gpus = tf.config.experimental.list_physical_devices('GPU')\n",
        "if gpus:\n",
        "    try:\n",
        "        tf.config.experimental.set_memory_growth(gpus[0], True)\n",
        "        print(\"GPU configuré avec memory growth\")\n",
        "    except RuntimeError as e:\n",
        "        print(e)"
      ]
    },
    {
      "cell_type": "code",
      "execution_count": null,
      "id": "725a563a",
      "metadata": {
        "id": "725a563a"
      },
      "outputs": [],
      "source": [
        "import numpy as np\n",
        "import pandas as pd\n",
        "import tensorflow as tf\n",
        "from tensorflow.keras.preprocessing.text import Tokenizer\n",
        "from tensorflow.keras.preprocessing.sequence import pad_sequences\n",
        "from tensorflow.keras.models import Model\n",
        "from tensorflow.keras.layers import Input, LSTM, Bidirectional, Dense, Embedding, TimeDistributed, Attention\n",
        "from sklearn.model_selection import train_test_split\n",
        "import re"
      ]
    },
    {
      "cell_type": "code",
      "execution_count": null,
      "id": "66adb9dd",
      "metadata": {
        "colab": {
          "base_uri": "https://localhost:8080/"
        },
        "id": "66adb9dd",
        "outputId": "76d5acc2-d606-4c55-fb95-f85fd25ed7aa"
      },
      "outputs": [],
      "source": [
        "!wget http://www.cs.cornell.edu/~cristian/data/cornell_movie_dialogs_corpus.zip\n",
        "!unzip -o cornell_movie_dialogs_corpus.zip\n",
        "!ls \"cornell movie-dialogs corpus\""
      ]
    },
    {
      "cell_type": "code",
      "execution_count": null,
      "id": "e0871ce2",
      "metadata": {
        "id": "e0871ce2"
      },
      "outputs": [],
      "source": [
        "lines_path = \"cornell movie-dialogs corpus/movie_lines.txt\"\n",
        "convs_path = \"cornell movie-dialogs corpus/movie_conversations.txt\"\n",
        "\n",
        "def load_and_preprocess_data():\n",
        "    # Charger le dataset Cornell Movie Dialogs\n",
        "    # (Vous devrez adapter ceci selon la structure exacte de vos fichiers)\n",
        "    lines = open(lines_path, encoding='utf-8', errors='ignore').read().split('\\n')\n",
        "    conv_lines = open(convs_path, encoding='utf-8', errors='ignore').read().split('\\n')\n",
        "    \n",
        "    # Créer un dictionnaire pour mapper les ID de ligne au texte\n",
        "    id2line = {}\n",
        "    for line in lines:\n",
        "        parts = line.split(' +++$+++ ')\n",
        "        if len(parts) == 5:\n",
        "            id2line[parts[0]] = parts[4]\n",
        "    \n",
        "    # Créer des paires question-réponse\n",
        "    pairs = []\n",
        "    for conv in conv_lines[:-1]:\n",
        "        parts = conv.split(' +++$+++ ')\n",
        "        if len(parts) == 4:\n",
        "            line_ids = eval(parts[3])  # Convertir la string en liste\n",
        "            for i in range(len(line_ids)-1):\n",
        "                pairs.append((id2line[line_ids[i]], id2line[line_ids[i+1]]))\n",
        "    \n",
        "    return pairs\n",
        "\n",
        "def clean_text(text):\n",
        "    \"\"\"Nettoyer le texte\"\"\"\n",
        "    text = text.lower()\n",
        "    text = re.sub(r\"i'm\", \"i am\", text)\n",
        "    text = re.sub(r\"he's\", \"he is\", text)\n",
        "    text = re.sub(r\"she's\", \"she is\", text)\n",
        "    text = re.sub(r\"that's\", \"that is\", text)\n",
        "    text = re.sub(r\"what's\", \"what is\", text)\n",
        "    text = re.sub(r\"where's\", \"where is\", text)\n",
        "    text = re.sub(r\"\\'ll\", \" will\", text)\n",
        "    text = re.sub(r\"\\'ve\", \" have\", text)\n",
        "    text = re.sub(r\"\\'re\", \" are\", text)\n",
        "    text = re.sub(r\"\\'d\", \" would\", text)\n",
        "    text = re.sub(r\"won't\", \"will not\", text)\n",
        "    text = re.sub(r\"can't\", \"cannot\", text)\n",
        "    text = re.sub(r\"[-()\\\"#/@;:<>{}`+=~|.!?,]\", \"\", text)\n",
        "    return text\n",
        "\n",
        "# Charger et nettoyer les données\n",
        "pairs = load_and_preprocess_data()\n",
        "cleaned_pairs = [(clean_text(q), clean_text(a)) for q, a in pairs]"
      ]
    },
    {
      "cell_type": "code",
      "execution_count": null,
      "id": "76eca741",
      "metadata": {
        "id": "76eca741"
      },
      "outputs": [],
      "source": [
        "# Paramètres\n",
        "MAX_LENGTH = 40\n",
        "VOCAB_SIZE = 20000\n",
        "\n",
        "# Création du tokenizer\n",
        "tokenizer = Tokenizer(num_words=VOCAB_SIZE, oov_token='<OOV>')\n",
        "all_text = [q for q, a in cleaned_pairs] + [a for q, a in cleaned_pairs]\n",
        "tokenizer.fit_on_texts(all_text)\n",
        "\n",
        "# Ajout des tokens spéciaux\n",
        "word_index = tokenizer.word_index\n",
        "word_index['<start>'] = len(word_index) + 1\n",
        "word_index['<end>'] = len(word_index) + 1\n",
        "tokenizer.word_index = word_index\n",
        "VOCAB_SIZE = len(word_index) + 1\n",
        "\n",
        "def tokenize_and_pad(pairs):\n",
        "    input_seqs = []\n",
        "    target_seqs = []\n",
        "    \n",
        "    for q, a in pairs:\n",
        "        # Tokeniser la question\n",
        "        q_seq = tokenizer.texts_to_sequences([q])[0]\n",
        "        q_seq = q_seq[:MAX_LENGTH-1]  # Tronquer si nécessaire\n",
        "        input_seqs.append(q_seq)\n",
        "        \n",
        "        # Tokeniser la réponse avec tokens start/end\n",
        "        a_seq = tokenizer.texts_to_sequences([a])[0]\n",
        "        a_seq = a_seq[:MAX_LENGTH-1]\n",
        "        a_seq = [word_index['<start>']] + a_seq + [word_index['<end>']]\n",
        "        target_seqs.append(a_seq)\n",
        "    \n",
        "    # Appliquer le padding\n",
        "    input_seqs = pad_sequences(input_seqs, maxlen=MAX_LENGTH, padding='post')\n",
        "    target_seqs = pad_sequences(target_seqs, maxlen=MAX_LENGTH+1, padding='post')\n",
        "    \n",
        "    return input_seqs, target_seqs\n",
        "\n",
        "input_seqs, target_seqs = tokenize_and_pad(cleaned_pairs)"
      ]
    },
    {
      "cell_type": "code",
      "execution_count": null,
      "id": "7944d754",
      "metadata": {
        "id": "7944d754"
      },
      "outputs": [],
      "source": [
        "# Paramètres du modèle\n",
        "EMBEDDING_DIM = 256\n",
        "LSTM_UNITS = 512\n",
        "BATCH_SIZE = 128\n",
        "EPOCHS = 10\n",
        "\n",
        "# Encodeur\n",
        "encoder_inputs = Input(shape=(MAX_LENGTH,))\n",
        "encoder_embedding = Embedding(VOCAB_SIZE, EMBEDDING_DIM)(encoder_inputs)\n",
        "encoder_lstm = Bidirectional(LSTM(LSTM_UNITS, return_sequences=True, return_state=True))\n",
        "encoder_outputs, forward_h, forward_c, backward_h, backward_c = encoder_lstm(encoder_embedding)\n",
        "\n",
        "state_h = tf.keras.layers.Concatenate()([forward_h, backward_h])\n",
        "state_c = tf.keras.layers.Concatenate()([forward_c, backward_c])\n",
        "encoder_states = [state_h, state_c]\n",
        "\n",
        "# Décodeur\n",
        "decoder_inputs = Input(shape=(None,))\n",
        "decoder_embedding = Embedding(VOCAB_SIZE, EMBEDDING_DIM)(decoder_inputs)\n",
        "decoder_lstm = LSTM(LSTM_UNITS*2, return_sequences=True, return_state=True)\n",
        "decoder_outputs, _, _ = decoder_lstm(decoder_embedding, initial_state=encoder_states)\n",
        "\n",
        "# Couche d'attention\n",
        "attention = Attention()([decoder_outputs, encoder_outputs])\n",
        "decoder_concat = tf.keras.layers.Concatenate()([decoder_outputs, attention])\n",
        "\n",
        "# Couche de sortie\n",
        "decoder_dense = TimeDistributed(Dense(VOCAB_SIZE, activation='softmax'))\n",
        "decoder_outputs = decoder_dense(decoder_concat)\n",
        "\n",
        "# Modèle complet\n",
        "model = Model([encoder_inputs, decoder_inputs], decoder_outputs)\n",
        "model.compile(optimizer='adam', loss='sparse_categorical_crossentropy', metrics=['accuracy'])\n"
      ]
    },
    {
      "cell_type": "code",
      "execution_count": null,
      "id": "6449cf57",
      "metadata": {
        "colab": {
          "base_uri": "https://localhost:8080/",
          "height": 612
        },
        "id": "6449cf57",
        "outputId": "c5306d75-f4f1-422f-fdda-0f9b8d145b07"
      },
      "outputs": [],
      "source": [
        "# Séparation train/test\n",
        "X_train, X_test, y_train, y_test = train_test_split(input_seqs, target_seqs, test_size=0.2)\n",
        "\n",
        "# Les entrées du décodeur sont les réponses sans le dernier token\n",
        "decoder_input_data = y_train[:, :-1]\n",
        "# Les sorties du décodeur sont les réponses décalées d'un token\n",
        "decoder_output_data = y_train[:, 1:]\n",
        "\n",
        "# Idem pour les données de test\n",
        "decoder_input_test = y_test[:, :-1]\n",
        "decoder_output_test = y_test[:, 1:]"
      ]
    },
    {
      "cell_type": "code",
      "execution_count": null,
      "id": "b6031e66",
      "metadata": {
        "colab": {
          "base_uri": "https://localhost:8080/"
        },
        "id": "b6031e66",
        "outputId": "aa409291-9636-48a8-a3b7-4bd9ef8484d0"
      },
      "outputs": [],
      "source": [
        "import os\n",
        "\n",
        "if os.path.exists('chatbot_model.h5'):\n",
        "    print(\"Model already trained. Loading the model...\")\n",
        "    model.load_weights('chatbot_model.h5')\n",
        "else:\n",
        "    print(\"Training the model...\")\n",
        "    history = model.fit(\n",
        "        [X_train, decoder_input_data],\n",
        "        np.expand_dims(decoder_output_data, -1),\n",
        "        batch_size=BATCH_SIZE,\n",
        "        epochs=EPOCHS,\n",
        "        validation_data=([X_test, decoder_input_test], np.expand_dims(decoder_output_test, -1)),\n",
        "        callbacks=[\n",
        "            tf.keras.callbacks.EarlyStopping(patience=3),\n",
        "            tf.keras.callbacks.ModelCheckpoint('chatbot_model.h5', save_best_only=True)\n",
        "        ]\n",
        "    )"
      ]
    },
    {
      "cell_type": "code",
      "execution_count": null,
      "id": "45e6eefb",
      "metadata": {
        "id": "45e6eefb"
      },
      "outputs": [],
      "source": [
        "# Encodeur pour l'inférence\n",
        "encoder_model = Model(encoder_inputs, [encoder_outputs, encoder_states])\n",
        "\n",
        "# Décodeur pour l'inférence\n",
        "decoder_state_input_h = Input(shape=(LSTM_UNITS*2,))\n",
        "decoder_state_input_c = Input(shape=(LSTM_UNITS*2,))\n",
        "decoder_states_inputs = [decoder_state_input_h, decoder_state_input_c]\n",
        "\n",
        "decoder_outputs, state_h, state_c = decoder_lstm(decoder_embedding, initial_state=decoder_states_inputs)\n",
        "decoder_states = [state_h, state_c]\n",
        "\n",
        "# Attention pour l'inférence\n",
        "attention = Attention()([decoder_outputs, encoder_outputs])\n",
        "decoder_concat = tf.keras.layers.Concatenate()([decoder_outputs, attention])\n",
        "\n",
        "decoder_outputs = decoder_dense(decoder_concat)\n",
        "decoder_model = Model(\n",
        "    [decoder_inputs] + [encoder_outputs] + decoder_states_inputs,\n",
        "    [decoder_outputs] + decoder_states\n",
        ")\n",
        "\n",
        "def generate_response(input_seq):\n",
        "    # Encoder l'input\n",
        "    enc_out, enc_states = encoder_model.predict(input_seq)\n",
        "    \n",
        "    # Démarrer avec le token <start>\n",
        "    target_seq = np.zeros((1, 1))\n",
        "    target_seq[0, 0] = word_index['<start>']\n",
        "    \n",
        "    stop_condition = False\n",
        "    response = []\n",
        "    \n",
        "    while not stop_condition:\n",
        "        output_tokens, h, c = decoder_model.predict([target_seq] + [enc_out] + enc_states)\n",
        "        \n",
        "        # Sélectionner le token avec la plus haute probabilité\n",
        "        sampled_token_index = np.argmax(output_tokens[0, -1, :])\n",
        "        sampled_word = None\n",
        "        \n",
        "        for word, index in word_index.items():\n",
        "            if index == sampled_token_index:\n",
        "                sampled_word = word\n",
        "                response.append(word)\n",
        "        \n",
        "        # Condition d'arrêt: <end> ou longueur max atteinte\n",
        "        if sampled_word == '<end>' or len(response) >= MAX_LENGTH:\n",
        "            stop_condition = True\n",
        "        \n",
        "        # Mettre à jour la séquence cible\n",
        "        target_seq = np.zeros((1, 1))\n",
        "        target_seq[0, 0] = sampled_token_index\n",
        "        \n",
        "        # Mettre à jour les états\n",
        "        enc_states = [h, c]\n",
        "    \n",
        "    return ' '.join(response[:-1])  # Exclure le token <end>"
      ]
    }
  ],
  "metadata": {
    "accelerator": "GPU",
    "colab": {
      "gpuType": "T4",
      "provenance": []
    },
    "kernelspec": {
      "display_name": "Python 3",
      "name": "python3"
    },
    "language_info": {
      "codemirror_mode": {
        "name": "ipython",
        "version": 3
      },
      "file_extension": ".py",
      "mimetype": "text/x-python",
      "name": "python",
      "nbconvert_exporter": "python",
      "pygments_lexer": "ipython3",
      "version": "3.8.20"
    }
  },
  "nbformat": 4,
  "nbformat_minor": 5
}
