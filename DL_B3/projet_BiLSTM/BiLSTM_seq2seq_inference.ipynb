{
  "cells": [
    {
      "cell_type": "code",
      "execution_count": 83,
      "id": "bZC2cciG3o6e",
      "metadata": {
        "id": "bZC2cciG3o6e"
      },
      "outputs": [],
      "source": [
        "import numpy as np\n",
        "import pandas as pd\n",
        "import tensorflow as tf\n",
        "from tensorflow.keras.preprocessing.text import Tokenizer\n",
        "from tensorflow.keras.preprocessing.sequence import pad_sequences\n",
        "from tensorflow.keras.models import Model\n",
        "from tensorflow.keras.layers import Input, LSTM, Bidirectional, Dense, Embedding, TimeDistributed, Attention\n",
        "from sklearn.model_selection import train_test_split\n",
        "import re, os\n"
      ]
    },
    {
      "cell_type": "code",
      "execution_count": 84,
      "id": "R3SFC1PP3gYd",
      "metadata": {
        "colab": {
          "base_uri": "https://localhost:8080/"
        },
        "id": "R3SFC1PP3gYd",
        "outputId": "63713f8d-2b8c-4e8b-bdda-44167ea8ab94"
      },
      "outputs": [
        {
          "output_type": "stream",
          "name": "stdout",
          "text": [
            "GPU disponible : [PhysicalDevice(name='/physical_device:GPU:0', device_type='GPU')]\n"
          ]
        }
      ],
      "source": [
        "# -*- coding: utf-8 -*-\n",
        "# Afficher les appareils disponibles\n",
        "print(\"GPU disponible :\", tf.config.list_physical_devices('GPU'))\n"
      ]
    },
    {
      "cell_type": "code",
      "execution_count": 85,
      "id": "O0xdPGov3rZa",
      "metadata": {
        "id": "O0xdPGov3rZa"
      },
      "outputs": [],
      "source": [
        "##Si l'archive n'est pas présente, on la télécharge et on la dézippe\n",
        "if not os.path.exists(\"cornell_movie_dialogs_corpus.zip\"):\n",
        "  print(\"Downloading data (234 MB)\")\n",
        "  !wget http://www.cs.cornell.edu/~cristian/data/cornell_movie_dialogs_corpus.zip\n",
        "  !unzip cornell_movie_dialogs_corpus.zip\n"
      ]
    },
    {
      "cell_type": "code",
      "execution_count": 86,
      "id": "mtTPt2E23t9X",
      "metadata": {
        "id": "mtTPt2E23t9X",
        "colab": {
          "base_uri": "https://localhost:8080/",
          "height": 269
        },
        "outputId": "951689a5-d132-4a35-d035-620ddd1acaba"
      },
      "outputs": [
        {
          "output_type": "error",
          "ename": "KeyboardInterrupt",
          "evalue": "",
          "traceback": [
            "\u001b[0;31m---------------------------------------------------------------------------\u001b[0m",
            "\u001b[0;31mKeyboardInterrupt\u001b[0m                         Traceback (most recent call last)",
            "\u001b[0;32m<ipython-input-86-01316b3fe1a2>\u001b[0m in \u001b[0;36m<cell line: 0>\u001b[0;34m()\u001b[0m\n\u001b[1;32m     39\u001b[0m \u001b[0;31m# Charger et nettoyer les données\u001b[0m\u001b[0;34m\u001b[0m\u001b[0;34m\u001b[0m\u001b[0m\n\u001b[1;32m     40\u001b[0m \u001b[0mpairs\u001b[0m \u001b[0;34m=\u001b[0m \u001b[0mload_and_preprocess_data\u001b[0m\u001b[0;34m(\u001b[0m\u001b[0;34m)\u001b[0m\u001b[0;34m\u001b[0m\u001b[0;34m\u001b[0m\u001b[0m\n\u001b[0;32m---> 41\u001b[0;31m \u001b[0mcleaned_pairs\u001b[0m \u001b[0;34m=\u001b[0m \u001b[0;34m[\u001b[0m\u001b[0;34m(\u001b[0m\u001b[0mclean_text\u001b[0m\u001b[0;34m(\u001b[0m\u001b[0mq\u001b[0m\u001b[0;34m)\u001b[0m\u001b[0;34m,\u001b[0m \u001b[0mclean_text\u001b[0m\u001b[0;34m(\u001b[0m\u001b[0ma\u001b[0m\u001b[0;34m)\u001b[0m\u001b[0;34m)\u001b[0m \u001b[0;32mfor\u001b[0m \u001b[0mq\u001b[0m\u001b[0;34m,\u001b[0m \u001b[0ma\u001b[0m \u001b[0;32min\u001b[0m \u001b[0mpairs\u001b[0m\u001b[0;34m]\u001b[0m\u001b[0;34m\u001b[0m\u001b[0;34m\u001b[0m\u001b[0m\n\u001b[0m",
            "\u001b[0;32m<ipython-input-86-01316b3fe1a2>\u001b[0m in \u001b[0;36m<listcomp>\u001b[0;34m(.0)\u001b[0m\n\u001b[1;32m     39\u001b[0m \u001b[0;31m# Charger et nettoyer les données\u001b[0m\u001b[0;34m\u001b[0m\u001b[0;34m\u001b[0m\u001b[0m\n\u001b[1;32m     40\u001b[0m \u001b[0mpairs\u001b[0m \u001b[0;34m=\u001b[0m \u001b[0mload_and_preprocess_data\u001b[0m\u001b[0;34m(\u001b[0m\u001b[0;34m)\u001b[0m\u001b[0;34m\u001b[0m\u001b[0;34m\u001b[0m\u001b[0m\n\u001b[0;32m---> 41\u001b[0;31m \u001b[0mcleaned_pairs\u001b[0m \u001b[0;34m=\u001b[0m \u001b[0;34m[\u001b[0m\u001b[0;34m(\u001b[0m\u001b[0mclean_text\u001b[0m\u001b[0;34m(\u001b[0m\u001b[0mq\u001b[0m\u001b[0;34m)\u001b[0m\u001b[0;34m,\u001b[0m \u001b[0mclean_text\u001b[0m\u001b[0;34m(\u001b[0m\u001b[0ma\u001b[0m\u001b[0;34m)\u001b[0m\u001b[0;34m)\u001b[0m \u001b[0;32mfor\u001b[0m \u001b[0mq\u001b[0m\u001b[0;34m,\u001b[0m \u001b[0ma\u001b[0m \u001b[0;32min\u001b[0m \u001b[0mpairs\u001b[0m\u001b[0;34m]\u001b[0m\u001b[0;34m\u001b[0m\u001b[0;34m\u001b[0m\u001b[0m\n\u001b[0m",
            "\u001b[0;31mKeyboardInterrupt\u001b[0m: "
          ]
        }
      ],
      "source": [
        "lines_path = \"cornell movie-dialogs corpus/movie_lines.txt\"\n",
        "convs_path = \"cornell movie-dialogs corpus/movie_conversations.txt\"\n",
        "def load_and_preprocess_data():\n",
        "    # Charger le dataset Cornell Movie Dialogs\n",
        "    # (Vous devrez adapter ceci selon la structure exacte de vos fichiers)\n",
        "    lines = open(lines_path, encoding='utf-8', errors='ignore').read().split('\\n')\n",
        "    conv_lines = open(convs_path, encoding='utf-8', errors='ignore').read().split('\\n')\n",
        "\n",
        "    # Créer un dictionnaire pour mapper les ID de ligne au texte\n",
        "    id2line = {}\n",
        "    for line in lines:\n",
        "        parts = line.split(' +++$+++ ')\n",
        "        if len(parts) == 5:\n",
        "            id2line[parts[0]] = parts[4]\n",
        "\n",
        "    # Créer des paires question-réponse\n",
        "    pairs = []\n",
        "    for conv in conv_lines[:-1]:\n",
        "        parts = conv.split(' +++$+++ ')\n",
        "        if len(parts) == 4:\n",
        "            line_ids = eval(parts[3])  # Convertir la string en liste\n",
        "            for i in range(len(line_ids)-1):\n",
        "                pairs.append((id2line[line_ids[i]], id2line[line_ids[i+1]]))\n",
        "\n",
        "    return pairs\n",
        "\n",
        "# Modifiez clean_text() pour moins agressif :\n",
        "def clean_text(text):\n",
        "    text = text.lower()\n",
        "    # Garder la ponctuation basique\n",
        "    text = re.sub(r\"([.!?])\", r\" \\1\", text)\n",
        "    # Conserver les contractions (améliore le naturel)\n",
        "    text = re.sub(r\"i'm\", \"i'm\", text)\n",
        "    text = re.sub(r\"he's\", \"he's\", text)\n",
        "    # Ne supprimer que les caractères vraiment inutiles\n",
        "    text = re.sub(r\"[^a-zA-Z.!?']\", \" \", text)\n",
        "    return text.strip()\n",
        "\n",
        "# Charger et nettoyer les données\n",
        "pairs = load_and_preprocess_data()\n",
        "cleaned_pairs = [(clean_text(q), clean_text(a)) for q, a in pairs]"
      ]
    },
    {
      "cell_type": "code",
      "execution_count": null,
      "id": "pzKZRMXl3008",
      "metadata": {
        "id": "pzKZRMXl3008"
      },
      "outputs": [],
      "source": [
        "# Paramètres\n",
        "# Paramètres du modèle\n",
        "MAX_LENGTH = 15\n",
        "VOCAB_SIZE = 10000\n",
        "EMBEDDING_DIM = 128  # Réduire de 96 à 64\n",
        "LSTM_UNITS = 128  # Réduire de 128 à 64 (4x moins de paramètres)\n",
        "BATCH_SIZE = 128  # Augmenter le batch size\n",
        "EPOCHS = 10  # Réduire le nombre d'epochs\n",
        "\n",
        "# Création du tokenizer\n",
        "tokenizer = Tokenizer(\n",
        "    num_words=VOCAB_SIZE,\n",
        "    oov_token='<OOV>',\n",
        "    filters=''  # Désactive les filtres par défaut\n",
        ")\n",
        "all_text = [q for q, a in cleaned_pairs] + [a for q, a in cleaned_pairs]\n",
        "tokenizer.fit_on_texts(all_text)\n",
        "\n",
        "# Ajout des tokens spéciaux\n",
        "word_index = tokenizer.word_index\n",
        "word_index['<start>'] = len(word_index) + 1\n",
        "word_index['<end>'] = len(word_index) + 1\n",
        "tokenizer.word_index = word_index\n",
        "VOCAB_SIZE = len(word_index) + 1"
      ]
    },
    {
      "cell_type": "code",
      "execution_count": null,
      "id": "fTAgx8Vg35d_",
      "metadata": {
        "id": "fTAgx8Vg35d_"
      },
      "outputs": [],
      "source": [
        "def tokenize_and_pad(pairs):\n",
        "    input_seqs = []\n",
        "    target_seqs = []\n",
        "\n",
        "    for q, a in pairs:\n",
        "        # Tokeniser la question\n",
        "        q_seq = tokenizer.texts_to_sequences([q])[0]\n",
        "        q_seq = q_seq[:MAX_LENGTH-1]  # Tronquer si nécessaire\n",
        "        input_seqs.append(q_seq)\n",
        "\n",
        "        # Tokeniser la réponse avec tokens start/end\n",
        "        a_seq = tokenizer.texts_to_sequences([a])[0]\n",
        "        a_seq = a_seq[:MAX_LENGTH-1]\n",
        "        a_seq = [word_index['<start>']] + a_seq + [word_index['<end>']]\n",
        "        target_seqs.append(a_seq)\n",
        "\n",
        "    # Appliquer le padding\n",
        "    input_seqs = pad_sequences(input_seqs, maxlen=MAX_LENGTH, padding='post')\n",
        "    target_seqs = pad_sequences(target_seqs, maxlen=MAX_LENGTH+1, padding='post')\n",
        "\n",
        "    return input_seqs, target_seqs\n",
        "\n",
        "input_seqs, target_seqs = tokenize_and_pad(cleaned_pairs)\n"
      ]
    },
    {
      "cell_type": "code",
      "execution_count": null,
      "id": "5eeFkeES39tq",
      "metadata": {
        "id": "5eeFkeES39tq"
      },
      "outputs": [],
      "source": [
        "# Encodeur\n",
        "encoder_inputs = Input(shape=(MAX_LENGTH,))\n",
        "encoder_embedding = Embedding(VOCAB_SIZE, EMBEDDING_DIM)(encoder_inputs)\n",
        "encoder_lstm = Bidirectional(LSTM(LSTM_UNITS, return_sequences=True, return_state=True))\n",
        "encoder_outputs, forward_h, forward_c, backward_h, backward_c = encoder_lstm(encoder_embedding)\n",
        "\n",
        "state_h = tf.keras.layers.Concatenate()([forward_h, backward_h])\n",
        "state_c = tf.keras.layers.Concatenate()([forward_c, backward_c])\n",
        "encoder_states = [state_h, state_c]\n",
        "\n",
        "# Décodeur\n",
        "decoder_inputs = Input(shape=(None,))\n",
        "decoder_embedding = Embedding(VOCAB_SIZE, EMBEDDING_DIM)(decoder_inputs)\n",
        "decoder_lstm = LSTM(LSTM_UNITS*2, return_sequences=True, return_state=True)\n",
        "decoder_outputs, _, _ = decoder_lstm(decoder_embedding, initial_state=encoder_states)\n",
        "\n",
        "# Couche d'attention\n",
        "attention = Attention()([decoder_outputs, encoder_outputs])\n",
        "decoder_concat = tf.keras.layers.Concatenate()([decoder_outputs, attention])\n",
        "\n",
        "# Couche de sortie\n",
        "decoder_dense = TimeDistributed(Dense(VOCAB_SIZE, activation='softmax'))\n",
        "decoder_outputs = decoder_dense(decoder_concat)\n",
        "\n",
        "# Modèle complet\n",
        "model = Model([encoder_inputs, decoder_inputs], decoder_outputs)\n",
        "model.compile(optimizer='adam', loss='sparse_categorical_crossentropy', metrics=['accuracy'])\n"
      ]
    },
    {
      "cell_type": "code",
      "execution_count": null,
      "id": "B_7wLYfQ4CLD",
      "metadata": {
        "id": "B_7wLYfQ4CLD"
      },
      "outputs": [],
      "source": [
        "# Séparation train/test\n",
        "X_train, X_test, y_train, y_test = train_test_split(input_seqs, target_seqs, test_size=0.2)\n",
        "\n",
        "# Les entrées du décodeur sont les réponses sans le dernier token\n",
        "decoder_input_data = y_train[:, :-1]\n",
        "# Les sorties du décodeur sont les réponses décalées d'un token\n",
        "decoder_output_data = y_train[:, 1:]\n",
        "\n",
        "# Idem pour les données de test\n",
        "decoder_input_test = y_test[:, :-1]\n",
        "decoder_output_test = y_test[:, 1:]\n"
      ]
    },
    {
      "cell_type": "code",
      "execution_count": null,
      "id": "NnRsg-9Etu4g",
      "metadata": {
        "id": "NnRsg-9Etu4g"
      },
      "outputs": [],
      "source": [
        "from tensorflow.keras.metrics import Metric\n",
        "import tensorflow as tf\n",
        "\n",
        "class Perplexity(Metric):\n",
        "    def __init__(self, name='perplexity', **kwargs):\n",
        "        super().__init__(name=name, **kwargs)\n",
        "        self.total_log_prob = self.add_weight(name='log_prob', initializer='zeros')\n",
        "        self.total_words = self.add_weight(name='words', initializer='zeros')\n",
        "\n",
        "    def update_state(self, y_true, y_pred, sample_weight=None):\n",
        "        # 1. Masque pour ignorer le padding (token 0)\n",
        "        mask = tf.cast(y_true != 0, tf.float32)\n",
        "        num_words = tf.reduce_sum(mask)\n",
        "\n",
        "        # 2. Log-probabilités des tokens cibles (stable numériquement)\n",
        "        y_pred = tf.clip_by_value(y_pred, 1e-10, 1.0)\n",
        "        log_probs = tf.math.log(tf.gather(y_pred, y_true, axis=-1, batch_dims=2))\n",
        "\n",
        "        # 3. Mise à jour des compteurs\n",
        "        self.total_log_prob.assign_add(tf.reduce_sum(log_probs * mask))\n",
        "        self.total_words.assign_add(num_words)\n",
        "\n",
        "    def result(self):\n",
        "        return tf.exp(-self.total_log_prob / self.total_words)\n",
        "\n",
        "    def reset_state(self):\n",
        "        self.total_log_prob.assign(0.0)\n",
        "        self.total_words.assign(0.0)"
      ]
    },
    {
      "cell_type": "code",
      "execution_count": null,
      "id": "8_E9ISSQt4CE",
      "metadata": {
        "id": "8_E9ISSQt4CE"
      },
      "outputs": [],
      "source": [
        "perplexity_metric = Perplexity()\n",
        "accuracy_metric = tf.keras.metrics.SparseCategoricalAccuracy()\n",
        "\n",
        "model.compile(\n",
        "    optimizer='adam',\n",
        "    loss='sparse_categorical_crossentropy',\n",
        "    metrics=[perplexity_metric, accuracy_metric]  # Ajout ici\n",
        ")"
      ]
    },
    {
      "cell_type": "code",
      "execution_count": null,
      "id": "zl4tmHjZ4Fa0",
      "metadata": {
        "id": "zl4tmHjZ4Fa0"
      },
      "outputs": [],
      "source": [
        "import os\n",
        "\n",
        "if os.path.exists('chatbot_model.h5'):\n",
        "    print(\"Model already trained. Loading the model...\")\n",
        "    model.load_weights('chatbot_model.h5')\n",
        "else:\n",
        "    print(\"Training the model...\")\n",
        "    history = model.fit(\n",
        "        [X_train, decoder_input_data],\n",
        "        np.expand_dims(decoder_output_data, -1),\n",
        "        batch_size=BATCH_SIZE,\n",
        "        epochs=EPOCHS,\n",
        "        validation_data=([X_test, decoder_input_test], np.expand_dims(decoder_output_test, -1)),\n",
        "        callbacks=[\n",
        "            tf.keras.callbacks.EarlyStopping(patience=3),\n",
        "            tf.keras.callbacks.ModelCheckpoint('chatbot_model.h5', save_best_only=True)\n",
        "        ]\n",
        "    )\n"
      ]
    },
    {
      "cell_type": "code",
      "execution_count": null,
      "id": "RO7k5d1e4Lj-",
      "metadata": {
        "id": "RO7k5d1e4Lj-"
      },
      "outputs": [],
      "source": [
        "# Encodeur pour l'inférence\n",
        "encoder_model = Model(encoder_inputs, [encoder_outputs, encoder_states])\n",
        "\n",
        "# Décodeur pour l'inférence\n",
        "decoder_state_input_h = Input(shape=(LSTM_UNITS*2,))\n",
        "decoder_state_input_c = Input(shape=(LSTM_UNITS*2,))\n",
        "decoder_states_inputs = [decoder_state_input_h, decoder_state_input_c]\n",
        "\n",
        "decoder_outputs, state_h, state_c = decoder_lstm(decoder_embedding, initial_state=decoder_states_inputs)\n",
        "decoder_states = [state_h, state_c]\n",
        "\n",
        "# Attention pour l'inférence\n",
        "attention = Attention()([decoder_outputs, encoder_outputs])\n",
        "decoder_concat = tf.keras.layers.Concatenate()([decoder_outputs, attention])\n",
        "\n",
        "decoder_outputs = decoder_dense(decoder_concat)\n",
        "decoder_model = Model(\n",
        "    [decoder_inputs] + [encoder_outputs] + decoder_states_inputs,\n",
        "    [decoder_outputs] + decoder_states\n",
        ")\n"
      ]
    },
    {
      "cell_type": "code",
      "execution_count": null,
      "id": "s8HSv37nt9OJ",
      "metadata": {
        "id": "s8HSv37nt9OJ"
      },
      "outputs": [],
      "source": [
        "# Perplexite sur les données de test\n",
        "test_results = model.evaluate(\n",
        "    [X_test, decoder_input_test],\n",
        "    np.expand_dims(decoder_output_test, -1),\n",
        "    batch_size=256,\n",
        "    return_dict=True\n",
        ")\n",
        "\n",
        "print(f\"Perplexité finale: {test_results['perplexity']:.2f}\")\n",
        "print(f\"Perplexité finale: {test_results['accuracy']:.2f}\")"
      ]
    },
    {
      "cell_type": "code",
      "execution_count": null,
      "id": "OwCejjM74OWV",
      "metadata": {
        "id": "OwCejjM74OWV"
      },
      "outputs": [],
      "source": [
        "def generate_response(input_seq):\n",
        "    # Encoder l'input\n",
        "    enc_out, enc_states = encoder_model.predict(input_seq)\n",
        "\n",
        "    # Démarrer avec le token <start>\n",
        "    target_seq = np.zeros((1, 1))\n",
        "    target_seq[0, 0] = word_index['<start>']\n",
        "\n",
        "    stop_condition = False\n",
        "    response = []\n",
        "\n",
        "    while not stop_condition:\n",
        "        output_tokens, h, c = decoder_model.predict([target_seq] + [enc_out] + enc_states)\n",
        "\n",
        "        # Sélectionner le token avec la plus haute probabilité\n",
        "        sampled_token_index = np.argmax(output_tokens[0, -1, :])\n",
        "        sampled_word = None\n",
        "\n",
        "        for word, index in word_index.items():\n",
        "            if index == sampled_token_index:\n",
        "                sampled_word = word\n",
        "                response.append(word)\n",
        "\n",
        "        # Condition d'arrêt: <end> ou longueur max atteinte\n",
        "        if sampled_word == '<end>' or len(response) >= MAX_LENGTH:\n",
        "            stop_condition = True\n",
        "\n",
        "        # Mettre à jour la séquence cible\n",
        "        target_seq = np.zeros((1, 1))\n",
        "        target_seq[0, 0] = sampled_token_index\n",
        "\n",
        "        # Mettre à jour les états\n",
        "        enc_states = [h, c]\n",
        "\n",
        "    return ' '.join(response[:-1])  # Exclure le token <end>"
      ]
    },
    {
      "cell_type": "code",
      "execution_count": null,
      "id": "flTGyxwW4SGs",
      "metadata": {
        "id": "flTGyxwW4SGs"
      },
      "outputs": [],
      "source": [
        "# prompt: appeal generate_response with sentence \"how are you?\"\n",
        "\n",
        "input_sentence = \"do you like sweet?\"\n",
        "input_seq = tokenizer.texts_to_sequences([clean_text(input_sentence)])\n",
        "input_seq = pad_sequences(input_seq, maxlen=MAX_LENGTH, padding='post')\n",
        "response = generate_response(input_seq)\n",
        "response"
      ]
    },
    {
      "cell_type": "code",
      "execution_count": null,
      "id": "jjjRgVEKu0DU",
      "metadata": {
        "id": "jjjRgVEKu0DU"
      },
      "outputs": [],
      "source": []
    }
  ],
  "metadata": {
    "accelerator": "GPU",
    "colab": {
      "gpuType": "A100",
      "provenance": []
    },
    "kernelspec": {
      "display_name": "Python 3",
      "name": "python3"
    },
    "language_info": {
      "codemirror_mode": {
        "name": "ipython",
        "version": 3
      },
      "file_extension": ".py",
      "mimetype": "text/x-python",
      "name": "python",
      "nbconvert_exporter": "python",
      "pygments_lexer": "ipython3",
      "version": "3.8.20"
    }
  },
  "nbformat": 4,
  "nbformat_minor": 5
}