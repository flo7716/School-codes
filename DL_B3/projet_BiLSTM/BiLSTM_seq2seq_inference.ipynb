{
  "cells": [
    {
      "cell_type": "code",
      "execution_count": null,
      "id": "bZC2cciG3o6e",
      "metadata": {
        "id": "bZC2cciG3o6e"
      },
      "outputs": [],
      "source": [
        "import numpy as np\n",
        "import pandas as pd\n",
        "import tensorflow as tf\n",
        "from tensorflow.keras.preprocessing.text import Tokenizer\n",
        "from tensorflow.keras.preprocessing.sequence import pad_sequences\n",
        "from tensorflow.keras.models import Model\n",
        "from tensorflow.keras.layers import Input, LSTM, Bidirectional, Dense, Embedding, TimeDistributed, Attention\n",
        "from sklearn.model_selection import train_test_split\n",
        "import re, os\n"
      ]
    },
    {
      "cell_type": "code",
      "execution_count": null,
      "id": "R3SFC1PP3gYd",
      "metadata": {
        "colab": {
          "base_uri": "https://localhost:8080/"
        },
        "id": "R3SFC1PP3gYd",
        "outputId": "5a3d577c-53d6-4185-d645-d7538dda1c79"
      },
      "outputs": [
        {
          "name": "stdout",
          "output_type": "stream",
          "text": [
            "GPU disponible : []\n"
          ]
        }
      ],
      "source": [
        "# -*- coding: utf-8 -*-\n",
        "# Afficher les appareils disponibles\n",
        "print(\"GPU disponible :\", tf.config.list_physical_devices('GPU'))\n"
      ]
    },
    {
      "cell_type": "code",
      "execution_count": null,
      "id": "O0xdPGov3rZa",
      "metadata": {
        "colab": {
          "base_uri": "https://localhost:8080/",
          "height": 216
        },
        "id": "O0xdPGov3rZa",
        "outputId": "6c88ac10-0a99-438a-e226-90142d30938a"
      },
      "outputs": [
        {
          "ename": "NameError",
          "evalue": "name 'os' is not defined",
          "output_type": "error",
          "traceback": [
            "\u001b[0;31m---------------------------------------------------------------------------\u001b[0m",
            "\u001b[0;31mNameError\u001b[0m                                 Traceback (most recent call last)",
            "\u001b[0;32m<ipython-input-3-5c0865560513>\u001b[0m in \u001b[0;36m<cell line: 0>\u001b[0;34m()\u001b[0m\n\u001b[1;32m      1\u001b[0m \u001b[0;31m##Si l'archive n'est pas présente, on la télécharge et on la dézippe\u001b[0m\u001b[0;34m\u001b[0m\u001b[0;34m\u001b[0m\u001b[0m\n\u001b[0;32m----> 2\u001b[0;31m \u001b[0;32mif\u001b[0m \u001b[0;32mnot\u001b[0m \u001b[0mos\u001b[0m\u001b[0;34m.\u001b[0m\u001b[0mpath\u001b[0m\u001b[0;34m.\u001b[0m\u001b[0mexists\u001b[0m\u001b[0;34m(\u001b[0m\u001b[0;34m\"cornell_movie_dialogs_corpus.zip\"\u001b[0m\u001b[0;34m)\u001b[0m\u001b[0;34m:\u001b[0m\u001b[0;34m\u001b[0m\u001b[0;34m\u001b[0m\u001b[0m\n\u001b[0m\u001b[1;32m      3\u001b[0m   \u001b[0mprint\u001b[0m\u001b[0;34m(\u001b[0m\u001b[0;34m\"Downloading data (234 MB)\"\u001b[0m\u001b[0;34m)\u001b[0m\u001b[0;34m\u001b[0m\u001b[0;34m\u001b[0m\u001b[0m\n\u001b[1;32m      4\u001b[0m   \u001b[0mget_ipython\u001b[0m\u001b[0;34m(\u001b[0m\u001b[0;34m)\u001b[0m\u001b[0;34m.\u001b[0m\u001b[0msystem\u001b[0m\u001b[0;34m(\u001b[0m\u001b[0;34m'wget http://www.cs.cornell.edu/~cristian/data/cornell_movie_dialogs_corpus.zip'\u001b[0m\u001b[0;34m)\u001b[0m\u001b[0;34m\u001b[0m\u001b[0;34m\u001b[0m\u001b[0m\n\u001b[1;32m      5\u001b[0m   \u001b[0mget_ipython\u001b[0m\u001b[0;34m(\u001b[0m\u001b[0;34m)\u001b[0m\u001b[0;34m.\u001b[0m\u001b[0msystem\u001b[0m\u001b[0;34m(\u001b[0m\u001b[0;34m'unzip cornell_movie_dialogs_corpus.zip'\u001b[0m\u001b[0;34m)\u001b[0m\u001b[0;34m\u001b[0m\u001b[0;34m\u001b[0m\u001b[0m\n",
            "\u001b[0;31mNameError\u001b[0m: name 'os' is not defined"
          ]
        }
      ],
      "source": [
        "##Si l'archive n'est pas présente, on la télécharge et on la dézippe\n",
        "if not os.path.exists(\"cornell_movie_dialogs_corpus.zip\"):\n",
        "  print(\"Downloading data (234 MB)\")\n",
        "  !wget http://www.cs.cornell.edu/~cristian/data/cornell_movie_dialogs_corpus.zip\n",
        "  !unzip cornell_movie_dialogs_corpus.zip\n"
      ]
    },
    {
      "cell_type": "code",
      "execution_count": null,
      "id": "mtTPt2E23t9X",
      "metadata": {
        "id": "mtTPt2E23t9X"
      },
      "outputs": [],
      "source": [
        "lines_path = \"cornell movie-dialogs corpus/movie_lines.txt\"\n",
        "convs_path = \"cornell movie-dialogs corpus/movie_conversations.txt\"\n",
        "def load_and_preprocess_data():\n",
        "    # Charger le dataset Cornell Movie Dialogs\n",
        "    # (Vous devrez adapter ceci selon la structure exacte de vos fichiers)\n",
        "    lines = open(lines_path, encoding='utf-8', errors='ignore').read().split('\\n')\n",
        "    conv_lines = open(convs_path, encoding='utf-8', errors='ignore').read().split('\\n')\n",
        "\n",
        "    # Créer un dictionnaire pour mapper les ID de ligne au texte\n",
        "    id2line = {}\n",
        "    for line in lines:\n",
        "        parts = line.split(' +++$+++ ')\n",
        "        if len(parts) == 5:\n",
        "            id2line[parts[0]] = parts[4]\n",
        "\n",
        "    # Créer des paires question-réponse\n",
        "    pairs = []\n",
        "    for conv in conv_lines[:-1]:\n",
        "        parts = conv.split(' +++$+++ ')\n",
        "        if len(parts) == 4:\n",
        "            line_ids = eval(parts[3])  # Convertir la string en liste\n",
        "            for i in range(len(line_ids)-1):\n",
        "                pairs.append((id2line[line_ids[i]], id2line[line_ids[i+1]]))\n",
        "\n",
        "    return pairs\n",
        "\n",
        "# Modifiez clean_text() pour moins agressif :\n",
        "def clean_text(text):\n",
        "    text = text.lower()\n",
        "    # Garder la ponctuation basique\n",
        "    text = re.sub(r\"([.!?])\", r\" \\1\", text)\n",
        "    # Conserver les contractions (améliore le naturel)\n",
        "    text = re.sub(r\"i'm\", \"i'm\", text)\n",
        "    text = re.sub(r\"he's\", \"he's\", text)\n",
        "    # Ne supprimer que les caractères vraiment inutiles\n",
        "    text = re.sub(r\"[^a-zA-Z.!?']\", \" \", text)\n",
        "    return text.strip()\n",
        "\n",
        "# Charger et nettoyer les données\n",
        "pairs = load_and_preprocess_data()\n",
        "cleaned_pairs = [(clean_text(q), clean_text(a)) for q, a in pairs]"
      ]
    },
    {
      "cell_type": "code",
      "execution_count": null,
      "id": "pzKZRMXl3008",
      "metadata": {
        "id": "pzKZRMXl3008"
      },
      "outputs": [],
      "source": [
        "# Paramètres\n",
        "# Paramètres du modèle\n",
        "MAX_LENGTH = 15  # Réduire de 20 à 15 (35% moins de calculs)\n",
        "VOCAB_SIZE = 5000 # Limiter à 5000 mots (au lieu de 8000)\n",
        "EMBEDDING_DIM = 128  # Réduire de 96 à 64\n",
        "LSTM_UNITS = 128  # Réduire de 128 à 64 (4x moins de paramètres)\n",
        "BATCH_SIZE = 128  # Augmenter le batch size\n",
        "EPOCHS = 10  # Réduire le nombre d'epochs\n",
        "\n",
        "# Création du tokenizer\n",
        "tokenizer = Tokenizer(\n",
        "    num_words=VOCAB_SIZE,\n",
        "    oov_token='<OOV>',\n",
        "    filters=''  # Désactive les filtres par défaut\n",
        ")\n",
        "all_text = [q for q, a in cleaned_pairs] + [a for q, a in cleaned_pairs]\n",
        "tokenizer.fit_on_texts(all_text)\n",
        "\n",
        "# Ajout des tokens spéciaux\n",
        "word_index = tokenizer.word_index\n",
        "word_index['<start>'] = len(word_index) + 1\n",
        "word_index['<end>'] = len(word_index) + 1\n",
        "tokenizer.word_index = word_index\n",
        "VOCAB_SIZE = len(word_index) + 1"
      ]
    },
    {
      "cell_type": "code",
      "execution_count": null,
      "id": "fTAgx8Vg35d_",
      "metadata": {
        "id": "fTAgx8Vg35d_"
      },
      "outputs": [],
      "source": [
        "def tokenize_and_pad(pairs):\n",
        "    input_seqs = []\n",
        "    target_seqs = []\n",
        "\n",
        "    for q, a in pairs:\n",
        "        # Tokeniser la question\n",
        "        q_seq = tokenizer.texts_to_sequences([q])[0]\n",
        "        q_seq = q_seq[:MAX_LENGTH-1]  # Tronquer si nécessaire\n",
        "        input_seqs.append(q_seq)\n",
        "\n",
        "        # Tokeniser la réponse avec tokens start/end\n",
        "        a_seq = tokenizer.texts_to_sequences([a])[0]\n",
        "        a_seq = a_seq[:MAX_LENGTH-1]\n",
        "        a_seq = [word_index['<start>']] + a_seq + [word_index['<end>']]\n",
        "        target_seqs.append(a_seq)\n",
        "\n",
        "    # Appliquer le padding\n",
        "    input_seqs = pad_sequences(input_seqs, maxlen=MAX_LENGTH, padding='post')\n",
        "    target_seqs = pad_sequences(target_seqs, maxlen=MAX_LENGTH+1, padding='post')\n",
        "\n",
        "    return input_seqs, target_seqs\n",
        "\n",
        "input_seqs, target_seqs = tokenize_and_pad(cleaned_pairs)\n"
      ]
    },
    {
      "cell_type": "code",
      "execution_count": null,
      "id": "5eeFkeES39tq",
      "metadata": {
        "id": "5eeFkeES39tq"
      },
      "outputs": [],
      "source": [
        "# Encodeur\n",
        "encoder_inputs = Input(shape=(MAX_LENGTH,))\n",
        "encoder_embedding = Embedding(VOCAB_SIZE, EMBEDDING_DIM)(encoder_inputs)\n",
        "encoder_lstm = Bidirectional(LSTM(LSTM_UNITS, return_sequences=True, return_state=True))\n",
        "encoder_outputs, forward_h, forward_c, backward_h, backward_c = encoder_lstm(encoder_embedding)\n",
        "\n",
        "state_h = tf.keras.layers.Concatenate()([forward_h, backward_h])\n",
        "state_c = tf.keras.layers.Concatenate()([forward_c, backward_c])\n",
        "encoder_states = [state_h, state_c]\n",
        "\n",
        "# Décodeur\n",
        "decoder_inputs = Input(shape=(None,))\n",
        "decoder_embedding = Embedding(VOCAB_SIZE, EMBEDDING_DIM)(decoder_inputs)\n",
        "decoder_lstm = LSTM(LSTM_UNITS*2, return_sequences=True, return_state=True)\n",
        "decoder_outputs, _, _ = decoder_lstm(decoder_embedding, initial_state=encoder_states)\n",
        "\n",
        "# Couche d'attention\n",
        "attention = Attention()([decoder_outputs, encoder_outputs])\n",
        "decoder_concat = tf.keras.layers.Concatenate()([decoder_outputs, attention])\n",
        "\n",
        "# Couche de sortie\n",
        "decoder_dense = TimeDistributed(Dense(VOCAB_SIZE, activation='softmax'))\n",
        "decoder_outputs = decoder_dense(decoder_concat)\n",
        "\n",
        "# Modèle complet\n",
        "model = Model([encoder_inputs, decoder_inputs], decoder_outputs)\n",
        "model.compile(optimizer='adam', loss='sparse_categorical_crossentropy', metrics=['accuracy'])\n"
      ]
    },
    {
      "cell_type": "code",
      "execution_count": null,
      "id": "B_7wLYfQ4CLD",
      "metadata": {
        "id": "B_7wLYfQ4CLD"
      },
      "outputs": [],
      "source": [
        "# Séparation train/test\n",
        "X_train, X_test, y_train, y_test = train_test_split(input_seqs, target_seqs, test_size=0.2)\n",
        "\n",
        "# Les entrées du décodeur sont les réponses sans le dernier token\n",
        "decoder_input_data = y_train[:, :-1]\n",
        "# Les sorties du décodeur sont les réponses décalées d'un token\n",
        "decoder_output_data = y_train[:, 1:]\n",
        "\n",
        "# Idem pour les données de test\n",
        "decoder_input_test = y_test[:, :-1]\n",
        "decoder_output_test = y_test[:, 1:]\n"
      ]
    },
    {
      "cell_type": "code",
      "execution_count": 9,
      "id": "zl4tmHjZ4Fa0",
      "metadata": {
        "id": "zl4tmHjZ4Fa0",
        "colab": {
          "base_uri": "https://localhost:8080/"
        },
        "outputId": "ba777d89-ea9e-42da-b920-8dcd80a68c55"
      },
      "outputs": [
        {
          "metadata": {
            "tags": null
          },
          "name": "stdout",
          "output_type": "stream",
          "text": [
            "Training the model...\n",
            "Epoch 1/5\n",
            "\u001b[1m1386/1386\u001b[0m \u001b[32m━━━━━━━━━━━━━━━━━━━━\u001b[0m\u001b[37m\u001b[0m \u001b[1m0s\u001b[0m 179ms/step - accuracy: 0.4617 - loss: 3.7086"
          ]
        },
        {
          "metadata": {
            "tags": null
          },
          "name": "stderr",
          "output_type": "stream",
          "text": [
            "WARNING:absl:You are saving your model as an HDF5 file via `model.save()` or `keras.saving.save_model(model)`. This file format is considered legacy. We recommend using instead the native Keras format, e.g. `model.save('my_model.keras')` or `keras.saving.save_model(model, 'my_model.keras')`. \n"
          ]
        },
        {
          "metadata": {
            "tags": null
          },
          "name": "stdout",
          "output_type": "stream",
          "text": [
            "\u001b[1m1386/1386\u001b[0m \u001b[32m━━━━━━━━━━━━━━━━━━━━\u001b[0m\u001b[37m\u001b[0m \u001b[1m282s\u001b[0m 198ms/step - accuracy: 0.4617 - loss: 3.7082 - val_accuracy: 0.5295 - val_loss: 2.7847\n",
            "Epoch 2/5\n",
            "\u001b[1m1386/1386\u001b[0m \u001b[32m━━━━━━━━━━━━━━━━━━━━\u001b[0m\u001b[37m\u001b[0m \u001b[1m0s\u001b[0m 179ms/step - accuracy: 0.5341 - loss: 2.7318"
          ]
        },
        {
          "metadata": {
            "tags": null
          },
          "name": "stderr",
          "output_type": "stream",
          "text": [
            "WARNING:absl:You are saving your model as an HDF5 file via `model.save()` or `keras.saving.save_model(model)`. This file format is considered legacy. We recommend using instead the native Keras format, e.g. `model.save('my_model.keras')` or `keras.saving.save_model(model, 'my_model.keras')`. \n"
          ]
        },
        {
          "metadata": {
            "tags": null
          },
          "name": "stdout",
          "output_type": "stream",
          "text": [
            "\u001b[1m1386/1386\u001b[0m \u001b[32m━━━━━━━━━━━━━━━━━━━━\u001b[0m\u001b[37m\u001b[0m \u001b[1m275s\u001b[0m 199ms/step - accuracy: 0.5341 - loss: 2.7318 - val_accuracy: 0.5406 - val_loss: 2.6524\n",
            "Epoch 3/5\n",
            "\u001b[1m1386/1386\u001b[0m \u001b[32m━━━━━━━━━━━━━━━━━━━━\u001b[0m\u001b[37m\u001b[0m \u001b[1m0s\u001b[0m 179ms/step - accuracy: 0.5429 - loss: 2.6098"
          ]
        },
        {
          "metadata": {
            "tags": null
          },
          "name": "stderr",
          "output_type": "stream",
          "text": [
            "WARNING:absl:You are saving your model as an HDF5 file via `model.save()` or `keras.saving.save_model(model)`. This file format is considered legacy. We recommend using instead the native Keras format, e.g. `model.save('my_model.keras')` or `keras.saving.save_model(model, 'my_model.keras')`. \n"
          ]
        },
        {
          "metadata": {
            "tags": null
          },
          "name": "stdout",
          "output_type": "stream",
          "text": [
            "\u001b[1m1386/1386\u001b[0m \u001b[32m━━━━━━━━━━━━━━━━━━━━\u001b[0m\u001b[37m\u001b[0m \u001b[1m275s\u001b[0m 198ms/step - accuracy: 0.5429 - loss: 2.6098 - val_accuracy: 0.5456 - val_loss: 2.5933\n",
            "Epoch 4/5\n",
            "\u001b[1m1386/1386\u001b[0m \u001b[32m━━━━━━━━━━━━━━━━━━━━\u001b[0m\u001b[37m\u001b[0m \u001b[1m0s\u001b[0m 180ms/step - accuracy: 0.5485 - loss: 2.5385"
          ]
        },
        {
          "metadata": {
            "tags": null
          },
          "name": "stderr",
          "output_type": "stream",
          "text": [
            "WARNING:absl:You are saving your model as an HDF5 file via `model.save()` or `keras.saving.save_model(model)`. This file format is considered legacy. We recommend using instead the native Keras format, e.g. `model.save('my_model.keras')` or `keras.saving.save_model(model, 'my_model.keras')`. \n"
          ]
        },
        {
          "output_type": "stream",
          "name": "stdout",
          "text": [
            "\u001b[1m1386/1386\u001b[0m \u001b[32m━━━━━━━━━━━━━━━━━━━━\u001b[0m\u001b[37m\u001b[0m \u001b[1m276s\u001b[0m 199ms/step - accuracy: 0.5485 - loss: 2.5385 - val_accuracy: 0.5491 - val_loss: 2.5555\n",
            "Epoch 5/5\n",
            "\u001b[1m1386/1386\u001b[0m \u001b[32m━━━━━━━━━━━━━━━━━━━━\u001b[0m\u001b[37m\u001b[0m \u001b[1m0s\u001b[0m 180ms/step - accuracy: 0.5534 - loss: 2.4793"
          ]
        },
        {
          "output_type": "stream",
          "name": "stderr",
          "text": [
            "WARNING:absl:You are saving your model as an HDF5 file via `model.save()` or `keras.saving.save_model(model)`. This file format is considered legacy. We recommend using instead the native Keras format, e.g. `model.save('my_model.keras')` or `keras.saving.save_model(model, 'my_model.keras')`. \n"
          ]
        },
        {
          "output_type": "stream",
          "name": "stdout",
          "text": [
            "\b\b\b\b\b\b\b\b\b\b\b\b\b\b\b\b\b\b\b\b\b\b\b\b\b\b\b\b\b\b\b\b\b\b\b\b\b\b\b\b\b\b\b\b\b\b\b\b\b\b\b\b\b\b\b\b\b\b\b\b\b\b\b\b\b\b\b\b\b\b\b\b\b\b\b\b\b\b\r\u001b[1m1386/1386\u001b[0m \u001b[32m━━━━━━━━━━━━━━━━━━━━\u001b[0m\u001b[37m\u001b[0m \u001b[1m276s\u001b[0m 199ms/step - accuracy: 0.5534 - loss: 2.4793 - val_accuracy: 0.5516 - val_loss: 2.5314\n"
          ]
        }
      ],
      "source": [
        "import os\n",
        "\n",
        "if os.path.exists('chatbot_model.h5'):\n",
        "    print(\"Model already trained. Loading the model...\")\n",
        "    model.load_weights('chatbot_model.h5')\n",
        "else:\n",
        "    print(\"Training the model...\")\n",
        "    history = model.fit(\n",
        "        [X_train, decoder_input_data],\n",
        "        np.expand_dims(decoder_output_data, -1),\n",
        "        batch_size=BATCH_SIZE,\n",
        "        epochs=EPOCHS,\n",
        "        validation_data=([X_test, decoder_input_test], np.expand_dims(decoder_output_test, -1)),\n",
        "        callbacks=[\n",
        "            tf.keras.callbacks.EarlyStopping(patience=3),\n",
        "            tf.keras.callbacks.ModelCheckpoint('chatbot_model.h5', save_best_only=True)\n",
        "        ]\n",
        "    )\n"
      ]
    },
    {
      "cell_type": "code",
      "execution_count": 10,
      "id": "RO7k5d1e4Lj-",
      "metadata": {
        "id": "RO7k5d1e4Lj-"
      },
      "outputs": [],
      "source": [
        "# Encodeur pour l'inférence\n",
        "encoder_model = Model(encoder_inputs, [encoder_outputs, encoder_states])\n",
        "\n",
        "# Décodeur pour l'inférence\n",
        "decoder_state_input_h = Input(shape=(LSTM_UNITS*2,))\n",
        "decoder_state_input_c = Input(shape=(LSTM_UNITS*2,))\n",
        "decoder_states_inputs = [decoder_state_input_h, decoder_state_input_c]\n",
        "\n",
        "decoder_outputs, state_h, state_c = decoder_lstm(decoder_embedding, initial_state=decoder_states_inputs)\n",
        "decoder_states = [state_h, state_c]\n",
        "\n",
        "# Attention pour l'inférence\n",
        "attention = Attention()([decoder_outputs, encoder_outputs])\n",
        "decoder_concat = tf.keras.layers.Concatenate()([decoder_outputs, attention])\n",
        "\n",
        "decoder_outputs = decoder_dense(decoder_concat)\n",
        "decoder_model = Model(\n",
        "    [decoder_inputs] + [encoder_outputs] + decoder_states_inputs,\n",
        "    [decoder_outputs] + decoder_states\n",
        ")\n"
      ]
    },
    {
      "cell_type": "code",
      "execution_count": 11,
      "id": "OwCejjM74OWV",
      "metadata": {
        "id": "OwCejjM74OWV"
      },
      "outputs": [],
      "source": [
        "def generate_response(input_seq):\n",
        "    # Encoder l'input\n",
        "    enc_out, enc_states = encoder_model.predict(input_seq)\n",
        "\n",
        "    # Démarrer avec le token <start>\n",
        "    target_seq = np.zeros((1, 1))\n",
        "    target_seq[0, 0] = word_index['<start>']\n",
        "\n",
        "    stop_condition = False\n",
        "    response = []\n",
        "\n",
        "    while not stop_condition:\n",
        "        output_tokens, h, c = decoder_model.predict([target_seq] + [enc_out] + enc_states)\n",
        "\n",
        "        # Sélectionner le token avec la plus haute probabilité\n",
        "        sampled_token_index = np.argmax(output_tokens[0, -1, :])\n",
        "        sampled_word = None\n",
        "\n",
        "        for word, index in word_index.items():\n",
        "            if index == sampled_token_index:\n",
        "                sampled_word = word\n",
        "                response.append(word)\n",
        "\n",
        "        # Condition d'arrêt: <end> ou longueur max atteinte\n",
        "        if sampled_word == '<end>' or len(response) >= MAX_LENGTH:\n",
        "            stop_condition = True\n",
        "\n",
        "        # Mettre à jour la séquence cible\n",
        "        target_seq = np.zeros((1, 1))\n",
        "        target_seq[0, 0] = sampled_token_index\n",
        "\n",
        "        # Mettre à jour les états\n",
        "        enc_states = [h, c]\n",
        "\n",
        "    return ' '.join(response[:-1])  # Exclure le token <end>"
      ]
    },
    {
      "cell_type": "code",
      "execution_count": 21,
      "id": "34131cb5",
      "metadata": {
        "colab": {
          "base_uri": "https://localhost:8080/",
          "height": 1000
        },
        "id": "34131cb5",
        "outputId": "fa7583ff-f440-46f6-b7bd-3941527d0f50"
      },
      "outputs": [
        {
          "output_type": "error",
          "ename": "ResourceExhaustedError",
          "evalue": "Graph execution error:\n\nDetected at node functional_1/time_distributed_1/transpose_1 defined at (most recent call last):\n  File \"<frozen runpy>\", line 198, in _run_module_as_main\n\n  File \"<frozen runpy>\", line 88, in _run_code\n\n  File \"/usr/local/lib/python3.11/dist-packages/colab_kernel_launcher.py\", line 37, in <module>\n\n  File \"/usr/local/lib/python3.11/dist-packages/traitlets/config/application.py\", line 992, in launch_instance\n\n  File \"/usr/local/lib/python3.11/dist-packages/ipykernel/kernelapp.py\", line 712, in start\n\n  File \"/usr/local/lib/python3.11/dist-packages/tornado/platform/asyncio.py\", line 205, in start\n\n  File \"/usr/lib/python3.11/asyncio/base_events.py\", line 608, in run_forever\n\n  File \"/usr/lib/python3.11/asyncio/base_events.py\", line 1936, in _run_once\n\n  File \"/usr/lib/python3.11/asyncio/events.py\", line 84, in _run\n\n  File \"/usr/local/lib/python3.11/dist-packages/ipykernel/kernelbase.py\", line 510, in dispatch_queue\n\n  File \"/usr/local/lib/python3.11/dist-packages/ipykernel/kernelbase.py\", line 499, in process_one\n\n  File \"/usr/local/lib/python3.11/dist-packages/ipykernel/kernelbase.py\", line 406, in dispatch_shell\n\n  File \"/usr/local/lib/python3.11/dist-packages/ipykernel/kernelbase.py\", line 730, in execute_request\n\n  File \"/usr/local/lib/python3.11/dist-packages/ipykernel/ipkernel.py\", line 383, in do_execute\n\n  File \"/usr/local/lib/python3.11/dist-packages/ipykernel/zmqshell.py\", line 528, in run_cell\n\n  File \"/usr/local/lib/python3.11/dist-packages/IPython/core/interactiveshell.py\", line 2975, in run_cell\n\n  File \"/usr/local/lib/python3.11/dist-packages/IPython/core/interactiveshell.py\", line 3030, in _run_cell\n\n  File \"/usr/local/lib/python3.11/dist-packages/IPython/core/async_helpers.py\", line 78, in _pseudo_sync_runner\n\n  File \"/usr/local/lib/python3.11/dist-packages/IPython/core/interactiveshell.py\", line 3257, in run_cell_async\n\n  File \"/usr/local/lib/python3.11/dist-packages/IPython/core/interactiveshell.py\", line 3473, in run_ast_nodes\n\n  File \"/usr/local/lib/python3.11/dist-packages/IPython/core/interactiveshell.py\", line 3553, in run_code\n\n  File \"<ipython-input-13-b1ea972831f3>\", line 12, in <cell line: 0>\n\n  File \"<ipython-input-13-b1ea972831f3>\", line 4, in calculate_perplexity\n\n  File \"/usr/local/lib/python3.11/dist-packages/keras/src/utils/traceback_utils.py\", line 117, in error_handler\n\n  File \"/usr/local/lib/python3.11/dist-packages/keras/src/backend/tensorflow/trainer.py\", line 562, in predict\n\n  File \"/usr/local/lib/python3.11/dist-packages/keras/src/backend/tensorflow/trainer.py\", line 259, in one_step_on_data_distributed\n\n  File \"/usr/local/lib/python3.11/dist-packages/keras/src/backend/tensorflow/trainer.py\", line 249, in one_step_on_data\n\n  File \"/usr/local/lib/python3.11/dist-packages/keras/src/backend/tensorflow/trainer.py\", line 104, in predict_step\n\n  File \"/usr/local/lib/python3.11/dist-packages/keras/src/utils/traceback_utils.py\", line 117, in error_handler\n\n  File \"/usr/local/lib/python3.11/dist-packages/keras/src/layers/layer.py\", line 908, in __call__\n\n  File \"/usr/local/lib/python3.11/dist-packages/keras/src/utils/traceback_utils.py\", line 117, in error_handler\n\n  File \"/usr/local/lib/python3.11/dist-packages/keras/src/ops/operation.py\", line 46, in __call__\n\n  File \"/usr/local/lib/python3.11/dist-packages/keras/src/utils/traceback_utils.py\", line 156, in error_handler\n\n  File \"/usr/local/lib/python3.11/dist-packages/keras/src/models/functional.py\", line 182, in call\n\n  File \"/usr/local/lib/python3.11/dist-packages/keras/src/ops/function.py\", line 171, in _run_through_graph\n\n  File \"/usr/local/lib/python3.11/dist-packages/keras/src/models/functional.py\", line 637, in call\n\n  File \"/usr/local/lib/python3.11/dist-packages/keras/src/utils/traceback_utils.py\", line 117, in error_handler\n\n  File \"/usr/local/lib/python3.11/dist-packages/keras/src/layers/layer.py\", line 908, in __call__\n\n  File \"/usr/local/lib/python3.11/dist-packages/keras/src/utils/traceback_utils.py\", line 117, in error_handler\n\n  File \"/usr/local/lib/python3.11/dist-packages/keras/src/ops/operation.py\", line 46, in __call__\n\n  File \"/usr/local/lib/python3.11/dist-packages/keras/src/utils/traceback_utils.py\", line 156, in error_handler\n\n  File \"/usr/local/lib/python3.11/dist-packages/keras/src/layers/rnn/time_distributed.py\", line 110, in call\n\n  File \"/usr/local/lib/python3.11/dist-packages/keras/src/layers/rnn/time_distributed.py\", line 90, in time_distributed_transpose\n\n  File \"/usr/local/lib/python3.11/dist-packages/keras/src/ops/numpy.py\", line 6316, in transpose\n\n  File \"/usr/local/lib/python3.11/dist-packages/keras/src/backend/tensorflow/numpy.py\", line 2496, in transpose\n\nOOM when allocating tensor with shape[32,15,55868] and type float on /job:localhost/replica:0/task:0/device:GPU:0 by allocator GPU_0_bfc\n\t [[{{node functional_1/time_distributed_1/transpose_1}}]]\nHint: If you want to see a list of allocated tensors when OOM happens, add report_tensor_allocations_upon_oom to RunOptions for current allocation info. This isn't available when running in Eager mode.\n [Op:__inference_one_step_on_data_distributed_124627]",
          "traceback": [
            "\u001b[0;31m---------------------------------------------------------------------------\u001b[0m",
            "\u001b[0;31mResourceExhaustedError\u001b[0m                    Traceback (most recent call last)",
            "\u001b[0;32m<ipython-input-21-4ce47199c3cb>\u001b[0m in \u001b[0;36m<cell line: 0>\u001b[0;34m()\u001b[0m\n\u001b[1;32m     24\u001b[0m \u001b[0;34m\u001b[0m\u001b[0m\n\u001b[1;32m     25\u001b[0m \u001b[0;31m# Utilisation :\u001b[0m\u001b[0;34m\u001b[0m\u001b[0;34m\u001b[0m\u001b[0m\n\u001b[0;32m---> 26\u001b[0;31m perplexity = calculate_perplexity(\n\u001b[0m\u001b[1;32m     27\u001b[0m     \u001b[0mmodel\u001b[0m\u001b[0;34m,\u001b[0m\u001b[0;34m\u001b[0m\u001b[0;34m\u001b[0m\u001b[0m\n\u001b[1;32m     28\u001b[0m     \u001b[0mX_test\u001b[0m\u001b[0;34m,\u001b[0m\u001b[0;34m\u001b[0m\u001b[0;34m\u001b[0m\u001b[0m\n",
            "\u001b[0;32m<ipython-input-21-4ce47199c3cb>\u001b[0m in \u001b[0;36mcalculate_perplexity\u001b[0;34m(model, X, decoder_input, decoder_output, batch_size)\u001b[0m\n\u001b[1;32m     10\u001b[0m \u001b[0;34m\u001b[0m\u001b[0m\n\u001b[1;32m     11\u001b[0m         \u001b[0;31m# Prédiction par batch\u001b[0m\u001b[0;34m\u001b[0m\u001b[0;34m\u001b[0m\u001b[0m\n\u001b[0;32m---> 12\u001b[0;31m         \u001b[0mpredictions\u001b[0m \u001b[0;34m=\u001b[0m \u001b[0mmodel\u001b[0m\u001b[0;34m.\u001b[0m\u001b[0mpredict\u001b[0m\u001b[0;34m(\u001b[0m\u001b[0;34m[\u001b[0m\u001b[0mbatch_X\u001b[0m\u001b[0;34m,\u001b[0m \u001b[0mbatch_dec_in\u001b[0m\u001b[0;34m]\u001b[0m\u001b[0;34m,\u001b[0m \u001b[0mverbose\u001b[0m\u001b[0;34m=\u001b[0m\u001b[0;36m0\u001b[0m\u001b[0;34m)\u001b[0m\u001b[0;34m\u001b[0m\u001b[0;34m\u001b[0m\u001b[0m\n\u001b[0m\u001b[1;32m     13\u001b[0m \u001b[0;34m\u001b[0m\u001b[0m\n\u001b[1;32m     14\u001b[0m         \u001b[0;31m# Masque pour ignorer le padding (token 0)\u001b[0m\u001b[0;34m\u001b[0m\u001b[0;34m\u001b[0m\u001b[0m\n",
            "\u001b[0;32m/usr/local/lib/python3.11/dist-packages/keras/src/utils/traceback_utils.py\u001b[0m in \u001b[0;36merror_handler\u001b[0;34m(*args, **kwargs)\u001b[0m\n\u001b[1;32m    120\u001b[0m             \u001b[0;31m# To get the full stack trace, call:\u001b[0m\u001b[0;34m\u001b[0m\u001b[0;34m\u001b[0m\u001b[0m\n\u001b[1;32m    121\u001b[0m             \u001b[0;31m# `keras.config.disable_traceback_filtering()`\u001b[0m\u001b[0;34m\u001b[0m\u001b[0;34m\u001b[0m\u001b[0m\n\u001b[0;32m--> 122\u001b[0;31m             \u001b[0;32mraise\u001b[0m \u001b[0me\u001b[0m\u001b[0;34m.\u001b[0m\u001b[0mwith_traceback\u001b[0m\u001b[0;34m(\u001b[0m\u001b[0mfiltered_tb\u001b[0m\u001b[0;34m)\u001b[0m \u001b[0;32mfrom\u001b[0m \u001b[0;32mNone\u001b[0m\u001b[0;34m\u001b[0m\u001b[0;34m\u001b[0m\u001b[0m\n\u001b[0m\u001b[1;32m    123\u001b[0m         \u001b[0;32mfinally\u001b[0m\u001b[0;34m:\u001b[0m\u001b[0;34m\u001b[0m\u001b[0;34m\u001b[0m\u001b[0m\n\u001b[1;32m    124\u001b[0m             \u001b[0;32mdel\u001b[0m \u001b[0mfiltered_tb\u001b[0m\u001b[0;34m\u001b[0m\u001b[0;34m\u001b[0m\u001b[0m\n",
            "\u001b[0;32m/usr/local/lib/python3.11/dist-packages/tensorflow/python/eager/execute.py\u001b[0m in \u001b[0;36mquick_execute\u001b[0;34m(op_name, num_outputs, inputs, attrs, ctx, name)\u001b[0m\n\u001b[1;32m     57\u001b[0m       \u001b[0me\u001b[0m\u001b[0;34m.\u001b[0m\u001b[0mmessage\u001b[0m \u001b[0;34m+=\u001b[0m \u001b[0;34m\" name: \"\u001b[0m \u001b[0;34m+\u001b[0m \u001b[0mname\u001b[0m\u001b[0;34m\u001b[0m\u001b[0;34m\u001b[0m\u001b[0m\n\u001b[1;32m     58\u001b[0m     \u001b[0;32mraise\u001b[0m \u001b[0mcore\u001b[0m\u001b[0;34m.\u001b[0m\u001b[0m_status_to_exception\u001b[0m\u001b[0;34m(\u001b[0m\u001b[0me\u001b[0m\u001b[0;34m)\u001b[0m \u001b[0;32mfrom\u001b[0m \u001b[0;32mNone\u001b[0m\u001b[0;34m\u001b[0m\u001b[0;34m\u001b[0m\u001b[0m\n\u001b[0;32m---> 59\u001b[0;31m   \u001b[0;32mexcept\u001b[0m \u001b[0mTypeError\u001b[0m \u001b[0;32mas\u001b[0m \u001b[0me\u001b[0m\u001b[0;34m:\u001b[0m\u001b[0;34m\u001b[0m\u001b[0;34m\u001b[0m\u001b[0m\n\u001b[0m\u001b[1;32m     60\u001b[0m     \u001b[0mkeras_symbolic_tensors\u001b[0m \u001b[0;34m=\u001b[0m \u001b[0;34m[\u001b[0m\u001b[0mx\u001b[0m \u001b[0;32mfor\u001b[0m \u001b[0mx\u001b[0m \u001b[0;32min\u001b[0m \u001b[0minputs\u001b[0m \u001b[0;32mif\u001b[0m \u001b[0m_is_keras_symbolic_tensor\u001b[0m\u001b[0;34m(\u001b[0m\u001b[0mx\u001b[0m\u001b[0;34m)\u001b[0m\u001b[0;34m]\u001b[0m\u001b[0;34m\u001b[0m\u001b[0;34m\u001b[0m\u001b[0m\n\u001b[1;32m     61\u001b[0m     \u001b[0;32mif\u001b[0m \u001b[0mkeras_symbolic_tensors\u001b[0m\u001b[0;34m:\u001b[0m\u001b[0;34m\u001b[0m\u001b[0;34m\u001b[0m\u001b[0m\n",
            "\u001b[0;31mResourceExhaustedError\u001b[0m: Graph execution error:\n\nDetected at node functional_1/time_distributed_1/transpose_1 defined at (most recent call last):\n  File \"<frozen runpy>\", line 198, in _run_module_as_main\n\n  File \"<frozen runpy>\", line 88, in _run_code\n\n  File \"/usr/local/lib/python3.11/dist-packages/colab_kernel_launcher.py\", line 37, in <module>\n\n  File \"/usr/local/lib/python3.11/dist-packages/traitlets/config/application.py\", line 992, in launch_instance\n\n  File \"/usr/local/lib/python3.11/dist-packages/ipykernel/kernelapp.py\", line 712, in start\n\n  File \"/usr/local/lib/python3.11/dist-packages/tornado/platform/asyncio.py\", line 205, in start\n\n  File \"/usr/lib/python3.11/asyncio/base_events.py\", line 608, in run_forever\n\n  File \"/usr/lib/python3.11/asyncio/base_events.py\", line 1936, in _run_once\n\n  File \"/usr/lib/python3.11/asyncio/events.py\", line 84, in _run\n\n  File \"/usr/local/lib/python3.11/dist-packages/ipykernel/kernelbase.py\", line 510, in dispatch_queue\n\n  File \"/usr/local/lib/python3.11/dist-packages/ipykernel/kernelbase.py\", line 499, in process_one\n\n  File \"/usr/local/lib/python3.11/dist-packages/ipykernel/kernelbase.py\", line 406, in dispatch_shell\n\n  File \"/usr/local/lib/python3.11/dist-packages/ipykernel/kernelbase.py\", line 730, in execute_request\n\n  File \"/usr/local/lib/python3.11/dist-packages/ipykernel/ipkernel.py\", line 383, in do_execute\n\n  File \"/usr/local/lib/python3.11/dist-packages/ipykernel/zmqshell.py\", line 528, in run_cell\n\n  File \"/usr/local/lib/python3.11/dist-packages/IPython/core/interactiveshell.py\", line 2975, in run_cell\n\n  File \"/usr/local/lib/python3.11/dist-packages/IPython/core/interactiveshell.py\", line 3030, in _run_cell\n\n  File \"/usr/local/lib/python3.11/dist-packages/IPython/core/async_helpers.py\", line 78, in _pseudo_sync_runner\n\n  File \"/usr/local/lib/python3.11/dist-packages/IPython/core/interactiveshell.py\", line 3257, in run_cell_async\n\n  File \"/usr/local/lib/python3.11/dist-packages/IPython/core/interactiveshell.py\", line 3473, in run_ast_nodes\n\n  File \"/usr/local/lib/python3.11/dist-packages/IPython/core/interactiveshell.py\", line 3553, in run_code\n\n  File \"<ipython-input-13-b1ea972831f3>\", line 12, in <cell line: 0>\n\n  File \"<ipython-input-13-b1ea972831f3>\", line 4, in calculate_perplexity\n\n  File \"/usr/local/lib/python3.11/dist-packages/keras/src/utils/traceback_utils.py\", line 117, in error_handler\n\n  File \"/usr/local/lib/python3.11/dist-packages/keras/src/backend/tensorflow/trainer.py\", line 562, in predict\n\n  File \"/usr/local/lib/python3.11/dist-packages/keras/src/backend/tensorflow/trainer.py\", line 259, in one_step_on_data_distributed\n\n  File \"/usr/local/lib/python3.11/dist-packages/keras/src/backend/tensorflow/trainer.py\", line 249, in one_step_on_data\n\n  File \"/usr/local/lib/python3.11/dist-packages/keras/src/backend/tensorflow/trainer.py\", line 104, in predict_step\n\n  File \"/usr/local/lib/python3.11/dist-packages/keras/src/utils/traceback_utils.py\", line 117, in error_handler\n\n  File \"/usr/local/lib/python3.11/dist-packages/keras/src/layers/layer.py\", line 908, in __call__\n\n  File \"/usr/local/lib/python3.11/dist-packages/keras/src/utils/traceback_utils.py\", line 117, in error_handler\n\n  File \"/usr/local/lib/python3.11/dist-packages/keras/src/ops/operation.py\", line 46, in __call__\n\n  File \"/usr/local/lib/python3.11/dist-packages/keras/src/utils/traceback_utils.py\", line 156, in error_handler\n\n  File \"/usr/local/lib/python3.11/dist-packages/keras/src/models/functional.py\", line 182, in call\n\n  File \"/usr/local/lib/python3.11/dist-packages/keras/src/ops/function.py\", line 171, in _run_through_graph\n\n  File \"/usr/local/lib/python3.11/dist-packages/keras/src/models/functional.py\", line 637, in call\n\n  File \"/usr/local/lib/python3.11/dist-packages/keras/src/utils/traceback_utils.py\", line 117, in error_handler\n\n  File \"/usr/local/lib/python3.11/dist-packages/keras/src/layers/layer.py\", line 908, in __call__\n\n  File \"/usr/local/lib/python3.11/dist-packages/keras/src/utils/traceback_utils.py\", line 117, in error_handler\n\n  File \"/usr/local/lib/python3.11/dist-packages/keras/src/ops/operation.py\", line 46, in __call__\n\n  File \"/usr/local/lib/python3.11/dist-packages/keras/src/utils/traceback_utils.py\", line 156, in error_handler\n\n  File \"/usr/local/lib/python3.11/dist-packages/keras/src/layers/rnn/time_distributed.py\", line 110, in call\n\n  File \"/usr/local/lib/python3.11/dist-packages/keras/src/layers/rnn/time_distributed.py\", line 90, in time_distributed_transpose\n\n  File \"/usr/local/lib/python3.11/dist-packages/keras/src/ops/numpy.py\", line 6316, in transpose\n\n  File \"/usr/local/lib/python3.11/dist-packages/keras/src/backend/tensorflow/numpy.py\", line 2496, in transpose\n\nOOM when allocating tensor with shape[32,15,55868] and type float on /job:localhost/replica:0/task:0/device:GPU:0 by allocator GPU_0_bfc\n\t [[{{node functional_1/time_distributed_1/transpose_1}}]]\nHint: If you want to see a list of allocated tensors when OOM happens, add report_tensor_allocations_upon_oom to RunOptions for current allocation info. This isn't available when running in Eager mode.\n [Op:__inference_one_step_on_data_distributed_124627]"
          ]
        }
      ],
      "source": [
        "def safe_calculate_perplexity(model, X, decoder_input, decoder_output, batch_size=32):\n",
        "    total_log_prob = 0\n",
        "    total_words = 0\n",
        "\n",
        "    for i in range(0, len(X), batch_size):\n",
        "        # 1. Chargement par batch\n",
        "        batch_X = X[i:i + batch_size]\n",
        "        batch_dec_in = decoder_input[i:i + batch_size]\n",
        "        batch_dec_out = decoder_output[i:i + batch_size]\n",
        "\n",
        "        # 2. Prédiction batch\n",
        "        predictions = model.predict([batch_X, batch_dec_in], verbose=0)\n",
        "\n",
        "        # 3. Masque pour ignorer le padding (token 0)\n",
        "        mask = (batch_dec_out != 0)\n",
        "        total_words += np.sum(mask)\n",
        "\n",
        "        # 4. Calcul sécurisé des log-probabilités\n",
        "        log_probs = np.log(predictions + 1e-10)  # Évite log(0)\n",
        "        batch_log_prob = np.sum(log_probs * tf.one_hot(batch_dec_out, depth=VOCAB_SIZE) * mask[..., None])\n",
        "        total_log_prob += batch_log_prob\n",
        "\n",
        "    return np.exp(-total_log_prob / total_words)\n",
        "\n",
        "# Utilisation :\n",
        "perplexity = safe_calculate_perplexity(\n",
        "    model,\n",
        "    X_test,\n",
        "    decoder_input_test,\n",
        "    decoder_output_test,  # Shape (samples, seq_len)\n",
        "    batch_size=32  # À réduire si nécessaire (16, 8...)\n",
        ")"
      ]
    },
    {
      "cell_type": "code",
      "execution_count": 18,
      "id": "flTGyxwW4SGs",
      "metadata": {
        "id": "flTGyxwW4SGs",
        "colab": {
          "base_uri": "https://localhost:8080/",
          "height": 142
        },
        "outputId": "3c2784aa-003b-4302-da8b-a362eac1c203"
      },
      "outputs": [
        {
          "output_type": "stream",
          "name": "stdout",
          "text": [
            "\u001b[1m1/1\u001b[0m \u001b[32m━━━━━━━━━━━━━━━━━━━━\u001b[0m\u001b[37m\u001b[0m \u001b[1m0s\u001b[0m 37ms/step\n",
            "\u001b[1m1/1\u001b[0m \u001b[32m━━━━━━━━━━━━━━━━━━━━\u001b[0m\u001b[37m\u001b[0m \u001b[1m0s\u001b[0m 43ms/step\n",
            "\u001b[1m1/1\u001b[0m \u001b[32m━━━━━━━━━━━━━━━━━━━━\u001b[0m\u001b[37m\u001b[0m \u001b[1m0s\u001b[0m 42ms/step\n",
            "\u001b[1m1/1\u001b[0m \u001b[32m━━━━━━━━━━━━━━━━━━━━\u001b[0m\u001b[37m\u001b[0m \u001b[1m0s\u001b[0m 43ms/step\n",
            "\u001b[1m1/1\u001b[0m \u001b[32m━━━━━━━━━━━━━━━━━━━━\u001b[0m\u001b[37m\u001b[0m \u001b[1m0s\u001b[0m 43ms/step\n",
            "\u001b[1m1/1\u001b[0m \u001b[32m━━━━━━━━━━━━━━━━━━━━\u001b[0m\u001b[37m\u001b[0m \u001b[1m0s\u001b[0m 43ms/step\n"
          ]
        },
        {
          "output_type": "execute_result",
          "data": {
            "text/plain": [
              "\"i don't know .\""
            ],
            "application/vnd.google.colaboratory.intrinsic+json": {
              "type": "string"
            }
          },
          "metadata": {},
          "execution_count": 18
        }
      ],
      "source": [
        "# prompt: appeal generate_response with sentence \"how are you?\"\n",
        "\n",
        "input_sentence = \"how old are you?\"\n",
        "input_seq = tokenizer.texts_to_sequences([clean_text(input_sentence)])\n",
        "input_seq = pad_sequences(input_seq, maxlen=MAX_LENGTH, padding='post')\n",
        "response = generate_response(input_seq)\n",
        "response"
      ]
    }
  ],
  "metadata": {
    "colab": {
      "provenance": []
    },
    "kernelspec": {
      "display_name": "jpn_florian",
      "language": "python",
      "name": "python3"
    },
    "language_info": {
      "codemirror_mode": {
        "name": "ipython",
        "version": 3
      },
      "file_extension": ".py",
      "mimetype": "text/x-python",
      "name": "python",
      "nbconvert_exporter": "python",
      "pygments_lexer": "ipython3",
      "version": "3.8.20"
    }
  },
  "nbformat": 4,
  "nbformat_minor": 5
}