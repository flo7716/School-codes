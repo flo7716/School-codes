{
  "cells": [
    {
      "cell_type": "markdown",
      "id": "3239343f",
      "metadata": {
        "id": "3239343f"
      },
      "source": [
        "## Projet BiLSTM\n",
        "\n",
        "Liste des imports"
      ]
    },
    {
      "cell_type": "code",
      "execution_count": null,
      "id": "2b3f8c5d",
      "metadata": {
        "colab": {
          "base_uri": "https://localhost:8080/"
        },
        "id": "2b3f8c5d",
        "outputId": "57788b3f-afa6-432f-af32-e458d6ccf1ff"
      },
      "outputs": [
        {
          "ename": "NameError",
          "evalue": "name 'os' is not defined",
          "output_type": "error",
          "traceback": [
            "\u001b[0;31m---------------------------------------------------------------------------\u001b[0m",
            "\u001b[0;31mNameError\u001b[0m                                 Traceback (most recent call last)",
            "Cell \u001b[0;32mIn[1], line 2\u001b[0m\n\u001b[1;32m      1\u001b[0m \u001b[38;5;66;03m##Si l'archive n'est pas présente, on la télécharge et on la dézippe\u001b[39;00m\n\u001b[0;32m----> 2\u001b[0m \u001b[38;5;28;01mif\u001b[39;00m \u001b[38;5;129;01mnot\u001b[39;00m \u001b[43mos\u001b[49m\u001b[38;5;241m.\u001b[39mpath\u001b[38;5;241m.\u001b[39mexists(\u001b[38;5;124m\"\u001b[39m\u001b[38;5;124mcornell_movie_dialogs_corpus.zip\u001b[39m\u001b[38;5;124m\"\u001b[39m):\n\u001b[1;32m      3\u001b[0m   \u001b[38;5;28mprint\u001b[39m(\u001b[38;5;124m\"\u001b[39m\u001b[38;5;124mDownloading data (234 MB)\u001b[39m\u001b[38;5;124m\"\u001b[39m)\n\u001b[1;32m      4\u001b[0m   get_ipython()\u001b[38;5;241m.\u001b[39msystem(\u001b[38;5;124m'\u001b[39m\u001b[38;5;124mwget http://www.cs.cornell.edu/~cristian/data/cornell_movie_dialogs_corpus.zip\u001b[39m\u001b[38;5;124m'\u001b[39m)\n",
            "\u001b[0;31mNameError\u001b[0m: name 'os' is not defined"
          ]
        }
      ],
      "source": [
        "##Si l'archive n'est pas présente, on la télécharge et on la dézippe\n",
        "import os\n",
        "if not os.path.exists(\"cornell_movie_dialogs_corpus.zip\"):\n",
        "  print(\"Downloading data (234 MB)\")\n",
        "  !wget http://www.cs.cornell.edu/~cristian/data/cornell_movie_dialogs_corpus.zip\n",
        "  !unzip cornell_movie_dialogs_corpus.zip\n",
        "\n",
        "\n"
      ]
    },
    {
      "cell_type": "code",
      "execution_count": 2,
      "id": "b43f843a",
      "metadata": {
        "id": "b43f843a"
      },
      "outputs": [],
      "source": [
        "import os\n",
        "import re\n",
        "import numpy as np\n",
        "from tensorflow.keras.preprocessing.text import Tokenizer\n",
        "from tensorflow.keras.preprocessing.sequence import pad_sequences\n",
        "from tensorflow.keras.models import Sequential\n",
        "from tensorflow.keras.layers import Embedding, Bidirectional, LSTM, Dense\n",
        "from sklearn.model_selection import train_test_split\n"
      ]
    },
    {
      "cell_type": "code",
      "execution_count": 5,
      "id": "faa3654c",
      "metadata": {
        "colab": {
          "base_uri": "https://localhost:8080/"
        },
        "id": "faa3654c",
        "outputId": "f14e00dc-102a-4064-d75b-eeffe747fc26"
      },
      "outputs": [
        {
          "name": "stdout",
          "output_type": "stream",
          "text": [
            "GPU disponible : []\n"
          ]
        }
      ],
      "source": [
        "import tensorflow as tf\n",
        "print(\"GPU disponible :\", tf.config.list_physical_devices('GPU'))\n"
      ]
    },
    {
      "cell_type": "code",
      "execution_count": null,
      "id": "14a3b4ff",
      "metadata": {
        "colab": {
          "base_uri": "https://localhost:8080/",
          "height": 216
        },
        "id": "14a3b4ff",
        "outputId": "9fc03e68-6b74-48b8-9c67-25a20c5a07dd"
      },
      "outputs": [
        {
          "ename": "FileNotFoundError",
          "evalue": "[Errno 2] No such file or directory: 'movie-corpus'",
          "output_type": "error",
          "traceback": [
            "\u001b[0;31m---------------------------------------------------------------------------\u001b[0m",
            "\u001b[0;31mFileNotFoundError\u001b[0m                         Traceback (most recent call last)",
            "\u001b[0;32m<ipython-input-6-8b606f62db6e>\u001b[0m in \u001b[0;36m<cell line: 0>\u001b[0;34m()\u001b[0m\n\u001b[1;32m      1\u001b[0m \u001b[0;31m# Chargement des lignes\u001b[0m\u001b[0;34m\u001b[0m\u001b[0;34m\u001b[0m\u001b[0m\n\u001b[0;32m----> 2\u001b[0;31m \u001b[0;32mwith\u001b[0m \u001b[0mopen\u001b[0m\u001b[0;34m(\u001b[0m\u001b[0;34m\"movie-corpus\"\u001b[0m\u001b[0;34m,\u001b[0m \u001b[0mencoding\u001b[0m\u001b[0;34m=\u001b[0m\u001b[0;34m'iso-8859-1'\u001b[0m\u001b[0;34m)\u001b[0m \u001b[0;32mas\u001b[0m \u001b[0mfile\u001b[0m\u001b[0;34m:\u001b[0m\u001b[0;34m\u001b[0m\u001b[0;34m\u001b[0m\u001b[0m\n\u001b[0m\u001b[1;32m      3\u001b[0m     \u001b[0mlines\u001b[0m \u001b[0;34m=\u001b[0m \u001b[0mfile\u001b[0m\u001b[0;34m.\u001b[0m\u001b[0mread\u001b[0m\u001b[0;34m(\u001b[0m\u001b[0;34m)\u001b[0m\u001b[0;34m.\u001b[0m\u001b[0msplit\u001b[0m\u001b[0;34m(\u001b[0m\u001b[0;34m\"\\n\"\u001b[0m\u001b[0;34m)\u001b[0m\u001b[0;34m\u001b[0m\u001b[0;34m\u001b[0m\u001b[0m\n\u001b[1;32m      4\u001b[0m \u001b[0;34m\u001b[0m\u001b[0m\n\u001b[1;32m      5\u001b[0m \u001b[0;31m# Dictionnaire id -> ligne\u001b[0m\u001b[0;34m\u001b[0m\u001b[0;34m\u001b[0m\u001b[0m\n",
            "\u001b[0;31mFileNotFoundError\u001b[0m: [Errno 2] No such file or directory: 'movie-corpus'"
          ]
        }
      ],
      "source": [
        "# Chargement des lignes\n",
        "with open(\"cornell movie-dialogs corpus/movie_lines.txt\", encoding='iso-8859-1') as file:\n",
        "    lines = file.read().split(\"\\n\")\n",
        "\n",
        "# Dictionnaire id -> ligne\n",
        "id2line = {}\n",
        "for line in lines:\n",
        "    parts = line.split(\" +++$+++ \")\n",
        "    if len(parts) == 5:\n",
        "        id2line[parts[0]] = parts[4]\n",
        "\n",
        "# Chargement des conversations\n",
        "with open(\"cornell movie-dialogs corpus/movie_conversations.txt\", encoding='iso-8859-1') as file:\n",
        "    conversations = file.read().split(\"\\n\")\n",
        "\n",
        "# Création des paires question-réponse\n",
        "questions = []\n",
        "answers = []\n",
        "\n",
        "for conv in conversations:\n",
        "    parts = conv.split(\" +++$+++ \")\n",
        "    if len(parts) == 4:\n",
        "        utterance_ids = eval(parts[3])\n",
        "        for i in range(len(utterance_ids) - 1):\n",
        "            if utterance_ids[i] in id2line and utterance_ids[i+1] in id2line:\n",
        "                questions.append(id2line[utterance_ids[i]])\n",
        "                answers.append(id2line[utterance_ids[i+1]])\n"
      ]
    },
    {
      "cell_type": "code",
      "execution_count": null,
      "id": "acc941a1",
      "metadata": {
        "id": "acc941a1"
      },
      "outputs": [],
      "source": [
        "def clean_text(text):\n",
        "    text = text.lower()\n",
        "    text = re.sub(r\"[^a-zA-Z0-9?.!,¿]+\", \" \", text)\n",
        "    text = re.sub(r\"\\s+\", \" \", text).strip()\n",
        "    return text\n",
        "\n",
        "questions = [clean_text(q) for q in questions]\n",
        "answers = [clean_text(a) for a in answers]\n"
      ]
    },
    {
      "cell_type": "code",
      "execution_count": null,
      "id": "e0aade05",
      "metadata": {
        "id": "e0aade05"
      },
      "outputs": [],
      "source": [
        "vocab_size = 10000\n",
        "max_len = 40\n",
        "\n",
        "tokenizer = Tokenizer(num_words=vocab_size, oov_token=\"<OOV>\")\n",
        "tokenizer.fit_on_texts(questions + answers)\n",
        "\n",
        "question_seq = tokenizer.texts_to_sequences(questions)\n",
        "answer_seq = tokenizer.texts_to_sequences(answers)\n",
        "\n",
        "question_pad = pad_sequences(question_seq, maxlen=max_len, padding='post')\n",
        "answer_pad = pad_sequences(answer_seq, maxlen=max_len, padding='post')\n"
      ]
    },
    {
      "cell_type": "code",
      "execution_count": null,
      "id": "e2965127",
      "metadata": {
        "id": "e2965127"
      },
      "outputs": [],
      "source": [
        "model = Sequential([\n",
        "    Embedding(vocab_size, 256, input_length=max_len),\n",
        "    Bidirectional(LSTM(256, return_sequences=True)),\n",
        "    Bidirectional(LSTM(256)),\n",
        "    Dense(vocab_size, activation='softmax')\n",
        "])\n",
        "\n",
        "model.compile(loss='sparse_categorical_crossentropy', optimizer='adam', metrics=['accuracy'])\n",
        "model.summary()\n"
      ]
    },
    {
      "cell_type": "code",
      "execution_count": null,
      "id": "66efcc44",
      "metadata": {
        "id": "66efcc44"
      },
      "outputs": [],
      "source": [
        "X_train, X_val, y_train, y_val = train_test_split(question_pad, answer_pad, test_size=0.2)\n",
        "\n",
        "# On prédit le premier mot de la réponse comme approximation simple\n",
        "model.fit(X_train, np.expand_dims(y_train[:, 0], -1),\n",
        "          validation_data=(X_val, np.expand_dims(y_val[:, 0], -1)),\n",
        "          batch_size=128, epochs=10)\n"
      ]
    },
    {
      "cell_type": "code",
      "execution_count": null,
      "id": "69420b84",
      "metadata": {
        "id": "69420b84"
      },
      "outputs": [],
      "source": [
        "def generate_reply(input_text):\n",
        "    input_text = clean_text(input_text)\n",
        "    seq = tokenizer.texts_to_sequences([input_text])\n",
        "    padded = pad_sequences(seq, maxlen=max_len, padding='post')\n",
        "    prediction = model.predict(padded)\n",
        "    word_index = np.argmax(prediction[0])\n",
        "\n",
        "    for word, index in tokenizer.word_index.items():\n",
        "        if index == word_index:\n",
        "            return word\n",
        "    return \"...\"\n",
        "\n",
        "# Exemple :\n",
        "generate_reply(\"Are you ready for the adventure?\")\n"
      ]
    }
  ],
  "metadata": {
    "colab": {
      "provenance": []
    },
    "kernelspec": {
      "display_name": "jpn_florian",
      "language": "python",
      "name": "python3"
    },
    "language_info": {
      "codemirror_mode": {
        "name": "ipython",
        "version": 3
      },
      "file_extension": ".py",
      "mimetype": "text/x-python",
      "name": "python",
      "nbconvert_exporter": "python",
      "pygments_lexer": "ipython3",
      "version": "3.8.20"
    }
  },
  "nbformat": 4,
  "nbformat_minor": 5
}
