{
  "cells": [
    {
      "cell_type": "markdown",
      "id": "3239343f",
      "metadata": {
        "id": "3239343f"
      },
      "source": [
        "## Projet BiLSTM\n",
        "\n",
        "Liste des imports"
      ]
    },
    {
      "cell_type": "code",
      "execution_count": 28,
      "id": "0f73307e",
      "metadata": {
        "id": "0f73307e"
      },
      "outputs": [],
      "source": [
        "# Import necessary libraries\n",
        "import numpy as np\n",
        "import pandas as pd\n",
        "import re, ast\n",
        "import os\n",
        "from tensorflow.keras.preprocessing.text import Tokenizer\n",
        "from tensorflow.keras.preprocessing.sequence import pad_sequences\n",
        "from tensorflow.keras.models import Sequential\n",
        "from tensorflow.keras.layers import Embedding, Bidirectional, LSTM, Dense\n",
        "from sklearn.model_selection import train_test_split"
      ]
    },
    {
      "cell_type": "code",
      "execution_count": 29,
      "id": "2b3f8c5d",
      "metadata": {
        "id": "2b3f8c5d"
      },
      "outputs": [],
      "source": [
        "##Si l'archive n'est pas présente, on la télécharge et on la dézippe\n",
        "if not os.path.exists(\"cornell_movie_dialogs_corpus.zip\"):\n",
        "  print(\"Downloading data (234 MB)\")\n",
        "  !wget http://www.cs.cornell.edu/~cristian/data/cornell_movie_dialogs_corpus.zip\n",
        "  !unzip cornell_movie_dialogs_corpus.zip\n",
        "\n",
        "\n"
      ]
    },
    {
      "cell_type": "code",
      "execution_count": 30,
      "id": "faa3654c",
      "metadata": {
        "colab": {
          "base_uri": "https://localhost:8080/"
        },
        "id": "faa3654c",
        "outputId": "e53a84de-f98d-4d8f-aac6-191b26087a99"
      },
      "outputs": [
        {
          "output_type": "stream",
          "name": "stdout",
          "text": [
            "GPU disponible : [PhysicalDevice(name='/physical_device:GPU:0', device_type='GPU')]\n"
          ]
        }
      ],
      "source": [
        "import tensorflow as tf\n",
        "print(\"GPU disponible :\", tf.config.list_physical_devices('GPU'))\n"
      ]
    },
    {
      "cell_type": "code",
      "execution_count": 31,
      "id": "14a3b4ff",
      "metadata": {
        "colab": {
          "base_uri": "https://localhost:8080/"
        },
        "id": "14a3b4ff",
        "outputId": "11bf38c5-f65b-4f90-e59a-24cf65ac3381"
      },
      "outputs": [
        {
          "output_type": "stream",
          "name": "stdout",
          "text": [
            "Can we make this quick?  Roxanne Korrine and Andrew Barrett are having an incredibly horrendous public break- up on the quad.  Again.\n",
            "Loaded 221616 question-answer pairs\n",
            "Sample pair:\n",
            "Q: Can we make this quick?  Roxanne Korrine and Andrew Barrett are having an incredibly horrendous public break- up on the quad.  Again.\n",
            "A: Well, I thought we'd start with pronunciation, if that's okay with you.\n"
          ]
        }
      ],
      "source": [
        "# Your existing data loading code with improvements\n",
        "def load_cornell_data(movie_lines_path, movie_conversations_path):\n",
        "    # Load movie lines\n",
        "    with open(movie_lines_path, encoding='iso-8859-1') as file:\n",
        "        lines = file.read().split(\"\\n\")\n",
        "\n",
        "    # Dictionary: line_id -> text\n",
        "    id2line = {}\n",
        "    for line in lines:\n",
        "        parts = line.split(\" +++$+++ \")\n",
        "        if len(parts) == 5:\n",
        "            id2line[parts[0]] = parts[4]\n",
        "\n",
        "    print(id2line['L194'])\n",
        "\n",
        "    # Load conversations\n",
        "    with open(movie_conversations_path, encoding='iso-8859-1') as file:\n",
        "        conversations = file.read().split(\"\\n\")\n",
        "\n",
        "\n",
        "\n",
        "    # Create question-answer pairs\n",
        "    questions = []\n",
        "    answers = []\n",
        "\n",
        "    for conv in conversations:\n",
        "        parts = conv.split(\" +++$+++ \")\n",
        "        if len(parts) == 4:\n",
        "            try:\n",
        "                utterance_ids = eval(parts[3])  # Safer than eval\n",
        "                for i in range(len(utterance_ids) - 1):\n",
        "                    if utterance_ids[i] in id2line and utterance_ids[i+1] in id2line:\n",
        "                        questions.append(id2line[utterance_ids[i]])\n",
        "                        answers.append(id2line[utterance_ids[i+1]])\n",
        "            except:\n",
        "                print(\"Error in conversation:\", conv)\n",
        "                continue\n",
        "\n",
        "    return questions, answers\n",
        "\n",
        "# Paths to your data files\n",
        "movie_lines_path = \"cornell movie-dialogs corpus/movie_lines.txt\"\n",
        "movie_conversations_path = \"cornell movie-dialogs corpus/movie_conversations.txt\"\n",
        "\n",
        "# Load and verify data\n",
        "questions, answers = load_cornell_data(movie_lines_path, movie_conversations_path)\n",
        "print(f\"Loaded {len(questions)} question-answer pairs\")\n",
        "print(\"Sample pair:\")\n",
        "print(\"Q:\", questions[0])\n",
        "print(\"A:\", answers[0])"
      ]
    },
    {
      "cell_type": "markdown",
      "id": "255cb685",
      "metadata": {
        "id": "255cb685"
      },
      "source": [
        "## Nettoyage du texte"
      ]
    },
    {
      "cell_type": "code",
      "execution_count": 32,
      "id": "acc941a1",
      "metadata": {
        "colab": {
          "base_uri": "https://localhost:8080/"
        },
        "id": "acc941a1",
        "outputId": "65140ccf-40ed-4015-8fd3-a6dfc98f247b"
      },
      "outputs": [
        {
          "output_type": "stream",
          "name": "stdout",
          "text": [
            "After cleaning, kept 221277 pairs\n"
          ]
        }
      ],
      "source": [
        "def clean_text(text):\n",
        "    if not isinstance(text, str):\n",
        "        return \"\"\n",
        "\n",
        "    text = text.lower()\n",
        "    # Replace contractions\n",
        "    text = re.sub(r\"i'm\", \"i am\", text)\n",
        "    text = re.sub(r\"\\'s\", \" is\", text)\n",
        "    text = re.sub(r\"\\'ll\", \" will\", text)\n",
        "    text = re.sub(r\"\\'ve\", \" have\", text)\n",
        "    text = re.sub(r\"\\'re\", \" are\", text)\n",
        "    text = re.sub(r\"\\'d\", \" would\", text)\n",
        "    text = re.sub(r\"won't\", \"will not\", text)\n",
        "    text = re.sub(r\"can't\", \"cannot\", text)\n",
        "    # Remove special characters\n",
        "    text = re.sub(r\"[-()\\\"#/@;:<>{}+=~|.?,]\", \"\", text)\n",
        "    # Remove extra whitespace\n",
        "    text = re.sub(r\"\\s+\", \" \", text).strip()\n",
        "    return text\n",
        "\n",
        "# Clean all questions and answers\n",
        "clean_questions = [clean_text(q) for q in questions]\n",
        "clean_answers = [clean_text(a) for a in answers]\n",
        "\n",
        "# Filter out empty pairs\n",
        "filtered_questions = []\n",
        "filtered_answers = []\n",
        "for q, a in zip(clean_questions, clean_answers):\n",
        "    if q and a:  # Only keep non-empty pairs\n",
        "        filtered_questions.append(q)\n",
        "        filtered_answers.append(a)\n",
        "\n",
        "print(f\"After cleaning, kept {len(filtered_questions)} pairs\")"
      ]
    },
    {
      "cell_type": "markdown",
      "id": "fd496476",
      "metadata": {
        "id": "fd496476"
      },
      "source": [
        "## Tokenisation"
      ]
    },
    {
      "cell_type": "code",
      "execution_count": 33,
      "id": "e0aade05",
      "metadata": {
        "id": "e0aade05"
      },
      "outputs": [],
      "source": [
        "vocab_size = 10000\n",
        "max_len = 40\n",
        "\n",
        "tokenizer = Tokenizer(num_words=vocab_size, oov_token=\"<OOV>\")\n",
        "tokenizer.fit_on_texts(questions + answers)\n",
        "\n",
        "question_seq = tokenizer.texts_to_sequences(questions)\n",
        "answer_seq = tokenizer.texts_to_sequences(answers)\n",
        "\n",
        "question_pad = pad_sequences(question_seq, maxlen=max_len, padding='post')\n",
        "answer_pad = pad_sequences(answer_seq, maxlen=max_len, padding='post')\n"
      ]
    },
    {
      "cell_type": "markdown",
      "id": "94fe8dbe",
      "metadata": {
        "id": "94fe8dbe"
      },
      "source": [
        "## Entraînement du modèle"
      ]
    },
    {
      "cell_type": "code",
      "execution_count": 34,
      "id": "e2965127",
      "metadata": {
        "colab": {
          "base_uri": "https://localhost:8080/",
          "height": 272
        },
        "id": "e2965127",
        "outputId": "c0796af2-9bcb-41be-cfc1-a09c7763e6f0"
      },
      "outputs": [
        {
          "output_type": "display_data",
          "data": {
            "text/plain": [
              "\u001b[1mModel: \"sequential_3\"\u001b[0m\n"
            ],
            "text/html": [
              "<pre style=\"white-space:pre;overflow-x:auto;line-height:normal;font-family:Menlo,'DejaVu Sans Mono',consolas,'Courier New',monospace\"><span style=\"font-weight: bold\">Model: \"sequential_3\"</span>\n",
              "</pre>\n"
            ]
          },
          "metadata": {}
        },
        {
          "output_type": "display_data",
          "data": {
            "text/plain": [
              "┏━━━━━━━━━━━━━━━━━━━━━━━━━━━━━━━━━━━━━━┳━━━━━━━━━━━━━━━━━━━━━━━━━━━━━┳━━━━━━━━━━━━━━━━━┓\n",
              "┃\u001b[1m \u001b[0m\u001b[1mLayer (type)                        \u001b[0m\u001b[1m \u001b[0m┃\u001b[1m \u001b[0m\u001b[1mOutput Shape               \u001b[0m\u001b[1m \u001b[0m┃\u001b[1m \u001b[0m\u001b[1m        Param #\u001b[0m\u001b[1m \u001b[0m┃\n",
              "┡━━━━━━━━━━━━━━━━━━━━━━━━━━━━━━━━━━━━━━╇━━━━━━━━━━━━━━━━━━━━━━━━━━━━━╇━━━━━━━━━━━━━━━━━┩\n",
              "│ embedding_3 (\u001b[38;5;33mEmbedding\u001b[0m)              │ ?                           │     \u001b[38;5;34m0\u001b[0m (unbuilt) │\n",
              "├──────────────────────────────────────┼─────────────────────────────┼─────────────────┤\n",
              "│ bidirectional_6 (\u001b[38;5;33mBidirectional\u001b[0m)      │ ?                           │     \u001b[38;5;34m0\u001b[0m (unbuilt) │\n",
              "├──────────────────────────────────────┼─────────────────────────────┼─────────────────┤\n",
              "│ bidirectional_7 (\u001b[38;5;33mBidirectional\u001b[0m)      │ ?                           │     \u001b[38;5;34m0\u001b[0m (unbuilt) │\n",
              "├──────────────────────────────────────┼─────────────────────────────┼─────────────────┤\n",
              "│ dense_3 (\u001b[38;5;33mDense\u001b[0m)                      │ ?                           │     \u001b[38;5;34m0\u001b[0m (unbuilt) │\n",
              "└──────────────────────────────────────┴─────────────────────────────┴─────────────────┘\n"
            ],
            "text/html": [
              "<pre style=\"white-space:pre;overflow-x:auto;line-height:normal;font-family:Menlo,'DejaVu Sans Mono',consolas,'Courier New',monospace\">┏━━━━━━━━━━━━━━━━━━━━━━━━━━━━━━━━━━━━━━┳━━━━━━━━━━━━━━━━━━━━━━━━━━━━━┳━━━━━━━━━━━━━━━━━┓\n",
              "┃<span style=\"font-weight: bold\"> Layer (type)                         </span>┃<span style=\"font-weight: bold\"> Output Shape                </span>┃<span style=\"font-weight: bold\">         Param # </span>┃\n",
              "┡━━━━━━━━━━━━━━━━━━━━━━━━━━━━━━━━━━━━━━╇━━━━━━━━━━━━━━━━━━━━━━━━━━━━━╇━━━━━━━━━━━━━━━━━┩\n",
              "│ embedding_3 (<span style=\"color: #0087ff; text-decoration-color: #0087ff\">Embedding</span>)              │ ?                           │     <span style=\"color: #00af00; text-decoration-color: #00af00\">0</span> (unbuilt) │\n",
              "├──────────────────────────────────────┼─────────────────────────────┼─────────────────┤\n",
              "│ bidirectional_6 (<span style=\"color: #0087ff; text-decoration-color: #0087ff\">Bidirectional</span>)      │ ?                           │     <span style=\"color: #00af00; text-decoration-color: #00af00\">0</span> (unbuilt) │\n",
              "├──────────────────────────────────────┼─────────────────────────────┼─────────────────┤\n",
              "│ bidirectional_7 (<span style=\"color: #0087ff; text-decoration-color: #0087ff\">Bidirectional</span>)      │ ?                           │     <span style=\"color: #00af00; text-decoration-color: #00af00\">0</span> (unbuilt) │\n",
              "├──────────────────────────────────────┼─────────────────────────────┼─────────────────┤\n",
              "│ dense_3 (<span style=\"color: #0087ff; text-decoration-color: #0087ff\">Dense</span>)                      │ ?                           │     <span style=\"color: #00af00; text-decoration-color: #00af00\">0</span> (unbuilt) │\n",
              "└──────────────────────────────────────┴─────────────────────────────┴─────────────────┘\n",
              "</pre>\n"
            ]
          },
          "metadata": {}
        },
        {
          "output_type": "display_data",
          "data": {
            "text/plain": [
              "\u001b[1m Total params: \u001b[0m\u001b[38;5;34m0\u001b[0m (0.00 B)\n"
            ],
            "text/html": [
              "<pre style=\"white-space:pre;overflow-x:auto;line-height:normal;font-family:Menlo,'DejaVu Sans Mono',consolas,'Courier New',monospace\"><span style=\"font-weight: bold\"> Total params: </span><span style=\"color: #00af00; text-decoration-color: #00af00\">0</span> (0.00 B)\n",
              "</pre>\n"
            ]
          },
          "metadata": {}
        },
        {
          "output_type": "display_data",
          "data": {
            "text/plain": [
              "\u001b[1m Trainable params: \u001b[0m\u001b[38;5;34m0\u001b[0m (0.00 B)\n"
            ],
            "text/html": [
              "<pre style=\"white-space:pre;overflow-x:auto;line-height:normal;font-family:Menlo,'DejaVu Sans Mono',consolas,'Courier New',monospace\"><span style=\"font-weight: bold\"> Trainable params: </span><span style=\"color: #00af00; text-decoration-color: #00af00\">0</span> (0.00 B)\n",
              "</pre>\n"
            ]
          },
          "metadata": {}
        },
        {
          "output_type": "display_data",
          "data": {
            "text/plain": [
              "\u001b[1m Non-trainable params: \u001b[0m\u001b[38;5;34m0\u001b[0m (0.00 B)\n"
            ],
            "text/html": [
              "<pre style=\"white-space:pre;overflow-x:auto;line-height:normal;font-family:Menlo,'DejaVu Sans Mono',consolas,'Courier New',monospace\"><span style=\"font-weight: bold\"> Non-trainable params: </span><span style=\"color: #00af00; text-decoration-color: #00af00\">0</span> (0.00 B)\n",
              "</pre>\n"
            ]
          },
          "metadata": {}
        }
      ],
      "source": [
        "model = Sequential([\n",
        "    Embedding(vocab_size, 256, input_length=max_len),\n",
        "    Bidirectional(LSTM(256, return_sequences=True)),\n",
        "    Bidirectional(LSTM(256)),\n",
        "    Dense(vocab_size, activation='softmax')\n",
        "])\n",
        "\n",
        "model.compile(loss='sparse_categorical_crossentropy', optimizer='adam', metrics=['accuracy'])\n",
        "model.summary()\n"
      ]
    },
    {
      "cell_type": "code",
      "execution_count": 35,
      "id": "66efcc44",
      "metadata": {
        "colab": {
          "base_uri": "https://localhost:8080/"
        },
        "id": "66efcc44",
        "outputId": "b54b37ff-2dda-45b6-e3e8-35b7889d5a89"
      },
      "outputs": [
        {
          "output_type": "stream",
          "name": "stdout",
          "text": [
            "Epoch 1/10\n",
            "\u001b[1m1386/1386\u001b[0m \u001b[32m━━━━━━━━━━━━━━━━━━━━\u001b[0m\u001b[37m\u001b[0m \u001b[1m73s\u001b[0m 50ms/step - accuracy: 0.0937 - loss: 5.5781 - val_accuracy: 0.0972 - val_loss: 5.3167\n",
            "Epoch 2/10\n",
            "\u001b[1m1386/1386\u001b[0m \u001b[32m━━━━━━━━━━━━━━━━━━━━\u001b[0m\u001b[37m\u001b[0m \u001b[1m76s\u001b[0m 46ms/step - accuracy: 0.0987 - loss: 5.2435 - val_accuracy: 0.0988 - val_loss: 5.3078\n",
            "Epoch 3/10\n",
            "\u001b[1m1386/1386\u001b[0m \u001b[32m━━━━━━━━━━━━━━━━━━━━\u001b[0m\u001b[37m\u001b[0m \u001b[1m87s\u001b[0m 49ms/step - accuracy: 0.0984 - loss: 5.1751 - val_accuracy: 0.0992 - val_loss: 5.3176\n",
            "Epoch 4/10\n",
            "\u001b[1m1386/1386\u001b[0m \u001b[32m━━━━━━━━━━━━━━━━━━━━\u001b[0m\u001b[37m\u001b[0m \u001b[1m82s\u001b[0m 50ms/step - accuracy: 0.1022 - loss: 5.0994 - val_accuracy: 0.0960 - val_loss: 5.3487\n",
            "Epoch 5/10\n",
            "\u001b[1m1386/1386\u001b[0m \u001b[32m━━━━━━━━━━━━━━━━━━━━\u001b[0m\u001b[37m\u001b[0m \u001b[1m77s\u001b[0m 46ms/step - accuracy: 0.1039 - loss: 5.0134 - val_accuracy: 0.0976 - val_loss: 5.3878\n",
            "Epoch 6/10\n",
            "\u001b[1m1386/1386\u001b[0m \u001b[32m━━━━━━━━━━━━━━━━━━━━\u001b[0m\u001b[37m\u001b[0m \u001b[1m87s\u001b[0m 50ms/step - accuracy: 0.1049 - loss: 4.9279 - val_accuracy: 0.0972 - val_loss: 5.4498\n",
            "Epoch 7/10\n",
            "\u001b[1m1386/1386\u001b[0m \u001b[32m━━━━━━━━━━━━━━━━━━━━\u001b[0m\u001b[37m\u001b[0m \u001b[1m77s\u001b[0m 46ms/step - accuracy: 0.1068 - loss: 4.8329 - val_accuracy: 0.0932 - val_loss: 5.5284\n",
            "Epoch 8/10\n",
            "\u001b[1m1386/1386\u001b[0m \u001b[32m━━━━━━━━━━━━━━━━━━━━\u001b[0m\u001b[37m\u001b[0m \u001b[1m87s\u001b[0m 50ms/step - accuracy: 0.1134 - loss: 4.7269 - val_accuracy: 0.0915 - val_loss: 5.6041\n",
            "Epoch 9/10\n",
            "\u001b[1m1386/1386\u001b[0m \u001b[32m━━━━━━━━━━━━━━━━━━━━\u001b[0m\u001b[37m\u001b[0m \u001b[1m82s\u001b[0m 50ms/step - accuracy: 0.1189 - loss: 4.6097 - val_accuracy: 0.0921 - val_loss: 5.7075\n",
            "Epoch 10/10\n",
            "\u001b[1m1386/1386\u001b[0m \u001b[32m━━━━━━━━━━━━━━━━━━━━\u001b[0m\u001b[37m\u001b[0m \u001b[1m69s\u001b[0m 50ms/step - accuracy: 0.1257 - loss: 4.4848 - val_accuracy: 0.0899 - val_loss: 5.8219\n"
          ]
        },
        {
          "output_type": "execute_result",
          "data": {
            "text/plain": [
              "<keras.src.callbacks.history.History at 0x79887e3f63d0>"
            ]
          },
          "metadata": {},
          "execution_count": 35
        }
      ],
      "source": [
        "X_train, X_val, y_train, y_val = train_test_split(question_pad, answer_pad, test_size=0.2)\n",
        "\n",
        "# On prédit le premier mot de la réponse comme approximation simple\n",
        "model.fit(X_train, np.expand_dims(y_train[:, 0], -1),\n",
        "          validation_data=(X_val, np.expand_dims(y_val[:, 0], -1)),\n",
        "          batch_size=128, epochs=10)\n"
      ]
    },
    {
      "cell_type": "code",
      "execution_count": 36,
      "id": "53937cec",
      "metadata": {
        "id": "53937cec",
        "outputId": "e8809e3c-fb01-41fe-f850-d3b3ec6f924e",
        "colab": {
          "base_uri": "https://localhost:8080/",
          "height": 323
        }
      },
      "outputs": [
        {
          "output_type": "stream",
          "name": "stdout",
          "text": [
            "\u001b[1m1386/1386\u001b[0m \u001b[32m━━━━━━━━━━━━━━━━━━━━\u001b[0m\u001b[37m\u001b[0m \u001b[1m11s\u001b[0m 8ms/step - accuracy: 0.0898 - loss: 5.8726\n",
            "Validation Loss: 5.821889877319336\n",
            "Validation Accuracy: 0.08990614861249924\n",
            "\u001b[1m1386/1386\u001b[0m \u001b[32m━━━━━━━━━━━━━━━━━━━━\u001b[0m\u001b[37m\u001b[0m \u001b[1m11s\u001b[0m 8ms/step\n"
          ]
        },
        {
          "output_type": "stream",
          "name": "stderr",
          "text": [
            "<ipython-input-36-ce947afd22f7>:8: RuntimeWarning: divide by zero encountered in log\n",
            "  perplexity = np.exp(np.mean(np.log(y_pred) - np.log(y_val[:, 0])))\n"
          ]
        },
        {
          "output_type": "error",
          "ename": "ValueError",
          "evalue": "operands could not be broadcast together with shapes (44324,10000) (44324,) ",
          "traceback": [
            "\u001b[0;31m---------------------------------------------------------------------------\u001b[0m",
            "\u001b[0;31mValueError\u001b[0m                                Traceback (most recent call last)",
            "\u001b[0;32m<ipython-input-36-ce947afd22f7>\u001b[0m in \u001b[0;36m<cell line: 0>\u001b[0;34m()\u001b[0m\n\u001b[1;32m      6\u001b[0m \u001b[0;31m# On évaluera aussi la perplexité du modèle\u001b[0m\u001b[0;34m\u001b[0m\u001b[0;34m\u001b[0m\u001b[0m\n\u001b[1;32m      7\u001b[0m \u001b[0my_pred\u001b[0m \u001b[0;34m=\u001b[0m \u001b[0mmodel\u001b[0m\u001b[0;34m.\u001b[0m\u001b[0mpredict\u001b[0m\u001b[0;34m(\u001b[0m\u001b[0mX_val\u001b[0m\u001b[0;34m)\u001b[0m\u001b[0;34m\u001b[0m\u001b[0;34m\u001b[0m\u001b[0m\n\u001b[0;32m----> 8\u001b[0;31m \u001b[0mperplexity\u001b[0m \u001b[0;34m=\u001b[0m \u001b[0mnp\u001b[0m\u001b[0;34m.\u001b[0m\u001b[0mexp\u001b[0m\u001b[0;34m(\u001b[0m\u001b[0mnp\u001b[0m\u001b[0;34m.\u001b[0m\u001b[0mmean\u001b[0m\u001b[0;34m(\u001b[0m\u001b[0mnp\u001b[0m\u001b[0;34m.\u001b[0m\u001b[0mlog\u001b[0m\u001b[0;34m(\u001b[0m\u001b[0my_pred\u001b[0m\u001b[0;34m)\u001b[0m \u001b[0;34m-\u001b[0m \u001b[0mnp\u001b[0m\u001b[0;34m.\u001b[0m\u001b[0mlog\u001b[0m\u001b[0;34m(\u001b[0m\u001b[0my_val\u001b[0m\u001b[0;34m[\u001b[0m\u001b[0;34m:\u001b[0m\u001b[0;34m,\u001b[0m \u001b[0;36m0\u001b[0m\u001b[0;34m]\u001b[0m\u001b[0;34m)\u001b[0m\u001b[0;34m)\u001b[0m\u001b[0;34m)\u001b[0m\u001b[0;34m\u001b[0m\u001b[0;34m\u001b[0m\u001b[0m\n\u001b[0m\u001b[1;32m      9\u001b[0m \u001b[0mprint\u001b[0m\u001b[0;34m(\u001b[0m\u001b[0;34mf\"Validation Perplexity: {perplexity}\"\u001b[0m\u001b[0;34m)\u001b[0m\u001b[0;34m\u001b[0m\u001b[0;34m\u001b[0m\u001b[0m\n\u001b[1;32m     10\u001b[0m \u001b[0;31m# On sauvegarde le modèle\u001b[0m\u001b[0;34m\u001b[0m\u001b[0;34m\u001b[0m\u001b[0m\n",
            "\u001b[0;31mValueError\u001b[0m: operands could not be broadcast together with shapes (44324,10000) (44324,) "
          ]
        }
      ],
      "source": [
        "## On évalue le modèle sur les données de validation\n",
        "loss, accuracy = model.evaluate(X_val, np.expand_dims(y_val[:, 0], -1))\n",
        "print(f\"Validation Loss: {loss}\")\n",
        "print(f\"Validation Accuracy: {accuracy}\")\n",
        "\n",
        "# On évaluera aussi la perplexité du modèle\n",
        "y_pred = model.predict(X_val)\n",
        "perplexity = np.exp(np.mean(np.log(y_pred) - np.log(y_val[:, 0])))\n",
        "print(f\"Validation Perplexity: {perplexity}\")\n",
        "# On sauvegarde le modèle\n",
        "model.save(\"movie_dialog_model.h5\")"
      ]
    },
    {
      "cell_type": "code",
      "execution_count": null,
      "id": "69420b84",
      "metadata": {
        "id": "69420b84"
      },
      "outputs": [],
      "source": [
        "def generate_reply(input_text):\n",
        "    input_text = clean_text(input_text)\n",
        "    seq = tokenizer.texts_to_sequences([input_text])\n",
        "    padded = pad_sequences(seq, maxlen=max_len, padding='post')\n",
        "    prediction = model.predict(padded)\n",
        "    word_index = np.argmax(prediction[0])\n",
        "\n",
        "    for word, index in tokenizer.word_index.items():\n",
        "        if index == word_index:\n",
        "            return word\n",
        "    return \"...\"\n",
        "\n",
        "# Exemple :\n",
        "generate_reply(\"Are you ready for the adventure?\")\n"
      ]
    }
  ],
  "metadata": {
    "colab": {
      "provenance": []
    },
    "kernelspec": {
      "display_name": "jpn_florian",
      "language": "python",
      "name": "python3"
    },
    "language_info": {
      "codemirror_mode": {
        "name": "ipython",
        "version": 3
      },
      "file_extension": ".py",
      "mimetype": "text/x-python",
      "name": "python",
      "nbconvert_exporter": "python",
      "pygments_lexer": "ipython3",
      "version": "3.8.20"
    }
  },
  "nbformat": 4,
  "nbformat_minor": 5
}