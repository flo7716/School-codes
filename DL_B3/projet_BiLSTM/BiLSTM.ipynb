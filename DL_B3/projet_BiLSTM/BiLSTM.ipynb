{
  "cells": [
    {
      "cell_type": "markdown",
      "id": "3239343f",
      "metadata": {
        "id": "3239343f"
      },
      "source": [
        "## Projet BiLSTM\n",
        "\n",
        "Liste des imports"
      ]
    },
    {
      "cell_type": "code",
      "execution_count": 2,
      "id": "2b3f8c5d",
      "metadata": {
        "colab": {
          "base_uri": "https://localhost:8080/"
        },
        "id": "2b3f8c5d",
        "outputId": "57788b3f-afa6-432f-af32-e458d6ccf1ff"
      },
      "outputs": [
        {
          "name": "stdout",
          "output_type": "stream",
          "text": [
            "Downloading data (234 MB)\n",
            "--2025-04-08 08:49:33--  http://www.cs.cornell.edu/~cristian/data/cornell_movie_dialogs_corpus.zip\n",
            "Resolving www.cs.cornell.edu (www.cs.cornell.edu)... 132.236.207.53\n",
            "Connecting to www.cs.cornell.edu (www.cs.cornell.edu)|132.236.207.53|:80... connected.\n",
            "HTTP request sent, awaiting response... 301 Moved Permanently\n",
            "Location: https://www.cs.cornell.edu/~cristian/data/cornell_movie_dialogs_corpus.zip [following]\n",
            "--2025-04-08 08:49:39--  https://www.cs.cornell.edu/~cristian/data/cornell_movie_dialogs_corpus.zip\n",
            "Connecting to www.cs.cornell.edu (www.cs.cornell.edu)|132.236.207.53|:443... connected.\n",
            "HTTP request sent, awaiting response... 200 OK\n",
            "Length: 9916637 (9.5M) [application/zip]\n",
            "Saving to: ‘cornell_movie_dialogs_corpus.zip’\n",
            "\n",
            "cornell_movie_dialo  11%[=>                  ]   1.13M   217KB/s    in 5.6s    \n",
            "\n",
            "2025-04-08 08:49:45 (206 KB/s) - Read error at byte 1183744/9916637 (Connection reset by peer). Retrying.\n",
            "\n",
            "--2025-04-08 08:49:46--  (try: 2)  https://www.cs.cornell.edu/~cristian/data/cornell_movie_dialogs_corpus.zip\n",
            "Connecting to www.cs.cornell.edu (www.cs.cornell.edu)|132.236.207.53|:443... connected.\n",
            "HTTP request sent, awaiting response... 206 Partial Content\n",
            "Length: 9916637 (9.5M), 8732893 (8.3M) remaining [application/zip]\n",
            "Saving to: ‘cornell_movie_dialogs_corpus.zip’\n",
            "\n",
            "cornell_movie_dialo 100%[++=================>]   9.46M  5.87MB/s    in 1.4s    \n",
            "\n",
            "2025-04-08 08:49:48 (5.87 MB/s) - ‘cornell_movie_dialogs_corpus.zip’ saved [9916637/9916637]\n",
            "\n",
            "Archive:  cornell_movie_dialogs_corpus.zip\n",
            "   creating: cornell movie-dialogs corpus/\n",
            "  inflating: cornell movie-dialogs corpus/.DS_Store  \n",
            "   creating: __MACOSX/\n",
            "   creating: __MACOSX/cornell movie-dialogs corpus/\n",
            "  inflating: __MACOSX/cornell movie-dialogs corpus/._.DS_Store  \n",
            "  inflating: cornell movie-dialogs corpus/chameleons.pdf  \n",
            "  inflating: __MACOSX/cornell movie-dialogs corpus/._chameleons.pdf  \n",
            "  inflating: cornell movie-dialogs corpus/movie_characters_metadata.txt  \n",
            "  inflating: cornell movie-dialogs corpus/movie_conversations.txt  \n",
            "  inflating: cornell movie-dialogs corpus/movie_lines.txt  \n",
            "  inflating: cornell movie-dialogs corpus/movie_titles_metadata.txt  \n",
            "  inflating: cornell movie-dialogs corpus/raw_script_urls.txt  \n",
            "  inflating: cornell movie-dialogs corpus/README.txt  \n",
            "  inflating: __MACOSX/cornell movie-dialogs corpus/._README.txt  \n"
          ]
        }
      ],
      "source": [
        "##Si l'archive n'est pas présente, on la télécharge et on la dézippe\n",
        "import os\n",
        "if not os.path.exists(\"cornell_movie_dialogs_corpus.zip\"):\n",
        "  print(\"Downloading data (234 MB)\")\n",
        "  !wget http://www.cs.cornell.edu/~cristian/data/cornell_movie_dialogs_corpus.zip\n",
        "  !unzip cornell_movie_dialogs_corpus.zip\n",
        "\n",
        "\n"
      ]
    },
    {
      "cell_type": "code",
      "execution_count": 2,
      "id": "b43f843a",
      "metadata": {
        "id": "b43f843a"
      },
      "outputs": [],
      "source": [
        "import os\n",
        "import re\n",
        "import numpy as np\n",
        "from tensorflow.keras.preprocessing.text import Tokenizer\n",
        "from tensorflow.keras.preprocessing.sequence import pad_sequences\n",
        "from tensorflow.keras.models import Sequential\n",
        "from tensorflow.keras.layers import Embedding, Bidirectional, LSTM, Dense\n",
        "from sklearn.model_selection import train_test_split\n"
      ]
    },
    {
      "cell_type": "code",
      "execution_count": 5,
      "id": "faa3654c",
      "metadata": {
        "colab": {
          "base_uri": "https://localhost:8080/"
        },
        "id": "faa3654c",
        "outputId": "f14e00dc-102a-4064-d75b-eeffe747fc26"
      },
      "outputs": [
        {
          "name": "stdout",
          "output_type": "stream",
          "text": [
            "GPU disponible : []\n"
          ]
        }
      ],
      "source": [
        "import tensorflow as tf\n",
        "print(\"GPU disponible :\", tf.config.list_physical_devices('GPU'))\n"
      ]
    },
    {
      "cell_type": "code",
      "execution_count": null,
      "id": "14a3b4ff",
      "metadata": {
        "colab": {
          "base_uri": "https://localhost:8080/",
          "height": 216
        },
        "id": "14a3b4ff",
        "outputId": "9fc03e68-6b74-48b8-9c67-25a20c5a07dd"
      },
      "outputs": [
        {
          "ename": "FileNotFoundError",
          "evalue": "[Errno 2] No such file or directory: 'movie-corpus'",
          "output_type": "error",
          "traceback": [
            "\u001b[0;31m---------------------------------------------------------------------------\u001b[0m",
            "\u001b[0;31mFileNotFoundError\u001b[0m                         Traceback (most recent call last)",
            "\u001b[0;32m<ipython-input-6-8b606f62db6e>\u001b[0m in \u001b[0;36m<cell line: 0>\u001b[0;34m()\u001b[0m\n\u001b[1;32m      1\u001b[0m \u001b[0;31m# Chargement des lignes\u001b[0m\u001b[0;34m\u001b[0m\u001b[0;34m\u001b[0m\u001b[0m\n\u001b[0;32m----> 2\u001b[0;31m \u001b[0;32mwith\u001b[0m \u001b[0mopen\u001b[0m\u001b[0;34m(\u001b[0m\u001b[0;34m\"movie-corpus\"\u001b[0m\u001b[0;34m,\u001b[0m \u001b[0mencoding\u001b[0m\u001b[0;34m=\u001b[0m\u001b[0;34m'iso-8859-1'\u001b[0m\u001b[0;34m)\u001b[0m \u001b[0;32mas\u001b[0m \u001b[0mfile\u001b[0m\u001b[0;34m:\u001b[0m\u001b[0;34m\u001b[0m\u001b[0;34m\u001b[0m\u001b[0m\n\u001b[0m\u001b[1;32m      3\u001b[0m     \u001b[0mlines\u001b[0m \u001b[0;34m=\u001b[0m \u001b[0mfile\u001b[0m\u001b[0;34m.\u001b[0m\u001b[0mread\u001b[0m\u001b[0;34m(\u001b[0m\u001b[0;34m)\u001b[0m\u001b[0;34m.\u001b[0m\u001b[0msplit\u001b[0m\u001b[0;34m(\u001b[0m\u001b[0;34m\"\\n\"\u001b[0m\u001b[0;34m)\u001b[0m\u001b[0;34m\u001b[0m\u001b[0;34m\u001b[0m\u001b[0m\n\u001b[1;32m      4\u001b[0m \u001b[0;34m\u001b[0m\u001b[0m\n\u001b[1;32m      5\u001b[0m \u001b[0;31m# Dictionnaire id -> ligne\u001b[0m\u001b[0;34m\u001b[0m\u001b[0;34m\u001b[0m\u001b[0m\n",
            "\u001b[0;31mFileNotFoundError\u001b[0m: [Errno 2] No such file or directory: 'movie-corpus'"
          ]
        }
      ],
      "source": [
        "# Chargement des lignes\n",
        "with open(\"cornell movie-dialogs corpus/movie_lines.txt\", encoding='iso-8859-1') as file:\n",
        "    lines = file.read().split(\"\\n\")\n",
        "\n",
        "# Dictionnaire id -> ligne\n",
        "id2line = {}\n",
        "for line in lines:\n",
        "    parts = line.split(\" +++$+++ \")\n",
        "    if len(parts) == 5:\n",
        "        id2line[parts[0]] = parts[4]\n",
        "\n",
        "# Chargement des conversations\n",
        "with open(\"cornell movie-dialogs corpus/movie_conversations.txt\", encoding='iso-8859-1') as file:\n",
        "    conversations = file.read().split(\"\\n\")\n",
        "\n",
        "# Création des paires question-réponse\n",
        "questions = []\n",
        "answers = []\n",
        "\n",
        "for conv in conversations:\n",
        "    parts = conv.split(\" +++$+++ \")\n",
        "    if len(parts) == 4:\n",
        "        utterance_ids = eval(parts[3])\n",
        "        for i in range(len(utterance_ids) - 1):\n",
        "            if utterance_ids[i] in id2line and utterance_ids[i+1] in id2line:\n",
        "                questions.append(id2line[utterance_ids[i]])\n",
        "                answers.append(id2line[utterance_ids[i+1]])\n"
      ]
    },
    {
      "cell_type": "code",
      "execution_count": null,
      "id": "acc941a1",
      "metadata": {
        "id": "acc941a1"
      },
      "outputs": [],
      "source": [
        "def clean_text(text):\n",
        "    text = text.lower()\n",
        "    text = re.sub(r\"[^a-zA-Z0-9?.!,¿]+\", \" \", text)\n",
        "    text = re.sub(r\"\\s+\", \" \", text).strip()\n",
        "    return text\n",
        "\n",
        "questions = [clean_text(q) for q in questions]\n",
        "answers = [clean_text(a) for a in answers]\n"
      ]
    },
    {
      "cell_type": "code",
      "execution_count": null,
      "id": "e0aade05",
      "metadata": {
        "id": "e0aade05"
      },
      "outputs": [],
      "source": [
        "vocab_size = 10000\n",
        "max_len = 40\n",
        "\n",
        "tokenizer = Tokenizer(num_words=vocab_size, oov_token=\"<OOV>\")\n",
        "tokenizer.fit_on_texts(questions + answers)\n",
        "\n",
        "question_seq = tokenizer.texts_to_sequences(questions)\n",
        "answer_seq = tokenizer.texts_to_sequences(answers)\n",
        "\n",
        "question_pad = pad_sequences(question_seq, maxlen=max_len, padding='post')\n",
        "answer_pad = pad_sequences(answer_seq, maxlen=max_len, padding='post')\n"
      ]
    },
    {
      "cell_type": "code",
      "execution_count": null,
      "id": "e2965127",
      "metadata": {
        "id": "e2965127"
      },
      "outputs": [],
      "source": [
        "model = Sequential([\n",
        "    Embedding(vocab_size, 256, input_length=max_len),\n",
        "    Bidirectional(LSTM(256, return_sequences=True)),\n",
        "    Bidirectional(LSTM(256)),\n",
        "    Dense(vocab_size, activation='softmax')\n",
        "])\n",
        "\n",
        "model.compile(loss='sparse_categorical_crossentropy', optimizer='adam', metrics=['accuracy'])\n",
        "model.summary()\n"
      ]
    },
    {
      "cell_type": "code",
      "execution_count": null,
      "id": "66efcc44",
      "metadata": {
        "id": "66efcc44"
      },
      "outputs": [],
      "source": [
        "X_train, X_val, y_train, y_val = train_test_split(question_pad, answer_pad, test_size=0.2)\n",
        "\n",
        "# On prédit le premier mot de la réponse comme approximation simple\n",
        "model.fit(X_train, np.expand_dims(y_train[:, 0], -1),\n",
        "          validation_data=(X_val, np.expand_dims(y_val[:, 0], -1)),\n",
        "          batch_size=128, epochs=10)\n"
      ]
    },
    {
      "cell_type": "code",
      "execution_count": null,
      "id": "69420b84",
      "metadata": {
        "id": "69420b84"
      },
      "outputs": [],
      "source": [
        "def generate_reply(input_text):\n",
        "    input_text = clean_text(input_text)\n",
        "    seq = tokenizer.texts_to_sequences([input_text])\n",
        "    padded = pad_sequences(seq, maxlen=max_len, padding='post')\n",
        "    prediction = model.predict(padded)\n",
        "    word_index = np.argmax(prediction[0])\n",
        "\n",
        "    for word, index in tokenizer.word_index.items():\n",
        "        if index == word_index:\n",
        "            return word\n",
        "    return \"...\"\n",
        "\n",
        "# Exemple :\n",
        "generate_reply(\"Are you ready for the adventure?\")\n"
      ]
    }
  ],
  "metadata": {
    "colab": {
      "provenance": []
    },
    "kernelspec": {
      "display_name": "jpn_florian",
      "language": "python",
      "name": "python3"
    },
    "language_info": {
      "codemirror_mode": {
        "name": "ipython",
        "version": 3
      },
      "file_extension": ".py",
      "mimetype": "text/x-python",
      "name": "python",
      "nbconvert_exporter": "python",
      "pygments_lexer": "ipython3",
      "version": "3.8.20"
    }
  },
  "nbformat": 4,
  "nbformat_minor": 5
}
