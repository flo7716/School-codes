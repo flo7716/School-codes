{
  "cells": [
    {
      "cell_type": "markdown",
      "id": "3239343f",
      "metadata": {
        "id": "3239343f"
      },
      "source": [
        "## Projet BiLSTM\n",
        "\n",
        "Liste des imports"
      ]
    },
    {
      "cell_type": "code",
      "execution_count": 20,
      "id": "0f73307e",
      "metadata": {},
      "outputs": [
        {
          "name": "stderr",
          "output_type": "stream",
          "text": [
            "2025-04-08 09:43:10.020344: I tensorflow/tsl/cuda/cudart_stub.cc:28] Could not find cuda drivers on your machine, GPU will not be used.\n",
            "2025-04-08 09:43:10.056340: I tensorflow/tsl/cuda/cudart_stub.cc:28] Could not find cuda drivers on your machine, GPU will not be used.\n",
            "2025-04-08 09:43:10.056929: I tensorflow/core/platform/cpu_feature_guard.cc:182] This TensorFlow binary is optimized to use available CPU instructions in performance-critical operations.\n",
            "To enable the following instructions: AVX2 FMA, in other operations, rebuild TensorFlow with the appropriate compiler flags.\n",
            "2025-04-08 09:43:11.004701: W tensorflow/compiler/tf2tensorrt/utils/py_utils.cc:38] TF-TRT Warning: Could not find TensorRT\n"
          ]
        }
      ],
      "source": [
        "# Import necessary libraries\n",
        "import numpy as np\n",
        "import pandas as pd\n",
        "import re, ast\n",
        "import os\n",
        "from tensorflow.keras.preprocessing.text import Tokenizer\n",
        "from tensorflow.keras.preprocessing.sequence import pad_sequences\n",
        "from tensorflow.keras.models import Sequential\n",
        "from tensorflow.keras.layers import Embedding, Bidirectional, LSTM, Dense"
      ]
    },
    {
      "cell_type": "code",
      "execution_count": 21,
      "id": "2b3f8c5d",
      "metadata": {
        "colab": {
          "base_uri": "https://localhost:8080/"
        },
        "id": "2b3f8c5d",
        "outputId": "57788b3f-afa6-432f-af32-e458d6ccf1ff"
      },
      "outputs": [],
      "source": [
        "##Si l'archive n'est pas présente, on la télécharge et on la dézippe\n",
        "if not os.path.exists(\"cornell_movie_dialogs_corpus.zip\"):\n",
        "  print(\"Downloading data (234 MB)\")\n",
        "  !wget http://www.cs.cornell.edu/~cristian/data/cornell_movie_dialogs_corpus.zip\n",
        "  !unzip cornell_movie_dialogs_corpus.zip\n",
        "\n",
        "\n"
      ]
    },
    {
      "cell_type": "code",
      "execution_count": 22,
      "id": "faa3654c",
      "metadata": {
        "colab": {
          "base_uri": "https://localhost:8080/"
        },
        "id": "faa3654c",
        "outputId": "f14e00dc-102a-4064-d75b-eeffe747fc26"
      },
      "outputs": [
        {
          "name": "stdout",
          "output_type": "stream",
          "text": [
            "GPU disponible : []\n"
          ]
        }
      ],
      "source": [
        "import tensorflow as tf\n",
        "print(\"GPU disponible :\", tf.config.list_physical_devices('GPU'))\n"
      ]
    },
    {
      "cell_type": "code",
      "execution_count": 23,
      "id": "14a3b4ff",
      "metadata": {
        "colab": {
          "base_uri": "https://localhost:8080/",
          "height": 216
        },
        "id": "14a3b4ff",
        "outputId": "9fc03e68-6b74-48b8-9c67-25a20c5a07dd"
      },
      "outputs": [
        {
          "name": "stdout",
          "output_type": "stream",
          "text": [
            "Can we make this quick?  Roxanne Korrine and Andrew Barrett are having an incredibly horrendous public break- up on the quad.  Again.\n",
            "Loaded 221616 question-answer pairs\n",
            "Sample pair:\n",
            "Q: Can we make this quick?  Roxanne Korrine and Andrew Barrett are having an incredibly horrendous public break- up on the quad.  Again.\n",
            "A: Well, I thought we'd start with pronunciation, if that's okay with you.\n"
          ]
        }
      ],
      "source": [
        "# Your existing data loading code with improvements\n",
        "def load_cornell_data(movie_lines_path, movie_conversations_path):\n",
        "    # Load movie lines\n",
        "    with open(movie_lines_path, encoding='iso-8859-1') as file:\n",
        "        lines = file.read().split(\"\\n\")\n",
        "    \n",
        "    # Dictionary: line_id -> text\n",
        "    id2line = {}\n",
        "    for line in lines:\n",
        "        parts = line.split(\" +++$+++ \")\n",
        "        if len(parts) == 5:\n",
        "            id2line[parts[0]] = parts[4]\n",
        "\n",
        "    print(id2line['L194'])\n",
        "    \n",
        "    # Load conversations\n",
        "    with open(movie_conversations_path, encoding='iso-8859-1') as file:\n",
        "        conversations = file.read().split(\"\\n\")\n",
        "        \n",
        "\n",
        "    \n",
        "    # Create question-answer pairs\n",
        "    questions = []\n",
        "    answers = []\n",
        "    \n",
        "    for conv in conversations:\n",
        "        parts = conv.split(\" +++$+++ \")\n",
        "        if len(parts) == 4:\n",
        "            try:\n",
        "                utterance_ids = eval(parts[3])  # Safer than eval\n",
        "                for i in range(len(utterance_ids) - 1):\n",
        "                    if utterance_ids[i] in id2line and utterance_ids[i+1] in id2line:\n",
        "                        questions.append(id2line[utterance_ids[i]])\n",
        "                        answers.append(id2line[utterance_ids[i+1]])\n",
        "            except:\n",
        "                print(\"Error in conversation:\", conv)\n",
        "                continue\n",
        "                \n",
        "    return questions, answers\n",
        "\n",
        "# Paths to your data files\n",
        "movie_lines_path = \"cornell movie-dialogs corpus/movie_lines.txt\"\n",
        "movie_conversations_path = \"cornell movie-dialogs corpus/movie_conversations.txt\"\n",
        "\n",
        "# Load and verify data\n",
        "questions, answers = load_cornell_data(movie_lines_path, movie_conversations_path)\n",
        "print(f\"Loaded {len(questions)} question-answer pairs\")\n",
        "print(\"Sample pair:\")\n",
        "print(\"Q:\", questions[0])\n",
        "print(\"A:\", answers[0])"
      ]
    },
    {
      "cell_type": "markdown",
      "id": "255cb685",
      "metadata": {},
      "source": [
        "## Nettoyage du texte"
      ]
    },
    {
      "cell_type": "code",
      "execution_count": 24,
      "id": "acc941a1",
      "metadata": {
        "id": "acc941a1"
      },
      "outputs": [
        {
          "name": "stdout",
          "output_type": "stream",
          "text": [
            "After cleaning, kept 221277 pairs\n"
          ]
        }
      ],
      "source": [
        "def clean_text(text):\n",
        "    if not isinstance(text, str):\n",
        "        return \"\"\n",
        "    \n",
        "    text = text.lower()\n",
        "    # Replace contractions\n",
        "    text = re.sub(r\"i'm\", \"i am\", text)\n",
        "    text = re.sub(r\"\\'s\", \" is\", text)\n",
        "    text = re.sub(r\"\\'ll\", \" will\", text)\n",
        "    text = re.sub(r\"\\'ve\", \" have\", text)\n",
        "    text = re.sub(r\"\\'re\", \" are\", text)\n",
        "    text = re.sub(r\"\\'d\", \" would\", text)\n",
        "    text = re.sub(r\"won't\", \"will not\", text)\n",
        "    text = re.sub(r\"can't\", \"cannot\", text)\n",
        "    # Remove special characters\n",
        "    text = re.sub(r\"[-()\\\"#/@;:<>{}+=~|.?,]\", \"\", text)\n",
        "    # Remove extra whitespace\n",
        "    text = re.sub(r\"\\s+\", \" \", text).strip()\n",
        "    return text\n",
        "\n",
        "# Clean all questions and answers\n",
        "clean_questions = [clean_text(q) for q in questions]\n",
        "clean_answers = [clean_text(a) for a in answers]\n",
        "\n",
        "# Filter out empty pairs\n",
        "filtered_questions = []\n",
        "filtered_answers = []\n",
        "for q, a in zip(clean_questions, clean_answers):\n",
        "    if q and a:  # Only keep non-empty pairs\n",
        "        filtered_questions.append(q)\n",
        "        filtered_answers.append(a)\n",
        "\n",
        "print(f\"After cleaning, kept {len(filtered_questions)} pairs\")"
      ]
    },
    {
      "cell_type": "markdown",
      "id": "fd496476",
      "metadata": {},
      "source": [
        "## Tokenisation"
      ]
    },
    {
      "cell_type": "code",
      "execution_count": 25,
      "id": "e0aade05",
      "metadata": {
        "id": "e0aade05"
      },
      "outputs": [
        {
          "ename": "KeyboardInterrupt",
          "evalue": "",
          "output_type": "error",
          "traceback": [
            "\u001b[0;31m---------------------------------------------------------------------------\u001b[0m",
            "\u001b[0;31mKeyboardInterrupt\u001b[0m                         Traceback (most recent call last)",
            "Cell \u001b[0;32mIn[25], line 7\u001b[0m\n\u001b[1;32m      4\u001b[0m tokenizer \u001b[38;5;241m=\u001b[39m Tokenizer(num_words\u001b[38;5;241m=\u001b[39mvocab_size, oov_token\u001b[38;5;241m=\u001b[39m\u001b[38;5;124m\"\u001b[39m\u001b[38;5;124m<OOV>\u001b[39m\u001b[38;5;124m\"\u001b[39m)\n\u001b[1;32m      5\u001b[0m tokenizer\u001b[38;5;241m.\u001b[39mfit_on_texts(questions \u001b[38;5;241m+\u001b[39m answers)\n\u001b[0;32m----> 7\u001b[0m question_seq \u001b[38;5;241m=\u001b[39m \u001b[43mtokenizer\u001b[49m\u001b[38;5;241;43m.\u001b[39;49m\u001b[43mtexts_to_sequences\u001b[49m\u001b[43m(\u001b[49m\u001b[43mquestions\u001b[49m\u001b[43m)\u001b[49m\n\u001b[1;32m      8\u001b[0m answer_seq \u001b[38;5;241m=\u001b[39m tokenizer\u001b[38;5;241m.\u001b[39mtexts_to_sequences(answers)\n\u001b[1;32m     10\u001b[0m question_pad \u001b[38;5;241m=\u001b[39m pad_sequences(question_seq, maxlen\u001b[38;5;241m=\u001b[39mmax_len, padding\u001b[38;5;241m=\u001b[39m\u001b[38;5;124m'\u001b[39m\u001b[38;5;124mpost\u001b[39m\u001b[38;5;124m'\u001b[39m)\n",
            "File \u001b[0;32m~/anaconda3/envs/jpn_florian/lib/python3.8/site-packages/keras/src/preprocessing/text.py:357\u001b[0m, in \u001b[0;36mTokenizer.texts_to_sequences\u001b[0;34m(self, texts)\u001b[0m\n\u001b[1;32m    345\u001b[0m \u001b[38;5;28;01mdef\u001b[39;00m \u001b[38;5;21mtexts_to_sequences\u001b[39m(\u001b[38;5;28mself\u001b[39m, texts):\n\u001b[1;32m    346\u001b[0m \u001b[38;5;250m    \u001b[39m\u001b[38;5;124;03m\"\"\"Transforms each text in texts to a sequence of integers.\u001b[39;00m\n\u001b[1;32m    347\u001b[0m \n\u001b[1;32m    348\u001b[0m \u001b[38;5;124;03m    Only top `num_words-1` most frequent words will be taken into account.\u001b[39;00m\n\u001b[0;32m   (...)\u001b[0m\n\u001b[1;32m    355\u001b[0m \u001b[38;5;124;03m        A list of sequences.\u001b[39;00m\n\u001b[1;32m    356\u001b[0m \u001b[38;5;124;03m    \"\"\"\u001b[39;00m\n\u001b[0;32m--> 357\u001b[0m     \u001b[38;5;28;01mreturn\u001b[39;00m \u001b[38;5;28;43mlist\u001b[39;49m\u001b[43m(\u001b[49m\u001b[38;5;28;43mself\u001b[39;49m\u001b[38;5;241;43m.\u001b[39;49m\u001b[43mtexts_to_sequences_generator\u001b[49m\u001b[43m(\u001b[49m\u001b[43mtexts\u001b[49m\u001b[43m)\u001b[49m\u001b[43m)\u001b[49m\n",
            "File \u001b[0;32m~/anaconda3/envs/jpn_florian/lib/python3.8/site-packages/keras/src/preprocessing/text.py:396\u001b[0m, in \u001b[0;36mTokenizer.texts_to_sequences_generator\u001b[0;34m(self, texts)\u001b[0m\n\u001b[1;32m    394\u001b[0m vect \u001b[38;5;241m=\u001b[39m []\n\u001b[1;32m    395\u001b[0m \u001b[38;5;28;01mfor\u001b[39;00m w \u001b[38;5;129;01min\u001b[39;00m seq:\n\u001b[0;32m--> 396\u001b[0m     i \u001b[38;5;241m=\u001b[39m \u001b[38;5;28;43mself\u001b[39;49m\u001b[38;5;241;43m.\u001b[39;49m\u001b[43mword_index\u001b[49m\u001b[38;5;241;43m.\u001b[39;49m\u001b[43mget\u001b[49m\u001b[43m(\u001b[49m\u001b[43mw\u001b[49m\u001b[43m)\u001b[49m\n\u001b[1;32m    397\u001b[0m     \u001b[38;5;28;01mif\u001b[39;00m i \u001b[38;5;129;01mis\u001b[39;00m \u001b[38;5;129;01mnot\u001b[39;00m \u001b[38;5;28;01mNone\u001b[39;00m:\n\u001b[1;32m    398\u001b[0m         \u001b[38;5;28;01mif\u001b[39;00m num_words \u001b[38;5;129;01mand\u001b[39;00m i \u001b[38;5;241m>\u001b[39m\u001b[38;5;241m=\u001b[39m num_words:\n",
            "\u001b[0;31mKeyboardInterrupt\u001b[0m: "
          ]
        }
      ],
      "source": [
        "vocab_size = 10000\n",
        "max_len = 40\n",
        "\n",
        "tokenizer = Tokenizer(num_words=vocab_size, oov_token=\"<OOV>\")\n",
        "tokenizer.fit_on_texts(questions + answers)\n",
        "\n",
        "question_seq = tokenizer.texts_to_sequences(questions)\n",
        "answer_seq = tokenizer.texts_to_sequences(answers)\n",
        "\n",
        "question_pad = pad_sequences(question_seq, maxlen=max_len, padding='post')\n",
        "answer_pad = pad_sequences(answer_seq, maxlen=max_len, padding='post')\n"
      ]
    },
    {
      "cell_type": "markdown",
      "id": "94fe8dbe",
      "metadata": {},
      "source": [
        "## Entraînement du modèle"
      ]
    },
    {
      "cell_type": "code",
      "execution_count": null,
      "id": "e2965127",
      "metadata": {
        "id": "e2965127"
      },
      "outputs": [
        {
          "name": "stdout",
          "output_type": "stream",
          "text": [
            "Model: \"sequential\"\n",
            "_________________________________________________________________\n",
            " Layer (type)                Output Shape              Param #   \n",
            "=================================================================\n",
            " embedding (Embedding)       (None, 40, 256)           2560000   \n",
            "                                                                 \n",
            " bidirectional (Bidirection  (None, 40, 512)           1050624   \n",
            " al)                                                             \n",
            "                                                                 \n",
            " bidirectional_1 (Bidirecti  (None, 512)               1574912   \n",
            " onal)                                                           \n",
            "                                                                 \n",
            " dense (Dense)               (None, 10000)             5130000   \n",
            "                                                                 \n",
            "=================================================================\n",
            "Total params: 10315536 (39.35 MB)\n",
            "Trainable params: 10315536 (39.35 MB)\n",
            "Non-trainable params: 0 (0.00 Byte)\n",
            "_________________________________________________________________\n"
          ]
        }
      ],
      "source": [
        "model = Sequential([\n",
        "    Embedding(vocab_size, 256, input_length=max_len),\n",
        "    Bidirectional(LSTM(256, return_sequences=True)),\n",
        "    Bidirectional(LSTM(256)),\n",
        "    Dense(vocab_size, activation='softmax')\n",
        "])\n",
        "\n",
        "model.compile(loss='sparse_categorical_crossentropy', optimizer='adam', metrics=['accuracy'])\n",
        "model.summary()\n"
      ]
    },
    {
      "cell_type": "code",
      "execution_count": null,
      "id": "66efcc44",
      "metadata": {
        "id": "66efcc44"
      },
      "outputs": [],
      "source": [
        "X_train, X_val, y_train, y_val = train_test_split(question_pad, answer_pad, test_size=0.2)\n",
        "\n",
        "# On prédit le premier mot de la réponse comme approximation simple\n",
        "model.fit(X_train, np.expand_dims(y_train[:, 0], -1),\n",
        "          validation_data=(X_val, np.expand_dims(y_val[:, 0], -1)),\n",
        "          batch_size=128, epochs=10)\n"
      ]
    },
    {
      "cell_type": "code",
      "execution_count": null,
      "id": "69420b84",
      "metadata": {
        "id": "69420b84"
      },
      "outputs": [],
      "source": [
        "def generate_reply(input_text):\n",
        "    input_text = clean_text(input_text)\n",
        "    seq = tokenizer.texts_to_sequences([input_text])\n",
        "    padded = pad_sequences(seq, maxlen=max_len, padding='post')\n",
        "    prediction = model.predict(padded)\n",
        "    word_index = np.argmax(prediction[0])\n",
        "\n",
        "    for word, index in tokenizer.word_index.items():\n",
        "        if index == word_index:\n",
        "            return word\n",
        "    return \"...\"\n",
        "\n",
        "# Exemple :\n",
        "generate_reply(\"Are you ready for the adventure?\")\n"
      ]
    }
  ],
  "metadata": {
    "colab": {
      "provenance": []
    },
    "kernelspec": {
      "display_name": "jpn_florian",
      "language": "python",
      "name": "python3"
    },
    "language_info": {
      "codemirror_mode": {
        "name": "ipython",
        "version": 3
      },
      "file_extension": ".py",
      "mimetype": "text/x-python",
      "name": "python",
      "nbconvert_exporter": "python",
      "pygments_lexer": "ipython3",
      "version": "3.8.20"
    }
  },
  "nbformat": 4,
  "nbformat_minor": 5
}
