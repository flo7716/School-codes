{
 "cells": [
  {
   "cell_type": "markdown",
   "id": "840f55de",
   "metadata": {},
   "source": [
    "\n",
    "<a id='chap-tpdeeplearning1'></a>"
   ]
  },
  {
   "cell_type": "markdown",
   "id": "392d6084",
   "metadata": {},
   "source": [
    "# Travaux pratiques - Premiers réseaux de neurones\n",
    "\n",
    "Au cours de cette séance de travaux pratiques, vous allez être amenés à implémenter vous-même l’apprentissage d’un réseau de neurones simple. Bien que de nombreuses bibliothèques existent pour automatiser cette tâche, il est très utile de se familiariser avec les concepts fondamentaux au moins une fois. Cela vous permettra d’avoir une meilleure compréhension des outils que nous utiliserons plus tard, comme Keras."
   ]
  },
  {
   "cell_type": "markdown",
   "id": "4e79b434",
   "metadata": {},
   "source": [
    "## Jeu de données MNIST\n",
    "\n",
    "Lors de cette séance, nous allons utiliser la base de données MNIST, composée de 70 000 images de chiffres manuscrits en noir et blanc (60 000 pour l’entraînement et 10 000 pour le test). L’objectif est de développer un modèle capable d’identifier automatiquement le chiffre à partir de chaque image.\n",
    "\n",
    "Pour commencer, nous allons importer les données. Étant donné qu’il s’agit d’un jeu de données largement utilisé et standard, il est intégré dans plusieurs bibliothèques, comme Keras, ce qui nous permet de l’importer facilement en une seule ligne de code :"
   ]
  },
  {
   "cell_type": "code",
   "execution_count": 59,
   "id": "b977c142-6bfc-4471-8e6b-481c2949a723",
   "metadata": {},
   "outputs": [
    {
     "name": "stdout",
     "output_type": "stream",
     "text": [
      "Requirement already satisfied: tensorflow in ./anaconda3/envs/jpn_florian/lib/python3.8/site-packages (2.13.1)\n",
      "Requirement already satisfied: keras in ./anaconda3/envs/jpn_florian/lib/python3.8/site-packages (2.13.1)\n",
      "Collecting keras\n",
      "  Using cached keras-2.15.0-py3-none-any.whl.metadata (2.4 kB)\n",
      "Requirement already satisfied: numpy in ./anaconda3/envs/jpn_florian/lib/python3.8/site-packages (1.24.3)\n",
      "Collecting numpy\n",
      "  Using cached numpy-1.24.4-cp38-cp38-manylinux_2_17_x86_64.manylinux2014_x86_64.whl.metadata (5.6 kB)\n",
      "Requirement already satisfied: scipy in ./anaconda3/envs/jpn_florian/lib/python3.8/site-packages (1.10.1)\n",
      "Requirement already satisfied: absl-py>=1.0.0 in ./anaconda3/envs/jpn_florian/lib/python3.8/site-packages (from tensorflow) (2.1.0)\n",
      "Requirement already satisfied: astunparse>=1.6.0 in ./anaconda3/envs/jpn_florian/lib/python3.8/site-packages (from tensorflow) (1.6.3)\n",
      "Requirement already satisfied: flatbuffers>=23.1.21 in ./anaconda3/envs/jpn_florian/lib/python3.8/site-packages (from tensorflow) (24.12.23)\n",
      "Requirement already satisfied: gast<=0.4.0,>=0.2.1 in ./anaconda3/envs/jpn_florian/lib/python3.8/site-packages (from tensorflow) (0.4.0)\n",
      "Requirement already satisfied: google-pasta>=0.1.1 in ./anaconda3/envs/jpn_florian/lib/python3.8/site-packages (from tensorflow) (0.2.0)\n",
      "Requirement already satisfied: grpcio<2.0,>=1.24.3 in ./anaconda3/envs/jpn_florian/lib/python3.8/site-packages (from tensorflow) (1.69.0)\n",
      "Requirement already satisfied: h5py>=2.9.0 in ./anaconda3/envs/jpn_florian/lib/python3.8/site-packages (from tensorflow) (3.11.0)\n",
      "Requirement already satisfied: libclang>=13.0.0 in ./anaconda3/envs/jpn_florian/lib/python3.8/site-packages (from tensorflow) (18.1.1)\n",
      "Requirement already satisfied: opt-einsum>=2.3.2 in ./anaconda3/envs/jpn_florian/lib/python3.8/site-packages (from tensorflow) (3.4.0)\n",
      "Requirement already satisfied: packaging in ./anaconda3/envs/jpn_florian/lib/python3.8/site-packages (from tensorflow) (24.2)\n",
      "Requirement already satisfied: protobuf!=4.21.0,!=4.21.1,!=4.21.2,!=4.21.3,!=4.21.4,!=4.21.5,<5.0.0dev,>=3.20.3 in ./anaconda3/envs/jpn_florian/lib/python3.8/site-packages (from tensorflow) (4.25.5)\n",
      "Requirement already satisfied: setuptools in ./anaconda3/envs/jpn_florian/lib/python3.8/site-packages (from tensorflow) (75.1.0)\n",
      "Requirement already satisfied: six>=1.12.0 in ./anaconda3/envs/jpn_florian/lib/python3.8/site-packages (from tensorflow) (1.16.0)\n",
      "Requirement already satisfied: tensorboard<2.14,>=2.13 in ./anaconda3/envs/jpn_florian/lib/python3.8/site-packages (from tensorflow) (2.13.0)\n",
      "Requirement already satisfied: tensorflow-estimator<2.14,>=2.13.0 in ./anaconda3/envs/jpn_florian/lib/python3.8/site-packages (from tensorflow) (2.13.0)\n",
      "Requirement already satisfied: termcolor>=1.1.0 in ./anaconda3/envs/jpn_florian/lib/python3.8/site-packages (from tensorflow) (2.4.0)\n",
      "Requirement already satisfied: typing-extensions<4.6.0,>=3.6.6 in ./anaconda3/envs/jpn_florian/lib/python3.8/site-packages (from tensorflow) (4.5.0)\n",
      "Requirement already satisfied: wrapt>=1.11.0 in ./anaconda3/envs/jpn_florian/lib/python3.8/site-packages (from tensorflow) (1.17.0)\n",
      "Requirement already satisfied: tensorflow-io-gcs-filesystem>=0.23.1 in ./anaconda3/envs/jpn_florian/lib/python3.8/site-packages (from tensorflow) (0.34.0)\n",
      "Requirement already satisfied: wheel<1.0,>=0.23.0 in ./anaconda3/envs/jpn_florian/lib/python3.8/site-packages (from astunparse>=1.6.0->tensorflow) (0.44.0)\n",
      "Requirement already satisfied: google-auth<3,>=1.6.3 in ./anaconda3/envs/jpn_florian/lib/python3.8/site-packages (from tensorboard<2.14,>=2.13->tensorflow) (2.37.0)\n",
      "Requirement already satisfied: google-auth-oauthlib<1.1,>=0.5 in ./anaconda3/envs/jpn_florian/lib/python3.8/site-packages (from tensorboard<2.14,>=2.13->tensorflow) (1.0.0)\n",
      "Requirement already satisfied: markdown>=2.6.8 in ./anaconda3/envs/jpn_florian/lib/python3.8/site-packages (from tensorboard<2.14,>=2.13->tensorflow) (3.7)\n",
      "Requirement already satisfied: requests<3,>=2.21.0 in ./anaconda3/envs/jpn_florian/lib/python3.8/site-packages (from tensorboard<2.14,>=2.13->tensorflow) (2.32.3)\n",
      "Requirement already satisfied: tensorboard-data-server<0.8.0,>=0.7.0 in ./anaconda3/envs/jpn_florian/lib/python3.8/site-packages (from tensorboard<2.14,>=2.13->tensorflow) (0.7.2)\n",
      "Requirement already satisfied: werkzeug>=1.0.1 in ./anaconda3/envs/jpn_florian/lib/python3.8/site-packages (from tensorboard<2.14,>=2.13->tensorflow) (3.0.6)\n",
      "Requirement already satisfied: cachetools<6.0,>=2.0.0 in ./anaconda3/envs/jpn_florian/lib/python3.8/site-packages (from google-auth<3,>=1.6.3->tensorboard<2.14,>=2.13->tensorflow) (5.5.0)\n",
      "Requirement already satisfied: pyasn1-modules>=0.2.1 in ./anaconda3/envs/jpn_florian/lib/python3.8/site-packages (from google-auth<3,>=1.6.3->tensorboard<2.14,>=2.13->tensorflow) (0.4.1)\n",
      "Requirement already satisfied: rsa<5,>=3.1.4 in ./anaconda3/envs/jpn_florian/lib/python3.8/site-packages (from google-auth<3,>=1.6.3->tensorboard<2.14,>=2.13->tensorflow) (4.9)\n",
      "Requirement already satisfied: requests-oauthlib>=0.7.0 in ./anaconda3/envs/jpn_florian/lib/python3.8/site-packages (from google-auth-oauthlib<1.1,>=0.5->tensorboard<2.14,>=2.13->tensorflow) (2.0.0)\n",
      "Requirement already satisfied: importlib-metadata>=4.4 in ./anaconda3/envs/jpn_florian/lib/python3.8/site-packages (from markdown>=2.6.8->tensorboard<2.14,>=2.13->tensorflow) (8.5.0)\n",
      "Requirement already satisfied: charset-normalizer<4,>=2 in ./anaconda3/envs/jpn_florian/lib/python3.8/site-packages (from requests<3,>=2.21.0->tensorboard<2.14,>=2.13->tensorflow) (3.4.0)\n",
      "Requirement already satisfied: idna<4,>=2.5 in ./anaconda3/envs/jpn_florian/lib/python3.8/site-packages (from requests<3,>=2.21.0->tensorboard<2.14,>=2.13->tensorflow) (3.7)\n",
      "Requirement already satisfied: urllib3<3,>=1.21.1 in ./anaconda3/envs/jpn_florian/lib/python3.8/site-packages (from requests<3,>=2.21.0->tensorboard<2.14,>=2.13->tensorflow) (1.26.20)\n",
      "Requirement already satisfied: certifi>=2017.4.17 in ./anaconda3/envs/jpn_florian/lib/python3.8/site-packages (from requests<3,>=2.21.0->tensorboard<2.14,>=2.13->tensorflow) (2024.8.30)\n",
      "Requirement already satisfied: MarkupSafe>=2.1.1 in ./anaconda3/envs/jpn_florian/lib/python3.8/site-packages (from werkzeug>=1.0.1->tensorboard<2.14,>=2.13->tensorflow) (2.1.5)\n",
      "Requirement already satisfied: zipp>=3.20 in ./anaconda3/envs/jpn_florian/lib/python3.8/site-packages (from importlib-metadata>=4.4->markdown>=2.6.8->tensorboard<2.14,>=2.13->tensorflow) (3.20.2)\n",
      "Requirement already satisfied: pyasn1<0.7.0,>=0.4.6 in ./anaconda3/envs/jpn_florian/lib/python3.8/site-packages (from pyasn1-modules>=0.2.1->google-auth<3,>=1.6.3->tensorboard<2.14,>=2.13->tensorflow) (0.6.1)\n",
      "Requirement already satisfied: oauthlib>=3.0.0 in ./anaconda3/envs/jpn_florian/lib/python3.8/site-packages (from requests-oauthlib>=0.7.0->google-auth-oauthlib<1.1,>=0.5->tensorboard<2.14,>=2.13->tensorflow) (3.2.2)\n"
     ]
    }
   ],
   "source": [
    "!pip install --upgrade tensorflow keras numpy scipy"
   ]
  },
  {
   "cell_type": "code",
   "execution_count": 60,
   "id": "9290b648-c045-4ca6-b8f7-df1acb7e5f8c",
   "metadata": {},
   "outputs": [
    {
     "name": "stdout",
     "output_type": "stream",
     "text": [
      "/home/florian-andr/anaconda3/envs/jpn_florian/bin/python\n"
     ]
    }
   ],
   "source": [
    "!python -c \"import sys; print(sys.executable)\""
   ]
  },
  {
   "cell_type": "code",
   "execution_count": 61,
   "id": "a2b4807a-9c84-4f8c-8165-2fa4110239d6",
   "metadata": {},
   "outputs": [],
   "source": [
    "#!pip show numpy\n",
    "import tensorflow as tf\n",
    "from keras import backend as K"
   ]
  },
  {
   "cell_type": "code",
   "execution_count": 62,
   "id": "d3220bff",
   "metadata": {
    "hide-output": false
   },
   "outputs": [
    {
     "name": "stdout",
     "output_type": "stream",
     "text": [
      "60000 exemples d'apprentissage\n",
      "10000 exemples de test\n"
     ]
    }
   ],
   "source": [
    "import keras\n",
    "# Import de MNIST depuis Keras\n",
    "(X_train, y_train), (X_test, y_test) = keras.datasets.mnist.load_data()\n",
    "# Transformation des images 28x28 en vecteur de dimension 784\n",
    "X_train = X_train.reshape(60000, 784).astype('float32')\n",
    "X_test = X_test.reshape(10000, 784).astype('float32')\n",
    "# Normalisation entre 0 et 1\n",
    "X_train /= 255\n",
    "X_test /= 255\n",
    "\n",
    "# Affichage du nombre de'exemples\n",
    "print(f\"{X_train.shape[0]} exemples d'apprentissage\")\n",
    "print(f\"{X_test.shape[0]} exemples de test\")"
   ]
  },
  {
   "cell_type": "markdown",
   "id": "cebb0017",
   "metadata": {},
   "source": [
    "## Question\n",
    "\n",
    "Afficher à l’aide de matplotlib les premières images du jeu d’apprentissage. La fonction `plt.imshow()` (cf. [sa documentation](https://matplotlib.org/stable/api/_as_gen/matplotlib.pyplot.imshow.html)) peut vous être utile."
   ]
  },
  {
   "cell_type": "code",
   "execution_count": 63,
   "id": "ccf7b9f9-9cdb-4ebe-85cf-84c1d78d16e6",
   "metadata": {},
   "outputs": [
    {
     "data": {
      "image/png": "[encoded data removed]",
      "text/plain": [
       "<Figure size 800x400 with 10 Axes>"
      ]
     },
     "metadata": {},
     "output_type": "display_data"
    }
   ],
   "source": [
    "import matplotlib.pyplot as plt\n",
    "\n",
    "plt.figure(figsize=(8, 4))\n",
    "\n",
    "n_images = 10\n",
    "for i in range(n_images):\n",
    "    plt.subplot(1, n_images, i+1)\n",
    "    plt.imshow(X_train[i].reshape(28, 28), cmap='gray')\n",
    "    plt.axis('off')\n",
    "plt.show()"
   ]
  },
  {
   "cell_type": "markdown",
   "id": "8ca0f2f2",
   "metadata": {},
   "source": [
    "## Question :\n",
    "\n",
    "Quel est l’espace dans lequel se trouvent les images ? Quelle est sa dimension ?"
   ]
  },
  {
   "cell_type": "code",
   "execution_count": 64,
   "id": "c82065f2-be15-4ec6-b8cd-b8cb01ab5898",
   "metadata": {},
   "outputs": [
    {
     "data": {
      "text/plain": [
       "(60000, 784)"
      ]
     },
     "execution_count": 64,
     "metadata": {},
     "output_type": "execute_result"
    }
   ],
   "source": [
    "X_train.shape"
   ]
  },
  {
   "cell_type": "markdown",
   "id": "40c58781",
   "metadata": {},
   "source": [
    "## Régression logistique"
   ]
  },
  {
   "cell_type": "markdown",
   "id": "b020534b",
   "metadata": {},
   "source": [
    "### Modèle de prédiction\n",
    "\n",
    "Nous allons implémenter un modèle de classification linéaire simple : la régression logistique. Concrètement, la régression logistique est équivalente à un réseau de neurones à une seule couche. Il s’agit d’une projection du vecteur d’entrée $ \\mathbf{x_i} $ par un vecteur de paramètres $ \\mathbf{w_{c}} $, plus un biais sclaaire $ b_c $, pour chaque classe.  Le schéma ci-dessous illustre le modèle de régression logistique avec un réseau de neurones.\n",
    "\n",
    "<img src=\"LR.png\" style=\"height:150px;\" align=\"center\">\n",
    "\n",
    "En l’occurrence, pour MNIST $ \\mathbf{x}_i $ est de dimension 784 et il y a dix chiffres possibles, donc 10 classes différentes. Dans notre cas, on considère que l’image d’entrée est représentée sous sa forme « aplatie », c’est-à-dire un vecteur (1, 784).\n",
    "\n",
    "Pour simplifier les notations, on regroupe l’ensemble des jeux de paramètres $ \\mathbf{w_{c}} $ pour les 10 classes possibles dans une unique matrice $ \\mathbf{W} $ de dimensions $ 784\\times 10 $. De la même façon, les biais sont regroupés dans un vecteur $ \\mathbf{b} $ de longueur 10. La sortie de la régression logistique est un vecteur contenant une activation pour chaque classe, c’est-à-dire $ \\mathbf{\\hat{s_i}} =\\mathbf{x_i}  \\mathbf{W}  + \\mathbf{b} $ de dimensions (1, 10).\n",
    "\n",
    "Afin de transformer les activations en de sortie en probabilités pour une distribution catégorielle, on ajoute une fonction d’activation de *softmax* sur $ \\mathbf{\\hat{y_i}} = \\sigma(\\mathbf{s_i}) $. Cela nous permet d’obtenir en sortie un vecteur de prédictions $ \\mathbf{\\hat{y_i}} $, de dimensions (1, 10),  qui représente la probabilité *a posteriori* $ p(\\mathbf{\\hat{y_i}} | \\mathbf{x_i}) $ pour chacune des 10 classes :\n",
    "\n",
    "\n",
    "<a id='equation-softmax'></a>\n",
    "$$\n",
    "p(\\hat{y}_{c,i} | \\mathbf{x_i}) ) = \\frac{e^{\\langle \\mathbf{x_i} ; \\mathbf{w_{c}}\\rangle + b_{c}}}{\\sum_{c'=1}^{10} e^{\\langle \\mathbf{x_i} ; \\mathbf{w_{c'}}\\rangle + b_{c'}}} \\tag{1}\n",
    "$$"
   ]
  },
  {
   "cell_type": "markdown",
   "id": "15508582",
   "metadata": {},
   "source": [
    "### Question\n",
    "\n",
    "Quel est le nombre de paramètres du modèle utilisé ? Justifier le calcul."
   ]
  },
  {
   "cell_type": "markdown",
   "id": "ec43ebb3-8de7-4183-875c-5e9223559cc6",
   "metadata": {},
   "source": [
    "\"784 * 10 + 10 = 7850 paramètres\""
   ]
  },
  {
   "cell_type": "markdown",
   "id": "16936d3e",
   "metadata": {},
   "source": [
    "### Formulation du problème d’apprentissage\n",
    "\n",
    "Pour entraîner le réseau de neurones, c’est-à-dire déterminer les valeurs optimales des paramètres $ \\mathbf{W} $ et $ \\mathbf{b} $, on va comparer pour chaque exemple d’apprentissage la sortie prédite $ \\mathbf{\\hat{y_i}} $ (équation [(1)](#equation-softmax)) pour l’image $ \\mathbf{x_i} $ à la sortie réelle $ \\mathbf{y_i^*} $ (vérité terrain issue de la supervision). Dans notre cas, on choisit d’encoder la catégorie de l’image $ \\mathbf{x_i} $ sous forme *one-hot*, c’est-à-dire :\n",
    "\n",
    "\n",
    "<a id='equation-one-hot'></a>\n",
    "$$\n",
    "y_{c,i}^* =\n",
    " \\begin{cases}\n",
    "   1 & \\text{si c correspond à l'indice de la classe de } \\mathbf{x_i}  \\\\\n",
    "   0 & \\text{sinon}\n",
    " \\end{cases} \\tag{2}\n",
    "$$\n",
    "\n",
    "Générons les étiquettes (*labels*) au format *one-hot* ([(2)](#equation-one-hot)) à l’aide de la fonction `to_categorical` (cf. [documentation de Keras](https://www.tensorflow.org/api_docs/python/tf/keras/utils/to_categorical))."
   ]
  },
  {
   "cell_type": "code",
   "execution_count": 65,
   "id": "5b514892",
   "metadata": {
    "hide-output": false
   },
   "outputs": [],
   "source": [
    "from keras.utils import to_categorical\n",
    "n_classes = 10\n",
    "# Conversion des étiquettes (int) au format vectoriel one-hot\n",
    "Y_train = to_categorical(y_train, n_classes)\n",
    "Y_test = to_categorical(y_test, n_classes)"
   ]
  },
  {
   "cell_type": "markdown",
   "id": "b0b5e911",
   "metadata": {},
   "source": [
    "L’erreur de prédiction sera définie à l’aide de l’entropie croisée (*cross-entropy*). Cette fonction de coût s’applique entre $ \\mathbf{\\hat{y_i}} $ et $ \\mathbf{y_i^*} $ par la formule:\n",
    "$ \\mathcal{L}(\\mathbf{\\hat{y_i}}, \\mathbf{y_i^*}) = -\\sum_{c=1}^{10} y_{c,i}^* \\log(\\hat{y}_{c,i}) = - \\log(\\hat{y}_{c^*,i}) $, où $ c^* $ correspond à l’indice de la classe donnée par la supervision pour l’image $ \\mathbf{x_i} $."
   ]
  },
  {
   "cell_type": "markdown",
   "id": "092b5186",
   "metadata": {},
   "source": [
    "### Note\n",
    "\n",
    "L’entropie croisée correspond en réalité à la divergence de Kullback-Leiber pour des distributions catégorielles. La divergence KL est une mesure de dissimilarité entre distributions de probabilité. Autrement dit, l’erreur que l’on mesure vise à réduire l’écart entre la distribution réelle des catégories et la distribution prédite.\n",
    "\n",
    "La fonction de coût finale correspond à l’erreur d’apprentissage, c’est-à-dire la moyenne l’entropie croisée sur l’ensemble de la base d’apprentissage $ \\mathcal{D} $ constituée des $ N=60000 $ images :\n",
    "\n",
    "\n",
    "<a id='equation-ce'></a>\n",
    "$$\n",
    "\\mathcal{L}_{\\mathbf{W},\\mathbf{b}}(\\mathcal{D})  = - \\frac{1}{N}\\sum_{i=1}^{N} \\log(\\hat{y}_{c^*,i}) \\tag{3}\n",
    "$$"
   ]
  },
  {
   "cell_type": "markdown",
   "id": "6c947826",
   "metadata": {},
   "source": [
    "### Optimisation du modèle\n",
    "\n",
    "Nous allons minimiser la fonction de coût à l’aide de l’algorithme de descente de gradient appliqué sur les paramètres $ \\mathbf{W} $ et $ \\mathbf{b} $ du modèle de régression logistique. Pour ce faire, nous allons avoir besoin des gradients de l’entropie croisée par rapport à $ \\mathbf{W} $ ainsi que $ \\mathbf{b} $. Nous pouvons nous appuyer sur la des dérivées chaînées (*chain rule*, ou théorème de dérivation des fonctions composées) :\n",
    "\n",
    "$$\n",
    "\\frac{\\partial \\mathcal{L}}{\\partial \\mathbf{W}} =  \\frac{1}{N}\\sum_{i=1}^{N} \\frac{\\partial \\mathcal{L}}{\\partial \\mathbf{\\hat{y_i}}}  \\frac{\\partial \\mathbf{\\hat{y_i}}}{\\partial \\mathbf{s_i}} \\frac{\\partial \\mathbf{s_i}}{\\partial \\mathbf{W}}\n",
    "$$\n",
    "\n",
    "$$\n",
    "\\frac{\\partial \\mathcal{L}}{\\partial \\mathbf{b}} =  \\frac{1}{N}\\sum_{i=1}^{N} \\frac{\\partial \\mathcal{L}}{\\partial \\mathbf{\\hat{y_i}}}  \\frac{\\partial \\mathbf{\\hat{y_i}}}{\\partial \\mathbf{s_i}} \\frac{\\partial \\mathbf{s_i}}{\\partial \\mathbf{b}}\n",
    "$$"
   ]
  },
  {
   "cell_type": "markdown",
   "id": "3d2d7802",
   "metadata": {},
   "source": [
    "### Implémentation de l’apprentissage\n",
    "\n",
    "Les gradients obtenus par les équations du gradients s’écrivent sous forme « vectorielle », ce qui rend les calculs efficaces avec des bibliothèques de calcul scientifique telles que `numpy`. Après calcul du gradient, les paramètres sont mis à jour de la façon suivante :\n",
    "\n",
    "\n",
    "<a id='equation-gradientupdatew'></a>\n",
    "$$\n",
    "\\mathbf{W}^{(t+1)} = \\mathbf{W}^{(t)} - \\eta \\frac{\\partial \\mathcal{L}}{\\partial \\mathbf{W}} \\tag{6}\n",
    "$$\n",
    "\n",
    "\n",
    "<a id='equation-gradientupdateb'></a>\n",
    "$$\n",
    "\\mathbf{b}^{(t+1)} = \\mathbf{b}^{(t)} - \\eta \\frac{\\partial \\mathcal{L}}{\\partial \\mathbf{b}} \\tag{7}\n",
    "$$\n",
    "\n",
    "où $ \\eta $ est le pas de gradient (*learning rate*).\n",
    "\n",
    "En théorie, la descente de gradient nécessite de calculer les gradients de la fonction de coût sur tout le jeu de données d’apprentissage. Toutefois, ce jeu de données est assez grand et les gradients peuvent être longs à calculer. En pratique, on implémente plutôt une descente de gradient *stochastique*, c’est à dire que les gradients aux équations [(4)](#equation-gradientw) et [(5)](#equation-gradientb) ne seront pas calculés sur l’ensemble des $ N=60000 $ images d’apprentissage, mais sur un sous-ensemble de $ n $ images appelé *batch* ou *lot*. Cette technique permet une mise à jour des paramètres plus fréquente qu’avec une descente de gradient classique, un temps de calcul réduit et une convergence plus rapide, au détriment d’une approximation du gradient.\n",
    "\n",
    "Le code ci-dessous décrit le squelette de l’algorithme de descente de gradient qui va permettre l’optimisation des paramètres du modèle :"
   ]
  },
  {
   "cell_type": "markdown",
   "id": "95891c86-3b4f-4309-a99f-8300411865d1",
   "metadata": {},
   "source": [
    "Ce dessous quelques indices :\n",
    "\n",
    "---\n",
    "\n",
    "## **🔹 Explication du code**\n",
    "Le programme entraîne un **modèle de classification linéaire** en utilisant **la descente de gradient par mini-batch**. Il apprend à **prédire des classes** à partir de données d'entrée en utilisant une **fonction de perte cross-entropy** et une **fonction d'activation softmax**.\n",
    "\n",
    "### **1️⃣ Forward Pass (Prédiction)**\n",
    "On calcule les scores bruts des classes :\n",
    "$$\n",
    "\\text{logits} = XW + b\n",
    "$$\n",
    "Puis, on applique la **fonction softmax** pour obtenir des probabilités.\n",
    "\n",
    "### **2️⃣ Calcul de la perte (Cross-Entropy)**\n",
    "- On transforme les étiquettes (`y_batch`) en **one-hot encoding**.\n",
    "- On utilise la **perte d'entropie croisée** :\n",
    "  $$\n",
    "  \\text{Perte} = -\\frac{1}{N} \\sum_{i} y_i \\log(\\hat{y}_i)\n",
    "  $$\n",
    "\n",
    "### **3️⃣ Backward Pass (Calcul des gradients)**\n",
    "- Le gradient de la perte par rapport aux logits est donné par :\n",
    "  $$\n",
    "  dL/d\\hat{Y} = \\hat{Y} - Y_{\\text{one-hot}}\n",
    "  $$\n",
    "- Ensuite, on calcule les gradients par rapport à **W** et **b**.\n",
    "\n",
    "### **4️⃣ Mise à jour des paramètres (Descente de Gradient)**\n",
    "- On met à jour `W` et `b` en soustrayant le gradient multiplié par le **taux d'apprentissage (eta)**."
   ]
  },
  {
   "cell_type": "markdown",
   "id": "1009d1ef-4634-4cfd-a5e5-e083586f7484",
   "metadata": {},
   "source": [
    "#### ** --> Formules des gradients de W et b**  \n",
    "\n",
    "##### **Gradient par rapport à W (gradW)**\n",
    "$$\n",
    "\\frac{\\partial L}{\\partial W} = \\frac{1}{m} X^T (\\hat{Y} - Y)\n",
    "$$\n",
    "\n",
    "- $ X^T $ est la transposée de la matrice des entrées.  \n",
    "- $ (\\hat{Y} - Y) $ représente la différence entre la prédiction et la vraie étiquette.\n",
    "\n",
    "##### **Gradient par rapport à b (gradb)**\n",
    "$$\n",
    "\\frac{\\partial L}{\\partial b} = \\frac{1}{m} \\sum_{i=1}^{m} (\\hat{Y}_i - Y_i)\n",
    "$$\n",
    "- Il s'agit simplement de la somme des erreurs sur chaque échantillon du batch.\n",
    "\n",
    "---\n",
    "\n",
    "#### **📌 Mise à jour des paramètres**\n",
    "Une fois les gradients calculés, on met à jour les paramètres via la **descente de gradient** :\n",
    "$$\n",
    "W = W - \\eta \\frac{\\partial L}{\\partial W}\n",
    "$$\n",
    "$$\n",
    "b = b - \\eta \\frac{\\partial L}{\\partial b}\n",
    "$$\n",
    "\n",
    "où $ \\eta $ est le **taux d'apprentissage** (learning rate).\n",
    "\n",
    "##### **✅ Résumé**\n",
    "| Gradient | Formule mathématique |\n",
    "|----------|---------------------|\n",
    "| $ \\frac{\\partial L}{\\partial W} $ | $ \\frac{1}{m} X^T (\\hat{Y} - Y) $ |\n",
    "| $ \\frac{\\partial L}{\\partial b} $ | $ \\frac{1}{m} \\sum (\\hat{Y} - Y) $ |\n",
    "| Mise à jour de $ W $ | $ W = W - \\eta \\cdot \\frac{\\partial L}{\\partial W} $ |\n",
    "| Mise à jour de $ b $ | $ b = b - \\eta \\cdot \\frac{\\partial L}{\\partial b} $ |"
   ]
  },
  {
   "cell_type": "code",
   "execution_count": 66,
   "id": "e1f27ead",
   "metadata": {
    "hide-output": false
   },
   "outputs": [],
   "source": [
    "import numpy as np\n",
    "N, d = X_train.shape # N exemples, dimension d\n",
    "W = np.zeros((d, n_classes)) # initialisation de poids\n",
    "b = np.zeros((1, n_classes)) # initialisation des biais\n",
    "\n",
    "n_epochs = 20 # Nombre d'epochs de la descente de gradient\n",
    "eta = 1e-1 # Learning rate (pas d'apprentissage)\n",
    "batch_size = 100 # Taille du lot\n",
    "n_batches = int(float(N) / batch_size)\n",
    "\n",
    "# On alloue deux matrices pour stocker les valeurs des gradients\n",
    "gradW = np.zeros((d, n_classes))\n",
    "gradb = np.zeros((1, n_classes))\n",
    "\n",
    "for epoch in range(n_epochs):\n",
    "    for batch_idx in range(n_batches):\n",
    "        # ********* À compléter **********\n",
    "        # Sélection du mini-batch\n",
    "        start = batch_idx * batch_size\n",
    "        end = start + batch_size\n",
    "        X_batch = X_train[start:end]  # Sélection des entrées du mini-batch\n",
    "        y_batch = y_train[start:end]  # Sélection des labels du mini-batch\n",
    "\n",
    "        # ---- FORWARD PASS ----\n",
    "        logits = X_batch @ W + b  # Calcul des scores bruts (logits)\n",
    "        softmax_probs = np.exp(logits) / np.sum(np.exp(logits), axis=1, keepdims=True) # Conversion en probabilités\n",
    "\n",
    "        # ---- CALCUL DE LA PERTE (CROSS-ENTROPY) ----\n",
    "        one_hot_y = np.eye(n_classes)[y_batch]  # Conversion des labels en one-hot encoding\n",
    "        y_log_y_pred = one_hot_y * np.log(softmax_probs + 1e-9) # Ajout d'un petit terme pour éviter log(0)\n",
    "        loss = -np.sum(y_log_y_pred) / batch_size\n",
    "\n",
    "        # ---- BACKWARD PASS ----\n",
    "        dL_dlogits = softmax_probs - one_hot_y  # Gradient de la perte par rapport aux logits\n",
    "        gradW = np.dot(X_batch.T, dL_dlogits) / batch_size  # Gradient par rapport à W\n",
    "        gradb = np.sum(dL_dlogits, axis=0, keepdims=True) / batch_size  # Gradient par rapport à b\n",
    "        \n",
    "        # ---- MISE À JOUR DES PARAMÈTRES ----\n",
    "        W -= eta * gradW\n",
    "        b -= eta * gradb"
   ]
  },
  {
   "cell_type": "markdown",
   "id": "6cb04541",
   "metadata": {},
   "source": [
    "### Question\n",
    "\n",
    "Compléter ce code. Vous devez notamment :\n",
    "\n",
    "> - Écrire une fonction `forward(batch, W, b)` qui calcule la prédiction (vecteur de sortie $ \\hat{\\mathbf{y}} $ pour chaque exemple d’un batch de données. Si on considère un batch des données de taille $ tb\\times 784 $, les paramètres $ \\mathbf{W} $ (taille $ 784\\times 10 $) et $ \\mathbf{b} $ (taille $ 1\\times 10 $), la fonction `forward` renvoie la prédiction $ \\mathbf{\\hat{Y}} $ sur le batch (taille $ tb\\times 10 $).  La fonction `forward` sera appelée pour chaque itération de la double boucle précédente.  \n",
    "- Completer la fonction `softmax` ci-dessous pour calculer le résultat du passage du softmax sur chaque élément de de la matrice de la projection linéraire (taille $ tb\\times 10 $) :  "
   ]
  },
  {
   "cell_type": "code",
   "execution_count": 67,
   "id": "65d5b373-b44e-4dc9-80e2-f397a12afebc",
   "metadata": {},
   "outputs": [],
   "source": [
    "def forward(X_batch, W, b ):\n",
    "    \n",
    "    logits = X_batch @ W + b\n",
    "    \n",
    "    return logits"
   ]
  },
  {
   "cell_type": "code",
   "execution_count": 68,
   "id": "806ef32d",
   "metadata": {
    "hide-output": false
   },
   "outputs": [],
   "source": [
    "def softmax(X):\n",
    "     # Entrée: matrice X de dimensions batch x d\n",
    "     # Sortie: matrice de mêmes dimensions\n",
    "     softmax_probs = np.exp(X) / np.sum(np.exp(X), axis=1, keepdims=True) # Conversion en probabilités\n",
    "     return softmax_probs"
   ]
  },
  {
   "cell_type": "markdown",
   "id": "bdaa6c02",
   "metadata": {},
   "source": [
    "\n",
    "- \n",
    "  <dl style='margin: 20px 0;'>\n",
    "  <dt>réecrire le code d'avant avec les deux nouvelles fonctions</dt>\n",
    "  \n",
    "  </dl>"
   ]
  },
  {
   "cell_type": "code",
   "execution_count": 69,
   "id": "976cd5e6-cc07-4217-bb80-b68e48a080ce",
   "metadata": {},
   "outputs": [],
   "source": [
    "import numpy as np\n",
    "N, d = X_train.shape # N exemples, dimension d\n",
    "W = np.zeros((d, n_classes)) # initialisation de poids\n",
    "b = np.zeros((1, n_classes)) # initialisation des biais\n",
    "\n",
    "n_epochs = 20 # Nombre d'epochs de la descente de gradient\n",
    "eta = 1e-1 # Learning rate (pas d'apprentissage)\n",
    "batch_size = 100 # Taille du lot\n",
    "n_batches = int(float(N) / batch_size)\n",
    "\n",
    "# On alloue deux matrices pour stocker les valeurs des gradients\n",
    "gradW = np.zeros((d, n_classes))\n",
    "gradb = np.zeros((1, n_classes))\n",
    "\n",
    "for epoch in range(n_epochs):\n",
    "    for batch_idx in range(n_batches):\n",
    "        # ********* À compléter **********\n",
    "        # Sélection du mini-batch\n",
    "        start = batch_idx * batch_size\n",
    "        end = start + batch_size\n",
    "        X_batch = X_train[start:end]  # Sélection des entrées du mini-batch\n",
    "        y_batch = y_train[start:end]  # Sélection des labels du mini-batch\n",
    "\n",
    "        # ---- FORWARD PASS ----\n",
    "        logits = forward(X_batch, W, b)  # Calcul des scores bruts (logits)\n",
    "        softmax_probs = softmax(logits) # Conversion en probabilités\n",
    "\n",
    "        # ---- CALCUL DE LA PERTE (CROSS-ENTROPY) ----\n",
    "        one_hot_y = np.eye(n_classes)[y_batch]  # Conversion des labels en one-hot encoding\n",
    "        y_log_y_pred = one_hot_y * np.log(softmax_probs + 1e-9) # Ajout d'un petit terme pour éviter log(0)\n",
    "        loss = -np.sum(y_log_y_pred) / batch_size\n",
    "\n",
    "        # ---- BACKWARD PASS ----\n",
    "        dL_dlogits = softmax_probs - one_hot_y  # Gradient de la perte par rapport aux logits\n",
    "        gradW = np.dot(X_batch.T, dL_dlogits) / batch_size  # Gradient par rapport à W\n",
    "        gradb = np.sum(dL_dlogits, axis=0, keepdims=True) / batch_size  # Gradient par rapport à b\n",
    "        \n",
    "        # ---- MISE À JOUR DES PARAMÈTRES ----\n",
    "        W -= eta * gradW\n",
    "        b -= eta * gradb"
   ]
  },
  {
   "cell_type": "markdown",
   "id": "ccef8bff",
   "metadata": {},
   "source": [
    "### Question\n",
    "\n",
    "Évaluer les performances du modèle de régression logistique entraîné sur MNIST. On utilisera le taux de bonne classification (*accuracy*) comme métrique. Commencer par mesurer l’évolution des performances du modèle au cours de l’apprentissage (calcul de l'*accuracy* à chaque époque), puis évaluer sur le modèle sur la base de test. Vous pouvez utiliser la [fonction de scikit-learn](https://scikit-learn.org/stable/modules/generated/sklearn.metrics.accuracy_score.html) ou la fonction `accuracy` ci-dessous (qui effectue également la phase de prédiction).\n",
    "\n",
    "**Vous devriez obtenir un score de l’ordre de 92% sur la base de test pour ce modèle de régression logistique.**"
   ]
  },
  {
   "cell_type": "code",
   "execution_count": 70,
   "id": "5ea5de83",
   "metadata": {
    "hide-output": false
   },
   "outputs": [],
   "source": [
    "def accuracy(W, b, images, labels):\n",
    "    \"\"\" W: matrice de paramètres\n",
    "        b: vecteur de biais\n",
    "        images: images de MNIST\n",
    "        labels: étiquettes de MNIST pour les images\n",
    "\n",
    "        Renvoie l'accuracy du modèle (W, b) sur les images par rapport aux labels\n",
    "    \"\"\"\n",
    "    pred = forward(images, W, b)\n",
    "    return np.where(pred.argmax(axis=1) != labels.argmax(axis=1), 0.,1.).mean()"
   ]
  },
  {
   "cell_type": "code",
   "execution_count": 71,
   "id": "af6dd0a1",
   "metadata": {},
   "outputs": [
    {
     "data": {
      "text/plain": [
       "0.9224"
      ]
     },
     "execution_count": 71,
     "metadata": {},
     "output_type": "execute_result"
    }
   ],
   "source": [
    "accuracy(W, b, X_test, Y_test)"
   ]
  },
  {
   "cell_type": "markdown",
   "id": "d2abc1be-8b96-4888-ad03-8598883b8b07",
   "metadata": {},
   "source": [
    "##### Utilise le package sklearn pour entraîner un MLP (avec la même architecture que le réseau précédent) ainsi qu’un SVM. Évalue ensuite les deux modèles et compare les résultats obtenus avec ceux du modèle précédent."
   ]
  },
  {
   "cell_type": "code",
   "execution_count": null,
   "id": "7f440de9-b250-4321-8ebe-592c12beceab",
   "metadata": {},
   "outputs": [
    {
     "name": "stdout",
     "output_type": "stream",
     "text": [
      "Accuracy avec MLP :  0.9767\n"
     ]
    }
   ],
   "source": [
    "#Essai avec MLP\n",
    "from sklearn.neural_network import MLPClassifier\n",
    "from sklearn.metrics import accuracy_score\n",
    "\n",
    "\n",
    "clf = MLPClassifier(random_state=42)\n",
    "clf.fit(X_train, y_train)\n",
    "y_pred = clf.predict(X_test)\n",
    "\n",
    "accuracy = accuracy_score(y_test, y_pred)\n",
    "print(\"Accuracy avec MLP : \", accuracy)\n"
   ]
  },
  {
   "cell_type": "code",
   "execution_count": null,
   "id": "f2b03f6b",
   "metadata": {},
   "outputs": [
    {
     "name": "stderr",
     "output_type": "stream",
     "text": [
      "/home/florian-andr/anaconda3/envs/jpn_florian/lib/python3.8/site-packages/sklearn/svm/_base.py:297: ConvergenceWarning: Solver terminated early (max_iter=100).  Consider pre-processing your data with StandardScaler or MinMaxScaler.\n",
      "  warnings.warn(\n"
     ]
    },
    {
     "name": "stdout",
     "output_type": "stream",
     "text": [
      "Accuracy avec SVM : 0.7962\n"
     ]
    }
   ],
   "source": [
    "#Essai avec SVM\n",
    "from sklearn.svm import SVC\n",
    "from sklearn.metrics import accuracy_score\n",
    "\n",
    "clf = SVC(random_state=42)\n",
    "clf.fit(X_train, y_train)\n",
    "y_pred = clf.predict(X_test)\n",
    "accuracy = accuracy_score(y_test, y_pred)\n",
    "print(\"Accuracy avec SVM :\", accuracy)\n"
   ]
  },
  {
   "cell_type": "markdown",
   "id": "2f6ad234",
   "metadata": {},
   "source": [
    "On remarque que sur les 3 modèles, le premier (réseau de neurones avec Régression logistique) a l'accuracy la moins élevée (0.92) mais il est le plus rapide à entraîner (moins de 30 secondes)\n",
    "Le modèle avec SVM a l'accuracy la plus élevée (0,9792) mais c'est aussi le plus long à entraîner (plus de 4 minutes)"
   ]
  }
 ],
 "metadata": {
  "date": 1725613532.7446063,
  "filename": "tpDeepLearning1.rst",
  "kernelspec": {
   "display_name": "jpn_florian",
   "language": "python",
   "name": "python3"
  },
  "language_info": {
   "codemirror_mode": {
    "name": "ipython",
    "version": 3
   },
   "file_extension": ".py",
   "mimetype": "text/x-python",
   "name": "python",
   "nbconvert_exporter": "python",
   "pygments_lexer": "ipython3",
   "version": "3.8.20"
  },
  "title": "Travaux pratiques - Premiers réseaux de neurones"
 },
 "nbformat": 4,
 "nbformat_minor": 5
}
