{
 "cells": [
  {
   "cell_type": "markdown",
   "id": "17b10f6b",
   "metadata": {},
   "source": [
    "## Plan du TP :\n",
    "\n",
    "Expliquer les concepts de variance, covariance et corrélation.</br></br>\n",
    "Présenter l'ACP comme une méthode de réduction de dimensionnalité.</br></br>\n",
    "Discuter de l'importance de la standardisation des données."
   ]
  },
  {
   "cell_type": "markdown",
   "id": "53c904a6",
   "metadata": {},
   "source": [
    "<b/>\n",
    "Exercice 1 : Chargement et standardisation des données</br>\n",
    "Objectif : Charger le dataset Wine (sklearn.datasets) et le standardiser."
   ]
  },
  {
   "cell_type": "code",
   "execution_count": 1,
   "id": "861b2271",
   "metadata": {},
   "outputs": [],
   "source": [
    "from sklearn.datasets import load_wine\n",
    "from sklearn.preprocessing import StandardScaler\n",
    "import pandas as pd\n",
    "import numpy as np\n",
    "import seaborn as sns\n",
    "import matplotlib.pyplot as plt"
   ]
  },
  {
   "cell_type": "code",
   "execution_count": 2,
   "id": "96d1d9df",
   "metadata": {},
   "outputs": [
    {
     "data": {
      "text/plain": [
       "(178, 13)"
      ]
     },
     "execution_count": 2,
     "metadata": {},
     "output_type": "execute_result"
    }
   ],
   "source": [
    "# Chargement du dataset Wine\n",
    "import pandas as pd\n",
    "dataset = load_wine()\n",
    "df = pd.DataFrame(dataset.data, columns=dataset.feature_names)\n",
    "\n",
    "df.shape"
   ]
  },
  {
   "cell_type": "code",
   "execution_count": 3,
   "id": "2f4aba0a",
   "metadata": {},
   "outputs": [
    {
     "data": {
      "text/html": [
       "<div>\n",
       "<style scoped>\n",
       "    .dataframe tbody tr th:only-of-type {\n",
       "        vertical-align: middle;\n",
       "    }\n",
       "\n",
       "    .dataframe tbody tr th {\n",
       "        vertical-align: top;\n",
       "    }\n",
       "\n",
       "    .dataframe thead th {\n",
       "        text-align: right;\n",
       "    }\n",
       "</style>\n",
       "<table border=\"1\" class=\"dataframe\">\n",
       "  <thead>\n",
       "    <tr style=\"text-align: right;\">\n",
       "      <th></th>\n",
       "      <th>alcohol</th>\n",
       "      <th>malic_acid</th>\n",
       "      <th>ash</th>\n",
       "      <th>alcalinity_of_ash</th>\n",
       "      <th>magnesium</th>\n",
       "      <th>total_phenols</th>\n",
       "      <th>flavanoids</th>\n",
       "      <th>nonflavanoid_phenols</th>\n",
       "      <th>proanthocyanins</th>\n",
       "      <th>color_intensity</th>\n",
       "      <th>hue</th>\n",
       "      <th>od280/od315_of_diluted_wines</th>\n",
       "      <th>proline</th>\n",
       "    </tr>\n",
       "  </thead>\n",
       "  <tbody>\n",
       "    <tr>\n",
       "      <th>0</th>\n",
       "      <td>14.23</td>\n",
       "      <td>1.71</td>\n",
       "      <td>2.43</td>\n",
       "      <td>15.6</td>\n",
       "      <td>127.0</td>\n",
       "      <td>2.80</td>\n",
       "      <td>3.06</td>\n",
       "      <td>0.28</td>\n",
       "      <td>2.29</td>\n",
       "      <td>5.64</td>\n",
       "      <td>1.04</td>\n",
       "      <td>3.92</td>\n",
       "      <td>1065.0</td>\n",
       "    </tr>\n",
       "    <tr>\n",
       "      <th>1</th>\n",
       "      <td>13.20</td>\n",
       "      <td>1.78</td>\n",
       "      <td>2.14</td>\n",
       "      <td>11.2</td>\n",
       "      <td>100.0</td>\n",
       "      <td>2.65</td>\n",
       "      <td>2.76</td>\n",
       "      <td>0.26</td>\n",
       "      <td>1.28</td>\n",
       "      <td>4.38</td>\n",
       "      <td>1.05</td>\n",
       "      <td>3.40</td>\n",
       "      <td>1050.0</td>\n",
       "    </tr>\n",
       "    <tr>\n",
       "      <th>2</th>\n",
       "      <td>13.16</td>\n",
       "      <td>2.36</td>\n",
       "      <td>2.67</td>\n",
       "      <td>18.6</td>\n",
       "      <td>101.0</td>\n",
       "      <td>2.80</td>\n",
       "      <td>3.24</td>\n",
       "      <td>0.30</td>\n",
       "      <td>2.81</td>\n",
       "      <td>5.68</td>\n",
       "      <td>1.03</td>\n",
       "      <td>3.17</td>\n",
       "      <td>1185.0</td>\n",
       "    </tr>\n",
       "    <tr>\n",
       "      <th>3</th>\n",
       "      <td>14.37</td>\n",
       "      <td>1.95</td>\n",
       "      <td>2.50</td>\n",
       "      <td>16.8</td>\n",
       "      <td>113.0</td>\n",
       "      <td>3.85</td>\n",
       "      <td>3.49</td>\n",
       "      <td>0.24</td>\n",
       "      <td>2.18</td>\n",
       "      <td>7.80</td>\n",
       "      <td>0.86</td>\n",
       "      <td>3.45</td>\n",
       "      <td>1480.0</td>\n",
       "    </tr>\n",
       "    <tr>\n",
       "      <th>4</th>\n",
       "      <td>13.24</td>\n",
       "      <td>2.59</td>\n",
       "      <td>2.87</td>\n",
       "      <td>21.0</td>\n",
       "      <td>118.0</td>\n",
       "      <td>2.80</td>\n",
       "      <td>2.69</td>\n",
       "      <td>0.39</td>\n",
       "      <td>1.82</td>\n",
       "      <td>4.32</td>\n",
       "      <td>1.04</td>\n",
       "      <td>2.93</td>\n",
       "      <td>735.0</td>\n",
       "    </tr>\n",
       "    <tr>\n",
       "      <th>...</th>\n",
       "      <td>...</td>\n",
       "      <td>...</td>\n",
       "      <td>...</td>\n",
       "      <td>...</td>\n",
       "      <td>...</td>\n",
       "      <td>...</td>\n",
       "      <td>...</td>\n",
       "      <td>...</td>\n",
       "      <td>...</td>\n",
       "      <td>...</td>\n",
       "      <td>...</td>\n",
       "      <td>...</td>\n",
       "      <td>...</td>\n",
       "    </tr>\n",
       "    <tr>\n",
       "      <th>173</th>\n",
       "      <td>13.71</td>\n",
       "      <td>5.65</td>\n",
       "      <td>2.45</td>\n",
       "      <td>20.5</td>\n",
       "      <td>95.0</td>\n",
       "      <td>1.68</td>\n",
       "      <td>0.61</td>\n",
       "      <td>0.52</td>\n",
       "      <td>1.06</td>\n",
       "      <td>7.70</td>\n",
       "      <td>0.64</td>\n",
       "      <td>1.74</td>\n",
       "      <td>740.0</td>\n",
       "    </tr>\n",
       "    <tr>\n",
       "      <th>174</th>\n",
       "      <td>13.40</td>\n",
       "      <td>3.91</td>\n",
       "      <td>2.48</td>\n",
       "      <td>23.0</td>\n",
       "      <td>102.0</td>\n",
       "      <td>1.80</td>\n",
       "      <td>0.75</td>\n",
       "      <td>0.43</td>\n",
       "      <td>1.41</td>\n",
       "      <td>7.30</td>\n",
       "      <td>0.70</td>\n",
       "      <td>1.56</td>\n",
       "      <td>750.0</td>\n",
       "    </tr>\n",
       "    <tr>\n",
       "      <th>175</th>\n",
       "      <td>13.27</td>\n",
       "      <td>4.28</td>\n",
       "      <td>2.26</td>\n",
       "      <td>20.0</td>\n",
       "      <td>120.0</td>\n",
       "      <td>1.59</td>\n",
       "      <td>0.69</td>\n",
       "      <td>0.43</td>\n",
       "      <td>1.35</td>\n",
       "      <td>10.20</td>\n",
       "      <td>0.59</td>\n",
       "      <td>1.56</td>\n",
       "      <td>835.0</td>\n",
       "    </tr>\n",
       "    <tr>\n",
       "      <th>176</th>\n",
       "      <td>13.17</td>\n",
       "      <td>2.59</td>\n",
       "      <td>2.37</td>\n",
       "      <td>20.0</td>\n",
       "      <td>120.0</td>\n",
       "      <td>1.65</td>\n",
       "      <td>0.68</td>\n",
       "      <td>0.53</td>\n",
       "      <td>1.46</td>\n",
       "      <td>9.30</td>\n",
       "      <td>0.60</td>\n",
       "      <td>1.62</td>\n",
       "      <td>840.0</td>\n",
       "    </tr>\n",
       "    <tr>\n",
       "      <th>177</th>\n",
       "      <td>14.13</td>\n",
       "      <td>4.10</td>\n",
       "      <td>2.74</td>\n",
       "      <td>24.5</td>\n",
       "      <td>96.0</td>\n",
       "      <td>2.05</td>\n",
       "      <td>0.76</td>\n",
       "      <td>0.56</td>\n",
       "      <td>1.35</td>\n",
       "      <td>9.20</td>\n",
       "      <td>0.61</td>\n",
       "      <td>1.60</td>\n",
       "      <td>560.0</td>\n",
       "    </tr>\n",
       "  </tbody>\n",
       "</table>\n",
       "<p>178 rows × 13 columns</p>\n",
       "</div>"
      ],
      "text/plain": [
       "     alcohol  malic_acid   ash  alcalinity_of_ash  magnesium  total_phenols  \\\n",
       "0      14.23        1.71  2.43               15.6      127.0           2.80   \n",
       "1      13.20        1.78  2.14               11.2      100.0           2.65   \n",
       "2      13.16        2.36  2.67               18.6      101.0           2.80   \n",
       "3      14.37        1.95  2.50               16.8      113.0           3.85   \n",
       "4      13.24        2.59  2.87               21.0      118.0           2.80   \n",
       "..       ...         ...   ...                ...        ...            ...   \n",
       "173    13.71        5.65  2.45               20.5       95.0           1.68   \n",
       "174    13.40        3.91  2.48               23.0      102.0           1.80   \n",
       "175    13.27        4.28  2.26               20.0      120.0           1.59   \n",
       "176    13.17        2.59  2.37               20.0      120.0           1.65   \n",
       "177    14.13        4.10  2.74               24.5       96.0           2.05   \n",
       "\n",
       "     flavanoids  nonflavanoid_phenols  proanthocyanins  color_intensity   hue  \\\n",
       "0          3.06                  0.28             2.29             5.64  1.04   \n",
       "1          2.76                  0.26             1.28             4.38  1.05   \n",
       "2          3.24                  0.30             2.81             5.68  1.03   \n",
       "3          3.49                  0.24             2.18             7.80  0.86   \n",
       "4          2.69                  0.39             1.82             4.32  1.04   \n",
       "..          ...                   ...              ...              ...   ...   \n",
       "173        0.61                  0.52             1.06             7.70  0.64   \n",
       "174        0.75                  0.43             1.41             7.30  0.70   \n",
       "175        0.69                  0.43             1.35            10.20  0.59   \n",
       "176        0.68                  0.53             1.46             9.30  0.60   \n",
       "177        0.76                  0.56             1.35             9.20  0.61   \n",
       "\n",
       "     od280/od315_of_diluted_wines  proline  \n",
       "0                            3.92   1065.0  \n",
       "1                            3.40   1050.0  \n",
       "2                            3.17   1185.0  \n",
       "3                            3.45   1480.0  \n",
       "4                            2.93    735.0  \n",
       "..                            ...      ...  \n",
       "173                          1.74    740.0  \n",
       "174                          1.56    750.0  \n",
       "175                          1.56    835.0  \n",
       "176                          1.62    840.0  \n",
       "177                          1.60    560.0  \n",
       "\n",
       "[178 rows x 13 columns]"
      ]
     },
     "execution_count": 3,
     "metadata": {},
     "output_type": "execute_result"
    }
   ],
   "source": [
    "df"
   ]
  },
  {
   "cell_type": "code",
   "execution_count": 4,
   "id": "7e4e90d0",
   "metadata": {},
   "outputs": [],
   "source": [
    "# Standardisation des données\n",
    "df_std = StandardScaler().fit_transform(df)"
   ]
  },
  {
   "cell_type": "markdown",
   "id": "ec6cea72",
   "metadata": {},
   "source": [
    "<b>Exercice 2 : Calcul de la matrice de covariance</br>\n",
    "Objectif : Calculer et visualiser la matrice de covariance des données standardisées.   \n",
    "    "
   ]
  },
  {
   "cell_type": "code",
   "execution_count": 5,
   "id": "a133c455",
   "metadata": {},
   "outputs": [
    {
     "name": "stdout",
     "output_type": "stream",
     "text": [
      "[[ 1.00564972  0.09493026  0.21273976 -0.31198788  0.27232816  0.29073446\n",
      "   0.23815287 -0.15681042  0.13747022  0.549451   -0.07215255  0.07275191\n",
      "   0.64735687]\n",
      " [ 0.09493026  1.00564972  0.16497228  0.29013035 -0.05488343 -0.3370606\n",
      "  -0.41332866  0.29463237 -0.22199334  0.25039204 -0.56446685 -0.37079354\n",
      "  -0.19309537]\n",
      " [ 0.21273976  0.16497228  1.00564972  0.44587209  0.28820583  0.12970824\n",
      "   0.11572743  0.1872826   0.00970647  0.2603499  -0.07508874  0.00393333\n",
      "   0.22488969]\n",
      " [-0.31198788  0.29013035  0.44587209  1.00564972 -0.0838039  -0.32292752\n",
      "  -0.353355    0.36396647 -0.19844168  0.01883781 -0.27550299 -0.27833221\n",
      "  -0.44308618]\n",
      " [ 0.27232816 -0.05488343  0.28820583 -0.0838039   1.00564972  0.21561254\n",
      "   0.19688989 -0.25774204  0.23777643  0.20107967  0.05571118  0.06637684\n",
      "   0.39557317]\n",
      " [ 0.29073446 -0.3370606   0.12970824 -0.32292752  0.21561254  1.00564972\n",
      "   0.86944804 -0.45247731  0.61587304 -0.05544792  0.43613151  0.70390388\n",
      "   0.50092909]\n",
      " [ 0.23815287 -0.41332866  0.11572743 -0.353355    0.19688989  0.86944804\n",
      "   1.00564972 -0.54093859  0.65637929 -0.17335329  0.54654907  0.79164133\n",
      "   0.49698518]\n",
      " [-0.15681042  0.29463237  0.1872826   0.36396647 -0.25774204 -0.45247731\n",
      "  -0.54093859  1.00564972 -0.36791202  0.13984265 -0.26412347 -0.50611293\n",
      "  -0.31314443]\n",
      " [ 0.13747022 -0.22199334  0.00970647 -0.19844168  0.23777643  0.61587304\n",
      "   0.65637929 -0.36791202  1.00564972 -0.02539259  0.29721399  0.52199968\n",
      "   0.33228346]\n",
      " [ 0.549451    0.25039204  0.2603499   0.01883781  0.20107967 -0.05544792\n",
      "  -0.17335329  0.13984265 -0.02539259  1.00564972 -0.52476129 -0.43123763\n",
      "   0.31788599]\n",
      " [-0.07215255 -0.56446685 -0.07508874 -0.27550299  0.05571118  0.43613151\n",
      "   0.54654907 -0.26412347  0.29721399 -0.52476129  1.00564972  0.56866303\n",
      "   0.23751782]\n",
      " [ 0.07275191 -0.37079354  0.00393333 -0.27833221  0.06637684  0.70390388\n",
      "   0.79164133 -0.50611293  0.52199968 -0.43123763  0.56866303  1.00564972\n",
      "   0.31452809]\n",
      " [ 0.64735687 -0.19309537  0.22488969 -0.44308618  0.39557317  0.50092909\n",
      "   0.49698518 -0.31314443  0.33228346  0.31788599  0.23751782  0.31452809\n",
      "   1.00564972]]\n"
     ]
    }
   ],
   "source": [
    "# Calcul de la matrice de covariance\n",
    "cov_matrix = np.cov(df_std, rowvar=False)\n",
    "# Visualisation de la matrice de covariance\n",
    "print(cov_matrix)"
   ]
  },
  {
   "cell_type": "markdown",
   "id": "170002fa",
   "metadata": {},
   "source": [
    "<b>Exercice 3 : Application de l'ACP</br>\n",
    "Objectif : Appliquer l'ACP et interpréter les valeurs propres et les vecteurs propres."
   ]
  },
  {
   "cell_type": "code",
   "execution_count": 6,
   "id": "8118e086",
   "metadata": {},
   "outputs": [
    {
     "data": {
      "text/plain": [
       "(178, 13)"
      ]
     },
     "execution_count": 6,
     "metadata": {},
     "output_type": "execute_result"
    }
   ],
   "source": [
    "df_std.shape"
   ]
  },
  {
   "cell_type": "code",
   "execution_count": 7,
   "id": "17d652f2",
   "metadata": {},
   "outputs": [
    {
     "name": "stdout",
     "output_type": "stream",
     "text": [
      "\n",
      "Valeurs propres : \n",
      "  [28.94203422 21.08225141 16.04371561 12.78973645 12.32374195 10.68713954\n",
      "  9.90368818  7.8760733   7.17081793  6.6828618   6.33958815  5.48097635\n",
      "  4.28967045]\n",
      "\n",
      "Vecteurs propres : \n",
      "  [[ 0.1443294  -0.24518758 -0.00205106 -0.23932041  0.14199204  0.39466085\n",
      "   0.4229343  -0.2985331   0.31342949 -0.0886167   0.29671456  0.37616741\n",
      "   0.28675223]\n",
      " [-0.48365155 -0.22493093 -0.31606881  0.0105905  -0.299634   -0.06503951\n",
      "   0.00335981 -0.02877949 -0.03930172 -0.52999567  0.27923515  0.16449619\n",
      "  -0.36490283]\n",
      " [-0.20738262  0.08901289  0.6262239   0.61208035  0.13075693  0.14617896\n",
      "   0.1506819   0.17036816  0.14945431 -0.13730621  0.08522192  0.16600459\n",
      "  -0.12674592]\n",
      " [-0.0178563   0.53689028 -0.21417556  0.06085941 -0.35179658  0.19806835\n",
      "   0.15229479 -0.20330102  0.39905653  0.06592568 -0.42777141  0.18412074\n",
      "  -0.23207086]\n",
      " [-0.26566365  0.03521363 -0.14302547  0.06610294  0.72704851 -0.14931841\n",
      "  -0.10902584 -0.50070298  0.13685982 -0.07643678 -0.17361452 -0.10116099\n",
      "  -0.1578688 ]\n",
      " [-0.21353865 -0.53681385 -0.15447466  0.10082451 -0.03814394  0.0841223\n",
      "   0.01892002  0.25859401  0.53379539  0.41864414 -0.10598274 -0.26585107\n",
      "  -0.11972557]\n",
      " [-0.05639636  0.42052391 -0.14917061 -0.28696914  0.3228833  -0.02792498\n",
      "  -0.06068521  0.59544729  0.37213935 -0.22771214  0.23207564 -0.0447637\n",
      "   0.0768045 ]\n",
      " [-0.39613926 -0.06582674  0.17026002 -0.42797018  0.15636143  0.40593409\n",
      "   0.18724536  0.23328465 -0.36822675  0.03379692 -0.43662362  0.07810789\n",
      "  -0.12002267]\n",
      " [ 0.50861912 -0.07528304 -0.30769445  0.20044931  0.27140257  0.28603452\n",
      "   0.04957849  0.19550132 -0.20914487  0.05621752  0.08582839  0.1372269\n",
      "  -0.57578611]\n",
      " [ 0.21160473 -0.30907994 -0.02712539  0.05279942  0.06787022 -0.32013135\n",
      "  -0.16315051  0.21553507  0.1341839  -0.29077518 -0.52239889  0.52370587\n",
      "   0.162116  ]\n",
      " [-0.22591696  0.07648554 -0.49869142  0.47931378  0.07128891  0.30434119\n",
      "  -0.02569409  0.11689586 -0.23736257  0.0318388  -0.04821201  0.0464233\n",
      "   0.53926983]\n",
      " [-0.26628645  0.12169604 -0.04962237 -0.05574287  0.06222011 -0.30388245\n",
      "  -0.04289883  0.04235219 -0.09555303  0.60422163  0.259214    0.60095872\n",
      "  -0.07940162]\n",
      " [ 0.01496997  0.02596375 -0.14121803  0.09168285  0.05677422 -0.46390791\n",
      "   0.83225706  0.11403985 -0.11691707 -0.0119928  -0.08988884 -0.15671813\n",
      "   0.01444734]]\n"
     ]
    }
   ],
   "source": [
    "from sklearn.decomposition import PCA\n",
    "\n",
    "# Application de l'ACP\n",
    "pca = PCA(n_components=df_std.shape[1])\n",
    "pca.fit(df_std)\n",
    "# Affichage des valeurs propres\n",
    "print(\"\\nValeurs propres : \\n \", pca.singular_values_)\n",
    "# Affichage des vecteurs propres\n",
    "print(\"\\nVecteurs propres : \\n \", pca.components_)"
   ]
  },
  {
   "cell_type": "markdown",
   "id": "35059642",
   "metadata": {},
   "source": [
    "<b>Exercice 4 : Projection sur les deux premiers axes</br>\n",
    "Objectif : Visualiser les données projetées sur les deux premières composantes principales."
   ]
  },
  {
   "cell_type": "code",
   "execution_count": 8,
   "id": "9a86ffe5",
   "metadata": {},
   "outputs": [
    {
     "data": {
      "text/plain": [
       "array([[ 0.1443294 , -0.24518758],\n",
       "       [-0.48365155, -0.22493093],\n",
       "       [-0.20738262,  0.08901289],\n",
       "       [-0.0178563 ,  0.53689028],\n",
       "       [-0.26566365,  0.03521363],\n",
       "       [-0.21353865, -0.53681385],\n",
       "       [-0.05639636,  0.42052391],\n",
       "       [-0.39613926, -0.06582674],\n",
       "       [ 0.50861912, -0.07528304],\n",
       "       [ 0.21160473, -0.30907994],\n",
       "       [-0.22591696,  0.07648554],\n",
       "       [-0.26628645,  0.12169604],\n",
       "       [ 0.01496997,  0.02596375]])"
      ]
     },
     "execution_count": 8,
     "metadata": {},
     "output_type": "execute_result"
    }
   ],
   "source": [
    "pca.components_[:,:2]"
   ]
  },
  {
   "cell_type": "code",
   "execution_count": 9,
   "id": "e8be4640",
   "metadata": {},
   "outputs": [
    {
     "data": {
      "image/png": "[encoded data removed]",
      "text/plain": [
       "<Figure size 800x600 with 1 Axes>"
      ]
     },
     "metadata": {},
     "output_type": "display_data"
    }
   ],
   "source": [
    "#Projection des données\n",
    "data_pca = pca.transform(df_std)\n",
    "data_pca_2D = data_pca[:, :2]  # garder que les 2 premiers axes\n",
    "\n",
    "# Visualisation\n",
    "plt.figure(figsize=(8, 6))\n",
    "plt.scatter(data_pca_2D[:, 0], data_pca_2D[:, 1], alpha=0.7)\n",
    "plt.xlabel('Composante Principale 1')\n",
    "plt.ylabel('Composante Principale 2')\n",
    "plt.title('Projection sur les deux premières composantes principales')\n",
    "plt.show()"
   ]
  },
  {
   "cell_type": "markdown",
   "id": "fb442d74",
   "metadata": {},
   "source": [
    "<b>Exercice 5 : Interprétation des axes</br>\n",
    "Objectif : Interpréter les composantes principales en fonction des vecteurs propres."
   ]
  },
  {
   "cell_type": "markdown",
   "id": "91ac7c92",
   "metadata": {},
   "source": [
    "On distingue ici 3 clusters répartis sous forme d'une parabole centrée autour de 0. Le 1er cluster a une valeur élevée sur la composante principale 2 bien qu'il soit négatif sur la composante principale 1 (-4). Le 2ème cluster a une valeur faible sur les 2 composantes principales tandis que le 3ème cluster a une valeur élevée sur les 2 composantes principales. \n",
    "\n",
    "Après analyse, le premier cluster correspond aux vins ayant une faible valeur de flavanoids mais à une grande concentration d'alcool et une forte réflexion à la couleur. Le troisieme cluster correspond aux vins ayant un fort taux de phénols\n",
    "\n"
   ]
  }
 ],
 "metadata": {
  "kernelspec": {
   "display_name": "jpn_sncf",
   "language": "python",
   "name": "python3"
  },
  "language_info": {
   "codemirror_mode": {
    "name": "ipython",
    "version": 3
   },
   "file_extension": ".py",
   "mimetype": "text/x-python",
   "name": "python",
   "nbconvert_exporter": "python",
   "pygments_lexer": "ipython3",
   "version": "3.8.19"
  }
 },
 "nbformat": 4,
 "nbformat_minor": 5
}
