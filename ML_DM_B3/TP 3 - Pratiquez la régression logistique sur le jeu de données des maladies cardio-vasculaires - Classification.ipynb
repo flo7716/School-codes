{
 "cells": [
  {
   "cell_type": "markdown",
   "metadata": {},
   "source": [
    "# <font color=\"#8333ff\">TP : Pratiquez la régression logistique sur le jeu de données des maladies cardio-vasculaires</font>\n",
    "\n",
    "Dans ce TP, vous allez appliquer la régression logistique sur le cas d'étude portant sur les maladies cardio-vasculaires.\n",
    "\n",
    "## Importez les données\n",
    "\n",
    "On charge tout d'abord les librairies nécessaires pour réaliser ce TP :"
   ]
  },
  {
   "cell_type": "code",
   "execution_count": 25,
   "metadata": {},
   "outputs": [
    {
     "name": "stdout",
     "output_type": "stream",
     "text": [
      "/home/florian/Downloads\n"
     ]
    }
   ],
   "source": [
    "import os\n",
    "print(os.getcwd())\n",
    "os.chdir(\"/home/florian/Downloads/\")\n"
   ]
  },
  {
   "cell_type": "code",
   "execution_count": 26,
   "metadata": {},
   "outputs": [],
   "source": [
    "import pandas as pd\n",
    "import numpy as np\n",
    "import seaborn as sns\n",
    "import matplotlib.pyplot as plt\n",
    "from sklearn.linear_model import LogisticRegression\n",
    "from sklearn.linear_model import LogisticRegression\n",
    "from sklearn.metrics import accuracy_score, classification_report\n",
    "from sklearn.model_selection import train_test_split\n"
   ]
  },
  {
   "cell_type": "markdown",
   "metadata": {},
   "source": [
    "On importe ensuite les données :"
   ]
  },
  {
   "cell_type": "code",
   "execution_count": 27,
   "metadata": {},
   "outputs": [
    {
     "data": {
      "text/html": [
       "<div>\n",
       "<style scoped>\n",
       "    .dataframe tbody tr th:only-of-type {\n",
       "        vertical-align: middle;\n",
       "    }\n",
       "\n",
       "    .dataframe tbody tr th {\n",
       "        vertical-align: top;\n",
       "    }\n",
       "\n",
       "    .dataframe thead th {\n",
       "        text-align: right;\n",
       "    }\n",
       "</style>\n",
       "<table border=\"1\" class=\"dataframe\">\n",
       "  <thead>\n",
       "    <tr style=\"text-align: right;\">\n",
       "      <th></th>\n",
       "      <th>ind</th>\n",
       "      <th>sbp</th>\n",
       "      <th>tobacco</th>\n",
       "      <th>ldl</th>\n",
       "      <th>adiposity</th>\n",
       "      <th>famhist</th>\n",
       "      <th>typea</th>\n",
       "      <th>obesity</th>\n",
       "      <th>alcohol</th>\n",
       "      <th>age</th>\n",
       "      <th>chd</th>\n",
       "    </tr>\n",
       "  </thead>\n",
       "  <tbody>\n",
       "    <tr>\n",
       "      <th>0</th>\n",
       "      <td>1</td>\n",
       "      <td>160</td>\n",
       "      <td>12.00</td>\n",
       "      <td>5.73</td>\n",
       "      <td>23.11</td>\n",
       "      <td>Present</td>\n",
       "      <td>49</td>\n",
       "      <td>25.30</td>\n",
       "      <td>97.20</td>\n",
       "      <td>52</td>\n",
       "      <td>1</td>\n",
       "    </tr>\n",
       "    <tr>\n",
       "      <th>1</th>\n",
       "      <td>2</td>\n",
       "      <td>144</td>\n",
       "      <td>0.01</td>\n",
       "      <td>4.41</td>\n",
       "      <td>28.61</td>\n",
       "      <td>Absent</td>\n",
       "      <td>55</td>\n",
       "      <td>28.87</td>\n",
       "      <td>2.06</td>\n",
       "      <td>63</td>\n",
       "      <td>1</td>\n",
       "    </tr>\n",
       "    <tr>\n",
       "      <th>2</th>\n",
       "      <td>3</td>\n",
       "      <td>118</td>\n",
       "      <td>0.08</td>\n",
       "      <td>3.48</td>\n",
       "      <td>32.28</td>\n",
       "      <td>Present</td>\n",
       "      <td>52</td>\n",
       "      <td>29.14</td>\n",
       "      <td>3.81</td>\n",
       "      <td>46</td>\n",
       "      <td>0</td>\n",
       "    </tr>\n",
       "    <tr>\n",
       "      <th>3</th>\n",
       "      <td>4</td>\n",
       "      <td>170</td>\n",
       "      <td>7.50</td>\n",
       "      <td>6.41</td>\n",
       "      <td>38.03</td>\n",
       "      <td>Present</td>\n",
       "      <td>51</td>\n",
       "      <td>31.99</td>\n",
       "      <td>24.26</td>\n",
       "      <td>58</td>\n",
       "      <td>1</td>\n",
       "    </tr>\n",
       "    <tr>\n",
       "      <th>4</th>\n",
       "      <td>5</td>\n",
       "      <td>134</td>\n",
       "      <td>13.60</td>\n",
       "      <td>3.50</td>\n",
       "      <td>27.78</td>\n",
       "      <td>Present</td>\n",
       "      <td>60</td>\n",
       "      <td>25.99</td>\n",
       "      <td>57.34</td>\n",
       "      <td>49</td>\n",
       "      <td>1</td>\n",
       "    </tr>\n",
       "  </tbody>\n",
       "</table>\n",
       "</div>"
      ],
      "text/plain": [
       "   ind  sbp  tobacco   ldl  adiposity  famhist  typea  obesity  alcohol  age  \\\n",
       "0    1  160    12.00  5.73      23.11  Present     49    25.30    97.20   52   \n",
       "1    2  144     0.01  4.41      28.61   Absent     55    28.87     2.06   63   \n",
       "2    3  118     0.08  3.48      32.28  Present     52    29.14     3.81   46   \n",
       "3    4  170     7.50  6.41      38.03  Present     51    31.99    24.26   58   \n",
       "4    5  134    13.60  3.50      27.78  Present     60    25.99    57.34   49   \n",
       "\n",
       "   chd  \n",
       "0    1  \n",
       "1    1  \n",
       "2    0  \n",
       "3    1  \n",
       "4    1  "
      ]
     },
     "execution_count": 27,
     "metadata": {},
     "output_type": "execute_result"
    }
   ],
   "source": [
    "maladie = pd.read_table(\"maladie.txt\", delimiter=\";\") # lire le fichier maladie.txt\n",
    "maladie.head()"
   ]
  },
  {
   "cell_type": "markdown",
   "metadata": {},
   "source": [
    "Ces données contiennent les informations de 462 patients d'Afrique du Sud. On y trouve des informations telles que :\n",
    "- la tension artérielle ;\n",
    "- le fait de fumer ou pas ;\n",
    "- l'adiposité ;\n",
    "- l'obésité ;\n",
    "- etc.\n",
    "\n",
    "La variable CHD est la variable qui indique si la personne a une maladie cardio-vasculaire (1) ou pas (0).\n",
    "\n",
    "## Visualisez le nuage de points\n",
    "\n",
    "Pour étudier le fait d'être malade en fonction de l'âge, on peut visualiser le nuage de points :"
   ]
  },
  {
   "cell_type": "code",
   "execution_count": 28,
   "metadata": {},
   "outputs": [
    {
     "data": {
      "image/png": "[encoded data removed]",
      "text/plain": [
       "<Figure size 640x480 with 1 Axes>"
      ]
     },
     "metadata": {},
     "output_type": "display_data"
    }
   ],
   "source": [
    "sns.set()\n",
    "\n",
    "ax = sns.scatterplot(x=\"age\", y=\"chd\", data=maladie)"
   ]
  },
  {
   "cell_type": "markdown",
   "metadata": {},
   "source": [
    "Il y a des 0 et des 1, mais il est ici difficile de dire si l'on est plus ou moins malade en fonction de l'âge.\n",
    "\n",
    "On voit également qu'une régression linéaire sur un tel nuage de points n'aurait aucun sens, car elle nous donnerait des valeurs qui ne seraient quasiment jamais sur 0 ni 1.\n",
    "\n",
    "## Calculez les proportions de malades\n",
    "\n",
    "On peut calculer des classes d'âge et les proportions de malades associées."
   ]
  },
  {
   "cell_type": "code",
   "execution_count": 29,
   "metadata": {},
   "outputs": [],
   "source": [
    "#  Créez une nouvelle colonne cl_age qui regroupe les âges en tranches de 10 ans, allant de 15 à 75 ans, en excluant la borne supérieure de chaque tranche.\n",
    "maladie['cl_age'] = pd.cut(maladie['age'], bins=np.arange(15, 76, 10))"
   ]
  },
  {
   "cell_type": "code",
   "execution_count": 30,
   "metadata": {},
   "outputs": [
    {
     "data": {
      "text/plain": [
       "0      (45, 55]\n",
       "1      (55, 65]\n",
       "2      (45, 55]\n",
       "3      (55, 65]\n",
       "4      (45, 55]\n",
       "         ...   \n",
       "457    (55, 65]\n",
       "458    (45, 55]\n",
       "459    (45, 55]\n",
       "460    (35, 45]\n",
       "461    (45, 55]\n",
       "Name: cl_age, Length: 462, dtype: category\n",
       "Categories (6, interval[int64, right]): [(15, 25] < (25, 35] < (35, 45] < (45, 55] < (55, 65] < (65, 75]]"
      ]
     },
     "execution_count": 30,
     "metadata": {},
     "output_type": "execute_result"
    }
   ],
   "source": [
    "maladie['cl_age']"
   ]
  },
  {
   "cell_type": "code",
   "execution_count": 31,
   "metadata": {},
   "outputs": [
    {
     "data": {
      "text/html": [
       "<div>\n",
       "<style scoped>\n",
       "    .dataframe tbody tr th:only-of-type {\n",
       "        vertical-align: middle;\n",
       "    }\n",
       "\n",
       "    .dataframe tbody tr th {\n",
       "        vertical-align: top;\n",
       "    }\n",
       "\n",
       "    .dataframe thead th {\n",
       "        text-align: right;\n",
       "    }\n",
       "</style>\n",
       "<table border=\"1\" class=\"dataframe\">\n",
       "  <thead>\n",
       "    <tr style=\"text-align: right;\">\n",
       "      <th></th>\n",
       "      <th>age</th>\n",
       "      <th>prop_chd</th>\n",
       "    </tr>\n",
       "  </thead>\n",
       "  <tbody>\n",
       "    <tr>\n",
       "      <th>0</th>\n",
       "      <td>15</td>\n",
       "      <td>0.044118</td>\n",
       "    </tr>\n",
       "    <tr>\n",
       "      <th>1</th>\n",
       "      <td>25</td>\n",
       "      <td>0.044118</td>\n",
       "    </tr>\n",
       "    <tr>\n",
       "      <th>2</th>\n",
       "      <td>25</td>\n",
       "      <td>0.205479</td>\n",
       "    </tr>\n",
       "    <tr>\n",
       "      <th>3</th>\n",
       "      <td>35</td>\n",
       "      <td>0.205479</td>\n",
       "    </tr>\n",
       "    <tr>\n",
       "      <th>4</th>\n",
       "      <td>35</td>\n",
       "      <td>0.329897</td>\n",
       "    </tr>\n",
       "    <tr>\n",
       "      <th>5</th>\n",
       "      <td>45</td>\n",
       "      <td>0.329897</td>\n",
       "    </tr>\n",
       "    <tr>\n",
       "      <th>6</th>\n",
       "      <td>45</td>\n",
       "      <td>0.457944</td>\n",
       "    </tr>\n",
       "    <tr>\n",
       "      <th>7</th>\n",
       "      <td>55</td>\n",
       "      <td>0.457944</td>\n",
       "    </tr>\n",
       "    <tr>\n",
       "      <th>8</th>\n",
       "      <td>55</td>\n",
       "      <td>0.535088</td>\n",
       "    </tr>\n",
       "    <tr>\n",
       "      <th>9</th>\n",
       "      <td>65</td>\n",
       "      <td>0.535088</td>\n",
       "    </tr>\n",
       "  </tbody>\n",
       "</table>\n",
       "</div>"
      ],
      "text/plain": [
       "   age  prop_chd\n",
       "0   15  0.044118\n",
       "1   25  0.044118\n",
       "2   25  0.205479\n",
       "3   35  0.205479\n",
       "4   35  0.329897\n",
       "5   45  0.329897\n",
       "6   45  0.457944\n",
       "7   55  0.457944\n",
       "8   55  0.535088\n",
       "9   65  0.535088"
      ]
     },
     "execution_count": 31,
     "metadata": {},
     "output_type": "execute_result"
    }
   ],
   "source": [
    "#  Créez une nouvelle colonne cl_age qui regroupe les âges en tranches de 10 ans, allant de 15 à 75 ans, en excluant la borne supérieure de chaque tranche.\n",
    "maladie['cl_age'] = pd.cut(maladie['age'], bins=np.arange(15, 76, 10))\n",
    "\n",
    "# Calculez les proportions de personnes ayant une maladie cardiaque (chd) dans chaque groupe d'âge (cl_age). Utilisez la fonction pd.crosstab pour créer un tableau de fréquences normalisées par ligne.\n",
    "prop = pd.crosstab(maladie['cl_age'], maladie['chd'], normalize='index')\n",
    "\n",
    "#Créez un nouveau DataFrame prop_chd contenant une colonne 'age' et une colonne 'prop_chd'. La colonne 'age' doit répéter les bornes de chaque intervalle d'âge (par exemple, 15, 25, 25, 35, etc.). La colonne 'prop_chd' doit répéter les proportions de personnes ayant une maladie cardiaque pour chaque groupe d'âge.\n",
    "prop_chd = pd.DataFrame(data = {'age': np.concatenate((np.array([15]), \n",
    "                                                       np.repeat(np.arange(25,65,10), repeats=2), \n",
    "                                                       np.array([65])), axis=0),\n",
    "                                'prop_chd': np.repeat(prop.loc[:,1].values, repeats=2)})\n",
    "\n",
    "prop_chd\n"
   ]
  },
  {
   "cell_type": "markdown",
   "metadata": {},
   "source": [
    "On peut représenter ces proportions :"
   ]
  },
  {
   "cell_type": "code",
   "execution_count": 32,
   "metadata": {},
   "outputs": [
    {
     "data": {
      "image/png": "[encoded data removed]",
      "text/plain": [
       "<Figure size 500x700 with 1 Axes>"
      ]
     },
     "metadata": {},
     "output_type": "display_data"
    }
   ],
   "source": [
    "plt.figure(figsize=(5,7))\n",
    "ax = sns.scatterplot(x=\"age\", y=\"chd\", data=maladie)\n",
    "plt.plot(prop_chd['age'], prop_chd['prop_chd'], color='black', label='Proportion de malades')\n",
    "ax.legend(loc='center left', bbox_to_anchor=(1, 0.5))\n",
    "plt.show()"
   ]
  },
  {
   "cell_type": "code",
   "execution_count": 33,
   "metadata": {},
   "outputs": [
    {
     "name": "stdout",
     "output_type": "stream",
     "text": [
      "Coefficients: [[0.06410803]]\n",
      "Intercept: [-3.52171021]\n",
      "Accuracy: 0.6796536796536796\n",
      "              precision    recall  f1-score   support\n",
      "\n",
      "           0       0.73      0.80      0.77       302\n",
      "           1       0.55      0.44      0.49       160\n",
      "\n",
      "    accuracy                           0.68       462\n",
      "   macro avg       0.64      0.62      0.63       462\n",
      "weighted avg       0.67      0.68      0.67       462\n",
      "\n"
     ]
    }
   ],
   "source": [
    "\n",
    "# 1. Sélection des variables explicatives et cible\n",
    "from sklearn.metrics import accuracy_score\n",
    "from sklearn.metrics import classification_report\n",
    "X = maladie[['age']] # Variable explicative (l'âge)\n",
    "y =  maladie['chd']  # Variable cible (la maladie cardiaque)\n",
    "\n",
    "# 2. Instanciation du modèle de régression logistique\n",
    "reg_log1 = LogisticRegression(penalty=None)\n",
    "\n",
    "# 3. Entraînement du modèle sur les données\n",
    "reg_log1.fit(X, y)\n",
    "\n",
    "# 4. Extraction des coefficients et de l'intercept\n",
    "print(\"Coefficients:\", reg_log1.coef_)\n",
    "print(\"Intercept:\", reg_log1.intercept_)\n",
    "\n",
    "# 5. Prédiction des probabilités de X\n",
    "y_pred_proba = reg_log1.predict_proba(X)[:, 1]\n",
    "\n",
    "# 6. Prédiction des classes\n",
    "y_pred_classes = reg_log1.predict(X)\n",
    "\n",
    "# 7. Calcul et affichage de l'exactitude\n",
    "accuracy = accuracy_score(y, y_pred_classes)\n",
    "print(\"Accuracy:\", accuracy)\n",
    "\n",
    "# 8. Rapport de classification complet\n",
    "print(classification_report(y, y_pred_classes))"
   ]
  },
  {
   "cell_type": "markdown",
   "metadata": {},
   "source": [
    "On obtient les paramètres estimés : $\\hat{\\beta}_{1}=−3.5$ et $\\hat{\\beta}_{2}=0.064$. Enregistrons-les :"
   ]
  },
  {
   "cell_type": "code",
   "execution_count": 34,
   "metadata": {},
   "outputs": [
    {
     "data": {
      "text/plain": [
       "(-3.5, 0.064)"
      ]
     },
     "execution_count": 34,
     "metadata": {},
     "output_type": "execute_result"
    }
   ],
   "source": [
    "beta1 = -3.5\n",
    "beta2 = 0.064\n",
    "beta1, beta2"
   ]
  },
  {
   "cell_type": "markdown",
   "metadata": {},
   "source": [
    "Dans le but de tracer la courbe logistique entre les abscisses $x=15$ et $x=65$, on définit une séquence de 15 à 65 par pas de 500, puis on la place dans la variable x. On calcule ensuite les ordonnées de la courbe, grâce à l'expression de la courbe en S :\n",
    "<br><br>\n",
    "$f(x) = \\frac{1}{1+e^{-\\beta_{1}-\\beta_{2}x}}$ \n",
    "\n",
    "\n",
    "Nous plaçons ces ordonnées dans la variable y. Enfin, avec x et y, nous créons un dataframe :"
   ]
  },
  {
   "cell_type": "code",
   "execution_count": 35,
   "metadata": {},
   "outputs": [],
   "source": [
    "x = np.linspace(start=15, stop=65, num=500)\n",
    "y = 1/(1+np.exp(-beta1-beta2*x))\n",
    "reg_log = pd.DataFrame(data={'age': x, 'prop_chd': y})"
   ]
  },
  {
   "cell_type": "markdown",
   "metadata": {},
   "source": [
    "Si l'on souhaite superposer la fonction de lien obtenue par régression logistique sur le graphique précédent, nous obtenons ceci :"
   ]
  },
  {
   "cell_type": "code",
   "execution_count": 36,
   "metadata": {},
   "outputs": [
    {
     "data": {
      "image/png": "[encoded data removed]",
      "text/plain": [
       "<Figure size 500x700 with 1 Axes>"
      ]
     },
     "metadata": {},
     "output_type": "display_data"
    }
   ],
   "source": [
    "plt.figure(figsize=(5,7))\n",
    "ax = sns.scatterplot(x=\"age\", y=\"chd\", data=maladie)\n",
    "plt.plot(prop_chd['age'], prop_chd['prop_chd'], color='black', label='Proportion de malades')\n",
    "plt.plot(reg_log['age'], reg_log['prop_chd'], color='red', label='Courbe logistique')\n",
    "ax.legend(loc='center left', bbox_to_anchor=(1, 0.5))\n",
    "plt.show()"
   ]
  },
  {
   "cell_type": "markdown",
   "metadata": {},
   "source": [
    "La courbe rouge est celle qui est obtenue par régression logistique.\n",
    "\n",
    "Si l'on avait voulu considérer l'ensemble des variables médicales (et non pas seulement l'âge comme jusqu'à présent), nous aurions écrit :"
   ]
  },
  {
   "cell_type": "code",
   "execution_count": 37,
   "metadata": {},
   "outputs": [
    {
     "name": "stdout",
     "output_type": "stream",
     "text": [
      "Coefficients: [[-0.00707628  0.08273137  0.1688152   0.06285652  0.01138776 -0.17001849\n",
      "   0.00049861  0.03041751  0.45215815]]\n",
      "Intercept: [-0.1370908]\n",
      "Accuracy: 0.7316017316017316\n",
      "              precision    recall  f1-score   support\n",
      "\n",
      "           0       0.76      0.86      0.81       302\n",
      "           1       0.65      0.48      0.55       160\n",
      "\n",
      "    accuracy                           0.73       462\n",
      "   macro avg       0.71      0.67      0.68       462\n",
      "weighted avg       0.72      0.73      0.72       462\n",
      "\n"
     ]
    },
    {
     "name": "stderr",
     "output_type": "stream",
     "text": [
      "/home/florian/anaconda3/envs/jpn_ubuntu/lib/python3.8/site-packages/sklearn/linear_model/_sag.py:350: ConvergenceWarning: The max_iter was reached which means the coef_ did not converge\n",
      "  warnings.warn(\n"
     ]
    }
   ],
   "source": [
    "\n",
    "# 1. Sélection des variables explicatives et cible (ensemble des variables médicales)\n",
    "from sklearn.metrics import accuracy_score\n",
    "from sklearn.metrics import classification_report\n",
    "X2 = maladie[['sbp','tobacco','ldl','adiposity','famhist','typea','obesity','alcohol','age']]\n",
    "#Transformer la variable famhist en dummies \n",
    "X2 = pd.get_dummies(X2, columns=['famhist'], drop_first=True) \n",
    "\n",
    "y = maladie['chd'].values    # Variable cible (la maladie cardiaque)\n",
    "\n",
    "# 2. Instanciation du modèle de régression logistique\n",
    "reg_log2 = LogisticRegression(penalty=None, solver='saga', max_iter=1000)\n",
    "\n",
    "# 3. Entraînement du modèle sur les données\n",
    "\n",
    "reg_log2.fit(X2, y)\n",
    "\n",
    "# 4. Extraction des coefficients et de l'intercept\n",
    "print(\"Coefficients:\", reg_log2.coef_)\n",
    "print(\"Intercept:\", reg_log2.intercept_)\n",
    "\n",
    "# 5. Prédiction des probabilités\n",
    "y_pred_proba = reg_log2.predict_proba(X2)\n",
    "\n",
    "# 6. Prédiction des classes\n",
    "y_pred_classes = reg_log2.predict(X2)\n",
    "\n",
    "# 7. Calcul et affichage de l'exactitude\n",
    "accuracy = accuracy_score(y, y_pred_classes)\n",
    "print(\"Accuracy:\", accuracy)\n",
    "\n",
    "# 8. Rapport de classification complet\n",
    "print(classification_report(y, y_pred_classes))"
   ]
  },
  {
   "cell_type": "markdown",
   "metadata": {},
   "source": [
    "Et voilà, vous avez appliqué une régression logistique permettant de traiter des variables qualitatives binaires (avec deux modalités). Sachez qu'il existe d'autres méthodes de classification permettant de traiter des variables quantitatives avec davantage de modalités !"
   ]
  },
  {
   "cell_type": "markdown",
   "metadata": {},
   "source": [
    "Vous disposez maintenant d’un modèle entraîné sur l’ensemble des données. Cependant, il est essentiel de garder une partie des données intacte pour l’évaluation. Divisez le dataset en deux ensembles : 80% pour l’entraînement et 20% pour le test.\n",
    "\n",
    "Effectuez cette séparation et entraînez à nouveau le modèle sur les 80% des données d’entraînement. Testez-le ensuite sur les 20% des données de test. Comparez les performances du modèle sur les données de test avec les performances initiales. Qu'observez-vous ?"
   ]
  },
  {
   "cell_type": "code",
   "execution_count": 38,
   "metadata": {},
   "outputs": [
    {
     "name": "stdout",
     "output_type": "stream",
     "text": [
      "Accuracy: 0.6344086021505376\n",
      "              precision    recall  f1-score   support\n",
      "\n",
      "           0       0.72      0.82      0.77       302\n",
      "           1       0.54      0.38      0.45       160\n",
      "\n",
      "    accuracy                           0.67       462\n",
      "   macro avg       0.63      0.60      0.61       462\n",
      "weighted avg       0.65      0.67      0.66       462\n",
      "\n"
     ]
    }
   ],
   "source": [
    "### Vous disposez maintenant d’un modèle entraîné sur l’ensemble des données. Cependant, il est essentiel de garder une partie des données intacte pour l’évaluation. Divisez le dataset en deux ensembles : 80% pour l’entraînement et 20% pour le test.\n",
    "### Effectuez cette séparation et entraînez à nouveau le modèle sur les 80% des données d’entraînement. Testez-le ensuite sur les 20% des données de test. Comparez les performances du modèle sur les données de test avec les performances initiales. Qu'observez-vous ?\n",
    "\n",
    "X3 = X\n",
    "y = maladie['chd']\n",
    "\n",
    "# Split the dataset into training and test sets\n",
    "X_train, X_test, y_train, y_test = train_test_split(X3, y, test_size=0.2, random_state=42)\n",
    "\n",
    "# Create a logistic regression model\n",
    "model = LogisticRegression()\n",
    "\n",
    "# Train the model on the training set\n",
    "model.fit(X_train, y_train)\n",
    "\n",
    "# Make predictions on the test set\n",
    "y_pred = model.predict(X_test)\n",
    "\n",
    "# Calculate the accuracy score\n",
    "accuracy = accuracy_score(y_test, y_pred)\n",
    "print(\"Accuracy:\", accuracy)\n",
    "\n",
    "# 6. Prédiction des classes\n",
    "y_pred_classes = model.predict(X3)\n",
    "\n",
    "# 8. Rapport de classification complet\n",
    "print(classification_report(y, y_pred_classes))\n"
   ]
  },
  {
   "cell_type": "markdown",
   "metadata": {},
   "source": [
    "### Entraînement avec un Arbre de Décision : \n",
    "\n",
    "Répétez les mêmes étapes, mais cette fois, en utilisant un *arbre de décision* du module *sklearn* pour l'entraînement. \n",
    "\n",
    "Entraînez l'arbre de décision sur 80% des données et évaluez-le sur les 20% restants. Comparez les performances obtenues avec celles du modèle initial. Que constatez-vous ?"
   ]
  },
  {
   "cell_type": "code",
   "execution_count": 39,
   "metadata": {},
   "outputs": [
    {
     "name": "stdout",
     "output_type": "stream",
     "text": [
      "Accuracy: 0.5913978494623656\n",
      "              precision    recall  f1-score   support\n",
      "\n",
      "           0       0.94      0.94      0.94       302\n",
      "           1       0.88      0.88      0.88       160\n",
      "\n",
      "    accuracy                           0.92       462\n",
      "   macro avg       0.91      0.91      0.91       462\n",
      "weighted avg       0.92      0.92      0.92       462\n",
      "\n"
     ]
    }
   ],
   "source": [
    "###Répétez les mêmes étapes, mais cette fois, en utilisant un *arbre de décision* du module *sklearn* pour l'entraînement. \n",
    "###Entraînez l'arbre de décision sur 80% des données et évaluez-le sur les 20% restants. Comparez les performances obtenues avec celles du modèle initial. Que constatez-vous ?\n",
    "from sklearn.tree import DecisionTreeClassifier\n",
    "X4 = X2\n",
    "y = maladie['chd']\n",
    "\n",
    "X_train4, X_test4, y_train4, y_test4 = train_test_split(X4, y, test_size=0.2, random_state=42)\n",
    "\n",
    "model = DecisionTreeClassifier()\n",
    "model.fit(X_train4, y_train4)\n",
    "\n",
    "y_pred = model.predict(X_test4)\n",
    "\n",
    "accuracy = accuracy_score(y_test4, y_pred)\n",
    "print(\"Accuracy:\", accuracy)\n",
    "\n",
    "# 6. Prédiction des classes\n",
    "y_pred_classes = model.predict(X4)\n",
    "# 8. Rapport de classification complet\n",
    "print(classification_report(y, y_pred_classes))"
   ]
  },
  {
   "cell_type": "markdown",
   "metadata": {},
   "source": [
    "### Entraînement avec un Arbre de Décision : \n",
    "\n",
    "Répétez les mêmes étapes, mais cette fois, en utilisant une *foret de décision* du module *sklearn* pour l'entraînement. \n",
    "\n",
    "Entraînez la foret de décision sur 80% des données et évaluez-le sur les 20% restants. Comparez les performances obtenues avec celles du modèle initial. Que constatez-vous ?"
   ]
  },
  {
   "cell_type": "code",
   "execution_count": 40,
   "metadata": {},
   "outputs": [
    {
     "name": "stdout",
     "output_type": "stream",
     "text": [
      "Accuracy: 0.7419354838709677\n",
      "              precision    recall  f1-score   support\n",
      "\n",
      "           0       0.95      0.97      0.96       302\n",
      "           1       0.95      0.90      0.92       160\n",
      "\n",
      "    accuracy                           0.95       462\n",
      "   macro avg       0.95      0.94      0.94       462\n",
      "weighted avg       0.95      0.95      0.95       462\n",
      "\n"
     ]
    }
   ],
   "source": [
    "#Test avec une random forest\n",
    "\n",
    "from sklearn.ensemble import RandomForestClassifier\n",
    "X5 = X2\n",
    "y = maladie['chd']\n",
    "\n",
    "X_train5, X_test5, y_train5, y_test5 = train_test_split(X5, y, test_size=0.2, random_state=42)\n",
    "\n",
    "model = RandomForestClassifier()\n",
    "model.fit(X_train5, y_train5)\n",
    "\n",
    "y_pred = model.predict(X_test5)\n",
    "\n",
    "accuracy = accuracy_score(y_test5, y_pred)\n",
    "print(\"Accuracy:\", accuracy)\n",
    "\n",
    "# 6. Prédiction des classes\n",
    "y_pred_classes = model.predict(X5)\n",
    "# 8. Rapport de classification complet\n",
    "print(classification_report(y, y_pred_classes))"
   ]
  },
  {
   "cell_type": "code",
   "execution_count": 41,
   "metadata": {},
   "outputs": [
    {
     "name": "stdout",
     "output_type": "stream",
     "text": [
      "Index(['sbp', 'tobacco', 'ldl', 'adiposity', 'typea', 'obesity', 'alcohol',\n",
      "       'age', 'famhist_Present'],\n",
      "      dtype='object') [0.11319677 0.12717745 0.12769031 0.11505582 0.11271098 0.10975764\n",
      " 0.08412503 0.17413291 0.03615308]\n"
     ]
    }
   ],
   "source": [
    "from sklearn.feature_selection import SelectFromModel\n",
    "X6 = X2\n",
    "y = maladie['chd']\n",
    "\n",
    "X_train6, X_test6, y_train6, y_test6 = train_test_split(X6, y, test_size=0.2, random_state=42)\n",
    "\n",
    "model_initial = RandomForestClassifier()\n",
    "model_initial.fit(X_train6, y_train6)\n",
    "print(X_train6.columns,model_initial.feature_importances_)"
   ]
  },
  {
   "cell_type": "code",
   "execution_count": 42,
   "metadata": {},
   "outputs": [
    {
     "data": {
      "text/html": [
       "<div>\n",
       "<style scoped>\n",
       "    .dataframe tbody tr th:only-of-type {\n",
       "        vertical-align: middle;\n",
       "    }\n",
       "\n",
       "    .dataframe tbody tr th {\n",
       "        vertical-align: top;\n",
       "    }\n",
       "\n",
       "    .dataframe thead th {\n",
       "        text-align: right;\n",
       "    }\n",
       "</style>\n",
       "<table border=\"1\" class=\"dataframe\">\n",
       "  <thead>\n",
       "    <tr style=\"text-align: right;\">\n",
       "      <th></th>\n",
       "      <th>sbp</th>\n",
       "      <th>tobacco</th>\n",
       "      <th>ldl</th>\n",
       "      <th>adiposity</th>\n",
       "      <th>typea</th>\n",
       "      <th>obesity</th>\n",
       "      <th>alcohol</th>\n",
       "      <th>age</th>\n",
       "      <th>famhist_Present</th>\n",
       "    </tr>\n",
       "  </thead>\n",
       "  <tbody>\n",
       "    <tr>\n",
       "      <th>0</th>\n",
       "      <td>160</td>\n",
       "      <td>12.00</td>\n",
       "      <td>5.73</td>\n",
       "      <td>23.11</td>\n",
       "      <td>49</td>\n",
       "      <td>25.30</td>\n",
       "      <td>97.20</td>\n",
       "      <td>52</td>\n",
       "      <td>True</td>\n",
       "    </tr>\n",
       "    <tr>\n",
       "      <th>1</th>\n",
       "      <td>144</td>\n",
       "      <td>0.01</td>\n",
       "      <td>4.41</td>\n",
       "      <td>28.61</td>\n",
       "      <td>55</td>\n",
       "      <td>28.87</td>\n",
       "      <td>2.06</td>\n",
       "      <td>63</td>\n",
       "      <td>False</td>\n",
       "    </tr>\n",
       "    <tr>\n",
       "      <th>2</th>\n",
       "      <td>118</td>\n",
       "      <td>0.08</td>\n",
       "      <td>3.48</td>\n",
       "      <td>32.28</td>\n",
       "      <td>52</td>\n",
       "      <td>29.14</td>\n",
       "      <td>3.81</td>\n",
       "      <td>46</td>\n",
       "      <td>True</td>\n",
       "    </tr>\n",
       "    <tr>\n",
       "      <th>3</th>\n",
       "      <td>170</td>\n",
       "      <td>7.50</td>\n",
       "      <td>6.41</td>\n",
       "      <td>38.03</td>\n",
       "      <td>51</td>\n",
       "      <td>31.99</td>\n",
       "      <td>24.26</td>\n",
       "      <td>58</td>\n",
       "      <td>True</td>\n",
       "    </tr>\n",
       "    <tr>\n",
       "      <th>4</th>\n",
       "      <td>134</td>\n",
       "      <td>13.60</td>\n",
       "      <td>3.50</td>\n",
       "      <td>27.78</td>\n",
       "      <td>60</td>\n",
       "      <td>25.99</td>\n",
       "      <td>57.34</td>\n",
       "      <td>49</td>\n",
       "      <td>True</td>\n",
       "    </tr>\n",
       "    <tr>\n",
       "      <th>...</th>\n",
       "      <td>...</td>\n",
       "      <td>...</td>\n",
       "      <td>...</td>\n",
       "      <td>...</td>\n",
       "      <td>...</td>\n",
       "      <td>...</td>\n",
       "      <td>...</td>\n",
       "      <td>...</td>\n",
       "      <td>...</td>\n",
       "    </tr>\n",
       "    <tr>\n",
       "      <th>457</th>\n",
       "      <td>214</td>\n",
       "      <td>0.40</td>\n",
       "      <td>5.98</td>\n",
       "      <td>31.72</td>\n",
       "      <td>64</td>\n",
       "      <td>28.45</td>\n",
       "      <td>0.00</td>\n",
       "      <td>58</td>\n",
       "      <td>False</td>\n",
       "    </tr>\n",
       "    <tr>\n",
       "      <th>458</th>\n",
       "      <td>182</td>\n",
       "      <td>4.20</td>\n",
       "      <td>4.41</td>\n",
       "      <td>32.10</td>\n",
       "      <td>52</td>\n",
       "      <td>28.61</td>\n",
       "      <td>18.72</td>\n",
       "      <td>52</td>\n",
       "      <td>False</td>\n",
       "    </tr>\n",
       "    <tr>\n",
       "      <th>459</th>\n",
       "      <td>108</td>\n",
       "      <td>3.00</td>\n",
       "      <td>1.59</td>\n",
       "      <td>15.23</td>\n",
       "      <td>40</td>\n",
       "      <td>20.09</td>\n",
       "      <td>26.64</td>\n",
       "      <td>55</td>\n",
       "      <td>False</td>\n",
       "    </tr>\n",
       "    <tr>\n",
       "      <th>460</th>\n",
       "      <td>118</td>\n",
       "      <td>5.40</td>\n",
       "      <td>11.61</td>\n",
       "      <td>30.79</td>\n",
       "      <td>64</td>\n",
       "      <td>27.35</td>\n",
       "      <td>23.97</td>\n",
       "      <td>40</td>\n",
       "      <td>False</td>\n",
       "    </tr>\n",
       "    <tr>\n",
       "      <th>461</th>\n",
       "      <td>132</td>\n",
       "      <td>0.00</td>\n",
       "      <td>4.82</td>\n",
       "      <td>33.41</td>\n",
       "      <td>62</td>\n",
       "      <td>14.70</td>\n",
       "      <td>0.00</td>\n",
       "      <td>46</td>\n",
       "      <td>True</td>\n",
       "    </tr>\n",
       "  </tbody>\n",
       "</table>\n",
       "<p>462 rows × 9 columns</p>\n",
       "</div>"
      ],
      "text/plain": [
       "     sbp  tobacco    ldl  adiposity  typea  obesity  alcohol  age  \\\n",
       "0    160    12.00   5.73      23.11     49    25.30    97.20   52   \n",
       "1    144     0.01   4.41      28.61     55    28.87     2.06   63   \n",
       "2    118     0.08   3.48      32.28     52    29.14     3.81   46   \n",
       "3    170     7.50   6.41      38.03     51    31.99    24.26   58   \n",
       "4    134    13.60   3.50      27.78     60    25.99    57.34   49   \n",
       "..   ...      ...    ...        ...    ...      ...      ...  ...   \n",
       "457  214     0.40   5.98      31.72     64    28.45     0.00   58   \n",
       "458  182     4.20   4.41      32.10     52    28.61    18.72   52   \n",
       "459  108     3.00   1.59      15.23     40    20.09    26.64   55   \n",
       "460  118     5.40  11.61      30.79     64    27.35    23.97   40   \n",
       "461  132     0.00   4.82      33.41     62    14.70     0.00   46   \n",
       "\n",
       "     famhist_Present  \n",
       "0               True  \n",
       "1              False  \n",
       "2               True  \n",
       "3               True  \n",
       "4               True  \n",
       "..               ...  \n",
       "457            False  \n",
       "458            False  \n",
       "459            False  \n",
       "460            False  \n",
       "461             True  \n",
       "\n",
       "[462 rows x 9 columns]"
      ]
     },
     "execution_count": 42,
     "metadata": {},
     "output_type": "execute_result"
    }
   ],
   "source": [
    "X6"
   ]
  },
  {
   "cell_type": "code",
   "execution_count": 49,
   "metadata": {},
   "outputs": [
    {
     "name": "stdout",
     "output_type": "stream",
     "text": [
      "Accuracy: 0.7419354838709677\n"
     ]
    },
    {
     "name": "stderr",
     "output_type": "stream",
     "text": [
      "/home/florian/anaconda3/envs/jpn_ubuntu/lib/python3.8/site-packages/sklearn/base.py:458: UserWarning: X has feature names, but SelectFromModel was fitted without feature names\n",
      "  warnings.warn(\n",
      "/home/florian/anaconda3/envs/jpn_ubuntu/lib/python3.8/site-packages/sklearn/base.py:458: UserWarning: X has feature names, but SelectFromModel was fitted without feature names\n",
      "  warnings.warn(\n"
     ]
    },
    {
     "ename": "ValueError",
     "evalue": "Found input variables with inconsistent numbers of samples: [462, 93]",
     "output_type": "error",
     "traceback": [
      "\u001b[0;31m---------------------------------------------------------------------------\u001b[0m",
      "\u001b[0;31mValueError\u001b[0m                                Traceback (most recent call last)",
      "Cell \u001b[0;32mIn[49], line 16\u001b[0m\n\u001b[1;32m     14\u001b[0m y_pred_classes \u001b[38;5;241m=\u001b[39m model_final\u001b[38;5;241m.\u001b[39mpredict(X_test6_transformed)\n\u001b[1;32m     15\u001b[0m \u001b[38;5;66;03m# 8. Rapport de classification complet\u001b[39;00m\n\u001b[0;32m---> 16\u001b[0m \u001b[38;5;28mprint\u001b[39m(\u001b[43mclassification_report\u001b[49m\u001b[43m(\u001b[49m\u001b[43my\u001b[49m\u001b[43m,\u001b[49m\u001b[43m \u001b[49m\u001b[43my_pred_classes\u001b[49m\u001b[43m)\u001b[49m)\n",
      "File \u001b[0;32m~/anaconda3/envs/jpn_ubuntu/lib/python3.8/site-packages/sklearn/utils/_param_validation.py:214\u001b[0m, in \u001b[0;36mvalidate_params.<locals>.decorator.<locals>.wrapper\u001b[0;34m(*args, **kwargs)\u001b[0m\n\u001b[1;32m    208\u001b[0m \u001b[38;5;28;01mtry\u001b[39;00m:\n\u001b[1;32m    209\u001b[0m     \u001b[38;5;28;01mwith\u001b[39;00m config_context(\n\u001b[1;32m    210\u001b[0m         skip_parameter_validation\u001b[38;5;241m=\u001b[39m(\n\u001b[1;32m    211\u001b[0m             prefer_skip_nested_validation \u001b[38;5;129;01mor\u001b[39;00m global_skip_validation\n\u001b[1;32m    212\u001b[0m         )\n\u001b[1;32m    213\u001b[0m     ):\n\u001b[0;32m--> 214\u001b[0m         \u001b[38;5;28;01mreturn\u001b[39;00m \u001b[43mfunc\u001b[49m\u001b[43m(\u001b[49m\u001b[38;5;241;43m*\u001b[39;49m\u001b[43margs\u001b[49m\u001b[43m,\u001b[49m\u001b[43m \u001b[49m\u001b[38;5;241;43m*\u001b[39;49m\u001b[38;5;241;43m*\u001b[39;49m\u001b[43mkwargs\u001b[49m\u001b[43m)\u001b[49m\n\u001b[1;32m    215\u001b[0m \u001b[38;5;28;01mexcept\u001b[39;00m InvalidParameterError \u001b[38;5;28;01mas\u001b[39;00m e:\n\u001b[1;32m    216\u001b[0m     \u001b[38;5;66;03m# When the function is just a wrapper around an estimator, we allow\u001b[39;00m\n\u001b[1;32m    217\u001b[0m     \u001b[38;5;66;03m# the function to delegate validation to the estimator, but we replace\u001b[39;00m\n\u001b[1;32m    218\u001b[0m     \u001b[38;5;66;03m# the name of the estimator by the name of the function in the error\u001b[39;00m\n\u001b[1;32m    219\u001b[0m     \u001b[38;5;66;03m# message to avoid confusion.\u001b[39;00m\n\u001b[1;32m    220\u001b[0m     msg \u001b[38;5;241m=\u001b[39m re\u001b[38;5;241m.\u001b[39msub(\n\u001b[1;32m    221\u001b[0m         \u001b[38;5;124mr\u001b[39m\u001b[38;5;124m\"\u001b[39m\u001b[38;5;124mparameter of \u001b[39m\u001b[38;5;124m\\\u001b[39m\u001b[38;5;124mw+ must be\u001b[39m\u001b[38;5;124m\"\u001b[39m,\n\u001b[1;32m    222\u001b[0m         \u001b[38;5;124mf\u001b[39m\u001b[38;5;124m\"\u001b[39m\u001b[38;5;124mparameter of \u001b[39m\u001b[38;5;132;01m{\u001b[39;00mfunc\u001b[38;5;241m.\u001b[39m\u001b[38;5;18m__qualname__\u001b[39m\u001b[38;5;132;01m}\u001b[39;00m\u001b[38;5;124m must be\u001b[39m\u001b[38;5;124m\"\u001b[39m,\n\u001b[1;32m    223\u001b[0m         \u001b[38;5;28mstr\u001b[39m(e),\n\u001b[1;32m    224\u001b[0m     )\n",
      "File \u001b[0;32m~/anaconda3/envs/jpn_ubuntu/lib/python3.8/site-packages/sklearn/metrics/_classification.py:2545\u001b[0m, in \u001b[0;36mclassification_report\u001b[0;34m(y_true, y_pred, labels, target_names, sample_weight, digits, output_dict, zero_division)\u001b[0m\n\u001b[1;32m   2410\u001b[0m \u001b[38;5;129m@validate_params\u001b[39m(\n\u001b[1;32m   2411\u001b[0m     {\n\u001b[1;32m   2412\u001b[0m         \u001b[38;5;124m\"\u001b[39m\u001b[38;5;124my_true\u001b[39m\u001b[38;5;124m\"\u001b[39m: [\u001b[38;5;124m\"\u001b[39m\u001b[38;5;124marray-like\u001b[39m\u001b[38;5;124m\"\u001b[39m, \u001b[38;5;124m\"\u001b[39m\u001b[38;5;124msparse matrix\u001b[39m\u001b[38;5;124m\"\u001b[39m],\n\u001b[0;32m   (...)\u001b[0m\n\u001b[1;32m   2436\u001b[0m     zero_division\u001b[38;5;241m=\u001b[39m\u001b[38;5;124m\"\u001b[39m\u001b[38;5;124mwarn\u001b[39m\u001b[38;5;124m\"\u001b[39m,\n\u001b[1;32m   2437\u001b[0m ):\n\u001b[1;32m   2438\u001b[0m \u001b[38;5;250m    \u001b[39m\u001b[38;5;124;03m\"\"\"Build a text report showing the main classification metrics.\u001b[39;00m\n\u001b[1;32m   2439\u001b[0m \n\u001b[1;32m   2440\u001b[0m \u001b[38;5;124;03m    Read more in the :ref:`User Guide <classification_report>`.\u001b[39;00m\n\u001b[0;32m   (...)\u001b[0m\n\u001b[1;32m   2542\u001b[0m \u001b[38;5;124;03m    <BLANKLINE>\u001b[39;00m\n\u001b[1;32m   2543\u001b[0m \u001b[38;5;124;03m    \"\"\"\u001b[39;00m\n\u001b[0;32m-> 2545\u001b[0m     y_type, y_true, y_pred \u001b[38;5;241m=\u001b[39m \u001b[43m_check_targets\u001b[49m\u001b[43m(\u001b[49m\u001b[43my_true\u001b[49m\u001b[43m,\u001b[49m\u001b[43m \u001b[49m\u001b[43my_pred\u001b[49m\u001b[43m)\u001b[49m\n\u001b[1;32m   2547\u001b[0m     \u001b[38;5;28;01mif\u001b[39;00m labels \u001b[38;5;129;01mis\u001b[39;00m \u001b[38;5;28;01mNone\u001b[39;00m:\n\u001b[1;32m   2548\u001b[0m         labels \u001b[38;5;241m=\u001b[39m unique_labels(y_true, y_pred)\n",
      "File \u001b[0;32m~/anaconda3/envs/jpn_ubuntu/lib/python3.8/site-packages/sklearn/metrics/_classification.py:84\u001b[0m, in \u001b[0;36m_check_targets\u001b[0;34m(y_true, y_pred)\u001b[0m\n\u001b[1;32m     57\u001b[0m \u001b[38;5;28;01mdef\u001b[39;00m \u001b[38;5;21m_check_targets\u001b[39m(y_true, y_pred):\n\u001b[1;32m     58\u001b[0m \u001b[38;5;250m    \u001b[39m\u001b[38;5;124;03m\"\"\"Check that y_true and y_pred belong to the same classification task.\u001b[39;00m\n\u001b[1;32m     59\u001b[0m \n\u001b[1;32m     60\u001b[0m \u001b[38;5;124;03m    This converts multiclass or binary types to a common shape, and raises a\u001b[39;00m\n\u001b[0;32m   (...)\u001b[0m\n\u001b[1;32m     82\u001b[0m \u001b[38;5;124;03m    y_pred : array or indicator matrix\u001b[39;00m\n\u001b[1;32m     83\u001b[0m \u001b[38;5;124;03m    \"\"\"\u001b[39;00m\n\u001b[0;32m---> 84\u001b[0m     \u001b[43mcheck_consistent_length\u001b[49m\u001b[43m(\u001b[49m\u001b[43my_true\u001b[49m\u001b[43m,\u001b[49m\u001b[43m \u001b[49m\u001b[43my_pred\u001b[49m\u001b[43m)\u001b[49m\n\u001b[1;32m     85\u001b[0m     type_true \u001b[38;5;241m=\u001b[39m type_of_target(y_true, input_name\u001b[38;5;241m=\u001b[39m\u001b[38;5;124m\"\u001b[39m\u001b[38;5;124my_true\u001b[39m\u001b[38;5;124m\"\u001b[39m)\n\u001b[1;32m     86\u001b[0m     type_pred \u001b[38;5;241m=\u001b[39m type_of_target(y_pred, input_name\u001b[38;5;241m=\u001b[39m\u001b[38;5;124m\"\u001b[39m\u001b[38;5;124my_pred\u001b[39m\u001b[38;5;124m\"\u001b[39m)\n",
      "File \u001b[0;32m~/anaconda3/envs/jpn_ubuntu/lib/python3.8/site-packages/sklearn/utils/validation.py:407\u001b[0m, in \u001b[0;36mcheck_consistent_length\u001b[0;34m(*arrays)\u001b[0m\n\u001b[1;32m    405\u001b[0m uniques \u001b[38;5;241m=\u001b[39m np\u001b[38;5;241m.\u001b[39munique(lengths)\n\u001b[1;32m    406\u001b[0m \u001b[38;5;28;01mif\u001b[39;00m \u001b[38;5;28mlen\u001b[39m(uniques) \u001b[38;5;241m>\u001b[39m \u001b[38;5;241m1\u001b[39m:\n\u001b[0;32m--> 407\u001b[0m     \u001b[38;5;28;01mraise\u001b[39;00m \u001b[38;5;167;01mValueError\u001b[39;00m(\n\u001b[1;32m    408\u001b[0m         \u001b[38;5;124m\"\u001b[39m\u001b[38;5;124mFound input variables with inconsistent numbers of samples: \u001b[39m\u001b[38;5;132;01m%r\u001b[39;00m\u001b[38;5;124m\"\u001b[39m\n\u001b[1;32m    409\u001b[0m         \u001b[38;5;241m%\u001b[39m [\u001b[38;5;28mint\u001b[39m(l) \u001b[38;5;28;01mfor\u001b[39;00m l \u001b[38;5;129;01min\u001b[39;00m lengths]\n\u001b[1;32m    410\u001b[0m     )\n",
      "\u001b[0;31mValueError\u001b[0m: Found input variables with inconsistent numbers of samples: [462, 93]"
     ]
    }
   ],
   "source": [
    "\n",
    "\n",
    "selector = SelectFromModel(model_initial, prefit=True)\n",
    "important_features = selector.transform(X_train6)\n",
    "\n",
    "model_final = RandomForestClassifier()\n",
    "model_final.fit(important_features, y_train6)\n",
    "\n",
    "y_pred = model.predict(X_test6)\n",
    "\n",
    "accuracy = accuracy_score(y_test6, y_pred)\n",
    "print(\"Accuracy:\", accuracy)\n",
    "\n",
    "# 6. Prédiction des classes\n",
    "X_test6_transformed = selector.transform(X_test6)\n",
    "y_pred_classes = model_final.predict(X_test6_transformed)\n",
    "# 8. Rapport de classification complet\n",
    "print(classification_report(y, y_pred_classes))"
   ]
  },
  {
   "cell_type": "code",
   "execution_count": 44,
   "metadata": {},
   "outputs": [
    {
     "data": {
      "text/plain": [
       "(369, 6)"
      ]
     },
     "execution_count": 44,
     "metadata": {},
     "output_type": "execute_result"
    }
   ],
   "source": [
    "important_features.shape"
   ]
  },
  {
   "cell_type": "code",
   "execution_count": null,
   "metadata": {},
   "outputs": [
    {
     "data": {
      "text/plain": [
       "array([[1.660e+02, 8.000e-01, 5.630e+00, ..., 5.000e+01, 3.472e+01,\n",
       "        6.000e+01],\n",
       "       [1.180e+02, 1.200e-01, 1.960e+00, ..., 3.700e+01, 2.001e+01,\n",
       "        1.800e+01],\n",
       "       [1.260e+02, 5.100e+00, 2.960e+00, ..., 5.500e+01, 2.552e+01,\n",
       "        3.800e+01],\n",
       "       ...,\n",
       "       [1.300e+02, 8.000e-02, 5.590e+00, ..., 5.000e+01, 2.498e+01,\n",
       "        4.300e+01],\n",
       "       [1.360e+02, 0.000e+00, 1.770e+00, ..., 4.500e+01, 2.151e+01,\n",
       "        1.600e+01],\n",
       "       [1.180e+02, 0.000e+00, 4.340e+00, ..., 5.200e+01, 3.218e+01,\n",
       "        4.600e+01]])"
      ]
     },
     "execution_count": 21,
     "metadata": {},
     "output_type": "execute_result"
    }
   ],
   "source": [
    "important_features"
   ]
  }
 ],
 "metadata": {
  "kernelspec": {
   "display_name": "jpn_ubuntu",
   "language": "python",
   "name": "python3"
  },
  "language_info": {
   "codemirror_mode": {
    "name": "ipython",
    "version": 3
   },
   "file_extension": ".py",
   "mimetype": "text/x-python",
   "name": "python",
   "nbconvert_exporter": "python",
   "pygments_lexer": "ipython3",
   "version": "3.8.20"
  },
  "toc": {
   "base_numbering": 1,
   "nav_menu": {},
   "number_sections": true,
   "sideBar": true,
   "skip_h1_title": false,
   "title_cell": "Table of Contents",
   "title_sidebar": "Contents",
   "toc_cell": false,
   "toc_position": {},
   "toc_section_display": true,
   "toc_window_display": false
  }
 },
 "nbformat": 4,
 "nbformat_minor": 2
}
