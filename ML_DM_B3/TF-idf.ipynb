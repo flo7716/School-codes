{
 "cells": [
  {
   "cell_type": "code",
   "execution_count": 10,
   "metadata": {},
   "outputs": [],
   "source": [
    "import requests\n",
    "from bs4 import BeautifulSoup\n",
    "import pandas as pd\n",
    "\n",
    "import string\n",
    "import nltk\n",
    "from nltk.corpus import stopwords\n",
    "from nltk.tokenize import sent_tokenize, word_tokenize\n",
    "\n",
    "from sklearn.feature_extraction.text import TfidfVectorizer, CountVectorizer\n",
    "from sklearn.preprocessing import normalize\n",
    "from sklearn.metrics.pairwise import cosine_similarity\n",
    "\n",
    "import numpy as np\n",
    "import re\n",
    "\n"
   ]
  },
  {
   "cell_type": "code",
   "execution_count": 11,
   "metadata": {},
   "outputs": [],
   "source": [
    "def clean_filename(url):\n",
    "    return re.sub(r'[\\/:*?\"<>|]', '_', url)"
   ]
  },
  {
   "cell_type": "code",
   "execution_count": 12,
   "metadata": {},
   "outputs": [
    {
     "ename": "FileNotFoundError",
     "evalue": "[Errno 2] No such file or directory: 'technology.txt'",
     "output_type": "error",
     "traceback": [
      "\u001b[1;31m---------------------------------------------------------------------------\u001b[0m",
      "\u001b[1;31mFileNotFoundError\u001b[0m                         Traceback (most recent call last)",
      "Cell \u001b[1;32mIn[12], line 1\u001b[0m\n\u001b[1;32m----> 1\u001b[0m \u001b[38;5;28;01mwith\u001b[39;00m \u001b[38;5;28;43mopen\u001b[39;49m\u001b[43m(\u001b[49m\u001b[38;5;124;43m\"\u001b[39;49m\u001b[38;5;124;43mtechnology.txt\u001b[39;49m\u001b[38;5;124;43m\"\u001b[39;49m\u001b[43m,\u001b[49m\u001b[43m \u001b[49m\u001b[38;5;124;43m\"\u001b[39;49m\u001b[38;5;124;43mr\u001b[39;49m\u001b[38;5;124;43m\"\u001b[39;49m\u001b[43m)\u001b[49m \u001b[38;5;28;01mas\u001b[39;00m f:\n\u001b[0;32m      2\u001b[0m     url_list \u001b[38;5;241m=\u001b[39m f\u001b[38;5;241m.\u001b[39mread()\u001b[38;5;241m.\u001b[39msplitlines()\n\u001b[0;32m      5\u001b[0m \u001b[38;5;28;01mfor\u001b[39;00m url \u001b[38;5;129;01min\u001b[39;00m url_list:\n",
      "File \u001b[1;32mc:\\Users\\flori\\anaconda3\\envs\\jpn_dm\\lib\\site-packages\\IPython\\core\\interactiveshell.py:284\u001b[0m, in \u001b[0;36m_modified_open\u001b[1;34m(file, *args, **kwargs)\u001b[0m\n\u001b[0;32m    277\u001b[0m \u001b[38;5;28;01mif\u001b[39;00m file \u001b[38;5;129;01min\u001b[39;00m {\u001b[38;5;241m0\u001b[39m, \u001b[38;5;241m1\u001b[39m, \u001b[38;5;241m2\u001b[39m}:\n\u001b[0;32m    278\u001b[0m     \u001b[38;5;28;01mraise\u001b[39;00m \u001b[38;5;167;01mValueError\u001b[39;00m(\n\u001b[0;32m    279\u001b[0m         \u001b[38;5;124mf\u001b[39m\u001b[38;5;124m\"\u001b[39m\u001b[38;5;124mIPython won\u001b[39m\u001b[38;5;124m'\u001b[39m\u001b[38;5;124mt let you open fd=\u001b[39m\u001b[38;5;132;01m{\u001b[39;00mfile\u001b[38;5;132;01m}\u001b[39;00m\u001b[38;5;124m by default \u001b[39m\u001b[38;5;124m\"\u001b[39m\n\u001b[0;32m    280\u001b[0m         \u001b[38;5;124m\"\u001b[39m\u001b[38;5;124mas it is likely to crash IPython. If you know what you are doing, \u001b[39m\u001b[38;5;124m\"\u001b[39m\n\u001b[0;32m    281\u001b[0m         \u001b[38;5;124m\"\u001b[39m\u001b[38;5;124myou can use builtins\u001b[39m\u001b[38;5;124m'\u001b[39m\u001b[38;5;124m open.\u001b[39m\u001b[38;5;124m\"\u001b[39m\n\u001b[0;32m    282\u001b[0m     )\n\u001b[1;32m--> 284\u001b[0m \u001b[38;5;28;01mreturn\u001b[39;00m \u001b[43mio_open\u001b[49m\u001b[43m(\u001b[49m\u001b[43mfile\u001b[49m\u001b[43m,\u001b[49m\u001b[43m \u001b[49m\u001b[38;5;241;43m*\u001b[39;49m\u001b[43margs\u001b[49m\u001b[43m,\u001b[49m\u001b[43m \u001b[49m\u001b[38;5;241;43m*\u001b[39;49m\u001b[38;5;241;43m*\u001b[39;49m\u001b[43mkwargs\u001b[49m\u001b[43m)\u001b[49m\n",
      "\u001b[1;31mFileNotFoundError\u001b[0m: [Errno 2] No such file or directory: 'technology.txt'"
     ]
    }
   ],
   "source": [
    "with open(\"technology.txt\", \"r\") as f:\n",
    "    url_list = f.read().splitlines()\n",
    "\n",
    "\n",
    "for url in url_list:\n",
    "    response = requests.get(url)\n",
    "    if response.status_code == 200:\n",
    "        html_content = response.text  \n",
    "    else:\n",
    "        print(f\"Failed to retrieve {url}\")\n",
    "    html_content  \n",
    "    soup = BeautifulSoup(html_content, 'html.parser')\n",
    "    paragraphs = soup.find_all('p')\n",
    "    article_text = ' '.join([para.get_text() for para in paragraphs])\n",
    "\n",
    "    with open(f\"scraped_article_{clean_filename(url)}.txt\", \"w\") as f:\n",
    "        f.write(article_text)\n",
    "\n",
    "    nltk.download('punkt')\n",
    "    nltk.download('stopwords')\n",
    "\n",
    "    with open(f\"scraped_article_{clean_filename(url)}.txt\", \"r\") as f:\n",
    "        article_text = f.read()\n",
    "\n",
    "    sentences = sent_tokenize(article_text)\n",
    "\n",
    "    stop_words = set(stopwords.words('english'))\n",
    "    cleaned_sentences_nltk = []\n",
    "\n",
    "    for sentence in sentences:\n",
    "        words = word_tokenize(sentence.lower())\n",
    "        words = [word for word in words if word not in stop_words and word not in string.punctuation]\n",
    "        cleaned_sentences_nltk.append(' '.join(words))\n",
    "\n",
    "    print(cleaned_sentences_nltk)\n",
    "    cvect = CountVectorizer(ngram_range=(1,1), token_pattern='(?u)\\\\b\\\\w+\\\\b')\n",
    "    counts = cvect.fit_transform(cleaned_sentences_nltk)\n",
    "    normalized_counts = normalize(counts, norm='l1', axis=1)\n",
    "\n",
    "    tfidf = TfidfVectorizer(ngram_range=(1,1))\n",
    "    tfs = tfidf.fit_transform(cleaned_sentences_nltk)\n",
    "\n",
    "    sentence_scores = np.sum(tfs.toarray(), axis=1)\n",
    "\n",
    "    num_sentences = 5\n",
    "    top_sentence_indices = np.argsort(sentence_scores)[-num_sentences:]\n",
    "\n",
    "    # Sélection des phrases les plus importantes\n",
    "    summary = [sentences[i] for i in sorted(top_sentence_indices)]\n",
    "\n",
    "    \n",
    "    vectorizer = CountVectorizer().fit_transform(summary)\n",
    "    vectors = vectorizer.toarray()\n",
    "    cosine_matrix = cosine_similarity(vectors)\n",
    "\n",
    "    threshold = 0.7\n",
    "    redundant_sentences = set()\n",
    "\n",
    "    for i in range(len(cosine_matrix)):\n",
    "        for j in range(i + 1, len(cosine_matrix)):\n",
    "            if cosine_matrix[i][j] > threshold:\n",
    "                redundant_sentences.add(j)\n",
    "\n",
    "\n",
    "    filtered_summary = [sentence for idx, sentence in enumerate(summary) if idx not in redundant_sentences]\n",
    "    \n",
    "    with open(f\"summary_{clean_filename(url)}.txt\", \"w\") as f:\n",
    "        for sentence in filtered_summary:\n",
    "            f.write(sentence + \"\\n\")\n",
    "        f.close()"
   ]
  }
 ],
 "metadata": {
  "kernelspec": {
   "display_name": "jpn_dm",
   "language": "python",
   "name": "python3"
  },
  "language_info": {
   "codemirror_mode": {
    "name": "ipython",
    "version": 3
   },
   "file_extension": ".py",
   "mimetype": "text/x-python",
   "name": "python",
   "nbconvert_exporter": "python",
   "pygments_lexer": "ipython3",
   "version": "3.8.20"
  }
 },
 "nbformat": 4,
 "nbformat_minor": 2
}
