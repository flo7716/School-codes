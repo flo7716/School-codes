{
 "cells": [
  {
   "cell_type": "code",
   "execution_count": 4,
   "metadata": {},
   "outputs": [],
   "source": [
    "import requests\n",
    "from bs4 import BeautifulSoup\n",
    "import pandas as pd\n",
    "\n",
    "import string\n",
    "import nltk\n",
    "from nltk.corpus import stopwords\n",
    "from nltk.tokenize import sent_tokenize, word_tokenize\n",
    "\n",
    "from sklearn.feature_extraction.text import TfidfVectorizer, CountVectorizer\n",
    "from sklearn.preprocessing import normalize\n",
    "from sklearn.metrics.pairwise import cosine_similarity\n",
    "\n",
    "\n",
    "import numpy as np\n",
    "import re\n",
    "\n"
   ]
  },
  {
   "cell_type": "code",
   "execution_count": 5,
   "metadata": {},
   "outputs": [],
   "source": [
    "def clean_filename(url):\n",
    "    return re.sub(r'[\\/:*?\"<>|]', '_', url)"
   ]
  },
  {
   "cell_type": "code",
   "execution_count": 6,
   "metadata": {},
   "outputs": [
    {
     "name": "stderr",
     "output_type": "stream",
     "text": [
      "[nltk_data] Downloading package punkt to\n",
      "[nltk_data]     C:\\Users\\flori\\AppData\\Roaming\\nltk_data...\n",
      "[nltk_data]   Package punkt is already up-to-date!\n",
      "[nltk_data] Downloading package stopwords to\n",
      "[nltk_data]     C:\\Users\\flori\\AppData\\Roaming\\nltk_data...\n",
      "[nltk_data]   Package stopwords is already up-to-date!\n"
     ]
    },
    {
     "name": "stdout",
     "output_type": "stream",
     "text": [
      "['markets hot stocks fear greed index latest market news hot stocks ghost shark manta ray protect undersea realm', 'sounds like plot future marvel movie actual fact ’ could future pacific naval defenses', 'ghost shark manta ray names prototype uncrewed underwater vehicles – uuvs drones – introduced recently australia united states respectively', 'experts say submersibles could represent future undersea warfare showing ability exert power minimizing danger human life', 'use drones aerial warfare become commonplace', 'us used extensively conflicts iraq afghanistan beginning 1990s newer cheaper drones become key pieces military hardware sides russia ’ invasion ukraine', 'kyiv also built naval surface drones inflicted heavy losses much larger expensive ships russia ’ black sea fleet', 'aerial surface sea drones controlled using satellites light radio waves', '’ function way depths', '2023 study published swiss journal sensors points underwater communications require energy still see significant data loss variables including water temperature salinity depth', 'makers new generation military uuvs ’ saying would overcome communications problems', 'australia unveiled ghost shark last month called prototypes “ advanced undersea autonomous vehicles world. ” “ ghost shark provide navy stealthy long-range autonomous undersea warfare capability conduct persistent intelligence surveillance reconnaissance isr strike ” statement australian defense ministry said adding expects first production models delivered end next year', 'australian officials manufacturer anduril australia said could share specs ghost shark remain classified', 'touted speed submersible gone idea testing program started two years ago', '“ ahead schedule budget ’ pretty unheard ” shane arnott anduril ’ senior vice president engineering told reporters', '“ delivering first ghost shark prototype ahead schedule sets new standard capability development speed need ” australia ’ chief defense scientist tanya monro said statement', 'emma salisbury fellow british think tank council geostrategy said ghost shark seems much like orca extra-large uuv developed us', 'related article ukrainian pilot outlines drones powered jet skis sunk russian warship “ assume intended roughly similar mission sets – persistent intelligence surveillance reconnaissance strike capability particularly anti-submarine domain ” salisbury said', 'us navy called boeing-built orca uuv “ cutting-edge autonomous unmanned diesel-electric submarine modular payload section execute variety missions ” december news release delivery first orca test platform early prototype', 'modular payload means orca theory could carry different weapons varieties depending upon task fitted specialized equipment reconnaissance possibly intelligence gathering', 'release said pentagon would acquire five uuvs without giving timetable', 'us orca works decade navy release said sharp contrast speed australia developed ghost shark', 'chris brose anduril ’ chief strategy officer said company australia “ process proving ” “ kinds capabilities built much faster much cheaper much intelligently. ” anduril australia said entirely domestically developed ghost shark would made available export joins australian naval fleet', 'meanwhile back across pacific orca ’ uuv developed us', 'america ’ latest uuv entry northrop grumman ’ manta ray prototype tested southern california february march', 'defense advanced research products agency darpa pentagon branch charge developing new technologies says manta ray ’ strength modularity ability switch payloads depending mission', 'broken fit five standard shipping containers move ’ going deployed reassembled field according northrop grumman', 'prototype built maryland reassembled california coast', '“ combination cross-country modular transportation in-field assembly subsequent deployment demonstrates first-of-kind capability extra-large uuv ” kyle woerner heads manta ray program darpa said agency news release', 'also noted modular transport method means manta ray save internal energy mission rather using get deployment site', 'like orca manta ray ’ come together quickly ghost shark', 'program began 2020 darpa ’ give goal manta ray – variant – join us fleet', 'related article houthi missile seconds hitting us warship', 'navy used ‘ last line defense ’ “ darpa engaging u.s. navy next steps testing transition technology ” agency ’ release said', 'meanwhile china named us military “ pacing threat ” pacific also making advances uuvs salisbury said', '“ details scarce chinese capabilities developing least 15 years likely something similar orca torpedoes testing phase ” said', 'submarine expert h sutton says covert shores website according analysis open-source intelligence beijing believed least six extra-large uuvs development', 'besides australia us china countries working uuvs include canada france india iran israel north korea norway russia south korea ukraine united kingdom according sutton', 'stock quote data provided bats', 'us market indices shown real time except p 500 refreshed every two minutes', 'times et', 'factset factset research systems inc. rights reserved', 'chicago mercantile certain market data property chicago mercantile exchange inc. licensors', 'rights reserved', 'dow jones dow jones branded indices proprietary calculated distributed marketed dji opco subsidiary p dow jones indices llc licensed use p opco llc cnn', 'standard poor ’ p registered trademarks standard poor ’ financial services llc dow jones registered trademark dow jones trademark holdings llc', 'content dow jones branded indices copyright p dow jones indices llc and/or affiliates', 'fair value provided indexarb.com', 'market holidays trading hours provided copp clark limited', '© 2024 cable news network', 'warner bros', 'discovery company', 'rights reserved', 'cnn sans ™ © 2016 cable news network']\n",
      "['russian officials say shot 144 ukrainian drones around country overnight wave attacks killed one woman set residential buildings fire grounded flights moscow', 'governor moscow andrei vorobyov said several flats two high-rise apartment buildings ramenskoye moscow region set fire', 'mr vorobyov said 46-year-old woman died three people injured ramenskoye 43 people evacuated temporary accommodation centres', \"ukraine far commented attacks kremlin tuesday said attack showed ukraine russia 's enemy\", \"kremlin spokesperson dmitry peskov said daily call reporters strike showed need russia continue war ukraine saying `` must continue military operation order protect displays regime ''\", \"russia 's defence ministry said earlier 144 drones air defences intercepted half western border region bryansk 20 moscow 14 kursk region\", 'state media reported strikes shut four airports moscow 30 domestic international flights serve russian capital suspended', \"russia 's aviation authority rosaviatsia confirmed telegram tuesday morning three airports domodedovo zhukovsky vnukovo resumed operations\", 'developments tuesday russia said captured least three villages donetsk region eastern ukraine', \"defence ministry also said `` liberated '' town krasnohorivka also donetsk\", 'separately ukrainian air force said telegram air defences downed 38 46 shahed-type attack drones launched russia', 'shot number regions cities including kyiv odesa kherson sumy kharkiv poltova', 'air force added russia also launched iskander-m ballistic missile kh-31 air-to-surface missile', \"ukraine russia regularly launch overnight drone raids 's territory\", 'latest wave drone strikes comes moscow claims gains eastern ukraine', 'last two days moscow said forces captured memryk novohrodivka two villages 24km 10km key town pokrovsk', 'kyiv commented sources told bbc ukrainian forces retreated novohrodivka', 'far month russia launched wave deadly strikes lviv poltava kharkiv', \"russia 's response ukraine hardened kyiv launched offensive country 's kursk region last month\", 'felt shadow russia ’ war ukraine former soviet republics', 'dawn sturgess inadvertently exposed deadly nerve agent novichok amesbury 2018', 'provides overview north ossetia including key facts russian caucasian republic', 'russian whale watcher found alive along two dead relatives two months set', 'manx charity donates engine formerly used island fire station southern ukraine', 'copyright 2024 bbc', 'rights reserved', 'bbc responsible content external sites', 'read approach external linking']\n",
      "['western technology finance helping ukraine carry hundreds long-range strikes inside russia', 'despite nato allies still refusing give ukraine permission use western-supplied munitions – mostly fears escalation', 'ukraine stepping long-range strikes inside russia past months launching scores drones simultaneously strategic targets several times week', 'targets include air force bases oil ammunition depots command centres', 'ukrainian firms producing hundreds armed one-way attack drones month fraction cost takes produce similar drone west', 'one company told bbc already creating disproportionate impact russia ’ war economy relatively small expense', 'bbc briefed number involved missions', 'include one ukraine ’ largest one-way attack drone manufacturers well big data company helped develop software ukraine carry strikes', 'francisco serra-martins says strategy already creating huge dilemmas moscow', 'believes extra investment turn tide war ukraine ’ favour', 'eighteen months ago company co-founded terminal autonomy ’ even exist', 'producing hundred aq400 scythe long-range drones month range 750km 465 miles', 'company also makes hundreds shorter range aq100 bayonet drones month fly hundred kilometres', 'drones made wood assembled former furniture factories ukraine', 'mr serra-martins former australian army royal engineer set company ukrainian co-founder backed us finance', 'one least three companies producing drones ukraine scale', 'describes drones “ basically flying furniture – assemble like ikea ”', 'takes hour build fuselage half time put brains inside – electronics motor explosives', 'company ’ bayonet drone costs thousand dollars', 'contrast russian air defence missile used shoot cost 1m', 'cheap drones making difference', 'palantir large us data analysis company one first western tech companies aid ukraine ’ war effort', 'started providing software improve speed accuracy artillery strikes', 'given ukraine new tools plan long-range drone strikes', 'british engineers palantir working ukrainian counterparts designed programme generate map best ways reach target', 'palantir makes clear involved missions helped train 1,000 ukrainians use software', 'bbc shown works principle', 'using streams data map russia ’ air defences radar electronic jammers', 'end product looks similar topographical chart', 'tighter contours heavier air defences', 'locations already identified ukraine using commercial satellite imagery signals intelligence', 'louis mosley palantir says programme helping ukraine skirt around russia ’ electronic warfare air defence systems reach target', '“ understanding visualising looks like across entire battle space really critical optimising missions ” says', 'execution long-range drone strikes co-ordinated ukraine ’ intelligence agencies work secrecy', 'bbc told sources detail', 'scores drones fired one mission – many 60 one target', 'attacks mostly carried night', 'shot', '10 may reach target', 'drones even shot along way friendly fire ukraine ’ air defences', 'ukraine work ways counter russian electronic jamming', 'terminal autonomy ’ scythe drone uses visual positioning – navigating course examining terrain artificial intelligence', 'pilot involved', 'palantir software already mapped best routes', 'mr serra-martins says flying lot drones key overwhelming exhausting russia ’ air defences', 'making drones cheaper missiles trying shoot targets trying hit', 'prof justin bronk royal united services institute says ukraine ’ long-range drone attacks creating dilemmas moscow', 'although russia lot air defences still protect everything', 'prof bronk says ukraine ’ long-range strikes showing ordinary russians “ state ’ defend fully russia vulnerable ”', 'ukrainian drones spotted 1,000km 620 miles inside russia', 'shot moscow', 'focus military sites', 'map highlights handful dozen targets hit past months', 'include five russian airbases', 'prof justin bronk says targeting russian airbases far effective way ukraine respond russia ’ glide bombs', 'forced russia move aircraft bases away reduce frequency attacks', 'satellite imagery shows ukrainian drones successfully damaged hangars marinovka airbase', 'ukraine clearly believes could even help western-made long-range weapons', 'far allies rejected kyiv ’ pleas', 'still lingering fear especially washington berlin could drag west conflict', '’ stopped western companies finance helping ukraine', 'ukraine still largely rely home-grown efforts convinced bringing war russia key winning war', 'francisco serra-martins also believes western manufacturers still “ woefully unprepared ” fight high-intensity warfare – producing far fewer long-range weapons much higher cost', 'says ukraine really needs “ lot good enough systems ”', 'bbc talked one ukrainian company already developing new cruise missile least 10 times cheaper british-made storm shadow missile', 'despite west ’ misgivings ukraine planning step attacks russia', \"mr serra-martins says “ ’ seeing like nothing compared ’ see end year ''\", 'dawn sturgess inadvertently exposed deadly nerve agent novichok amesbury 2018', \"us treasury announces move ukrainian president called china 's involvement russian arms\", 'provides overview north ossetia including key facts russian caucasian republic', 'key elements include formal invitation join nato refusal cede ukrainian territory', 'russian whale watcher found alive along two dead relatives two months set', 'copyright 2024 bbc', 'rights reserved', 'bbc responsible content external sites', 'read approach external linking']\n"
     ]
    },
    {
     "name": "stderr",
     "output_type": "stream",
     "text": [
      "[nltk_data] Downloading package punkt to\n",
      "[nltk_data]     C:\\Users\\flori\\AppData\\Roaming\\nltk_data...\n",
      "[nltk_data]   Package punkt is already up-to-date!\n",
      "[nltk_data] Downloading package stopwords to\n",
      "[nltk_data]     C:\\Users\\flori\\AppData\\Roaming\\nltk_data...\n",
      "[nltk_data]   Package stopwords is already up-to-date!\n",
      "[nltk_data] Downloading package punkt to\n",
      "[nltk_data]     C:\\Users\\flori\\AppData\\Roaming\\nltk_data...\n",
      "[nltk_data]   Package punkt is already up-to-date!\n",
      "[nltk_data] Downloading package stopwords to\n",
      "[nltk_data]     C:\\Users\\flori\\AppData\\Roaming\\nltk_data...\n",
      "[nltk_data]   Package stopwords is already up-to-date!\n"
     ]
    }
   ],
   "source": [
    "with open(\"urls.txt\", \"r\") as f:\n",
    "    url_list = f.read().splitlines()\n",
    "\n",
    "\n",
    "for url in url_list:\n",
    "    response = requests.get(url)\n",
    "    if response.status_code == 200:\n",
    "        html_content = response.text  \n",
    "    else:\n",
    "        print(f\"Failed to retrieve {url}\")\n",
    "    html_content  \n",
    "    soup = BeautifulSoup(html_content, 'html.parser')\n",
    "    paragraphs = soup.find_all('p')\n",
    "    article_text = ' '.join([para.get_text() for para in paragraphs])\n",
    "\n",
    "    with open(f\"scraped_article_{clean_filename(url)}.txt\", \"w\") as f:\n",
    "        f.write(article_text)\n",
    "\n",
    "    nltk.download('punkt')\n",
    "    nltk.download('stopwords')\n",
    "\n",
    "    with open(f\"scraped_article_{clean_filename(url)}.txt\", \"r\") as f:\n",
    "        article_text = f.read()\n",
    "\n",
    "    sentences = sent_tokenize(article_text)\n",
    "\n",
    "    stop_words = set(stopwords.words('english'))\n",
    "    cleaned_sentences_nltk = []\n",
    "\n",
    "    for sentence in sentences:\n",
    "        words = word_tokenize(sentence.lower())\n",
    "        words = [word for word in words if word not in stop_words and word not in string.punctuation]\n",
    "        cleaned_sentences_nltk.append(' '.join(words))\n",
    "\n",
    "    print(cleaned_sentences_nltk)\n",
    "    cvect = CountVectorizer(ngram_range=(1,1), token_pattern='(?u)\\\\b\\\\w+\\\\b')\n",
    "    counts = cvect.fit_transform(cleaned_sentences_nltk)\n",
    "    normalized_counts = normalize(counts, norm='l1', axis=1)\n",
    "\n",
    "    tfidf = TfidfVectorizer(ngram_range=(1,1))\n",
    "    tfs = tfidf.fit_transform(cleaned_sentences_nltk)\n",
    "\n",
    "    sentence_scores = np.sum(tfs.toarray(), axis=1)\n",
    "\n",
    "    num_sentences = 5\n",
    "    top_sentence_indices = np.argsort(sentence_scores)[-num_sentences:]\n",
    "\n",
    "    # Sélection des phrases les plus importantes\n",
    "    summary = [sentences[i] for i in sorted(top_sentence_indices)]\n",
    "\n",
    "    \n",
    "    vectorizer = CountVectorizer().fit_transform(summary)\n",
    "    vectors = vectorizer.toarray()\n",
    "    cosine_matrix = cosine_similarity(vectors)\n",
    "\n",
    "    threshold = 0.7\n",
    "    redundant_sentences = set()\n",
    "\n",
    "    for i in range(len(cosine_matrix)):\n",
    "        for j in range(i + 1, len(cosine_matrix)):\n",
    "            if cosine_matrix[i][j] > threshold:\n",
    "                redundant_sentences.add(j)\n",
    "\n",
    "\n",
    "    filtered_summary = [sentence for idx, sentence in enumerate(summary) if idx not in redundant_sentences]\n",
    "    \n",
    "    with open(f\"summary_{clean_filename(url)}.txt\", \"w\") as f:\n",
    "        for sentence in filtered_summary:\n",
    "            f.write(sentence + \"\\n\")\n",
    "        f.close()"
   ]
  }
 ],
 "metadata": {
  "kernelspec": {
   "display_name": "jpn_dm",
   "language": "python",
   "name": "python3"
  },
  "language_info": {
   "codemirror_mode": {
    "name": "ipython",
    "version": 3
   },
   "file_extension": ".py",
   "mimetype": "text/x-python",
   "name": "python",
   "nbconvert_exporter": "python",
   "pygments_lexer": "ipython3",
   "version": "3.8.20"
  }
 },
 "nbformat": 4,
 "nbformat_minor": 2
}
